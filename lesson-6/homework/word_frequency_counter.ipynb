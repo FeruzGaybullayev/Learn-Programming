{
 "cells": [
  {
   "cell_type": "code",
   "execution_count": 137,
   "metadata": {},
   "outputs": [
    {
     "name": "stdout",
     "output_type": "stream",
     "text": [
      "Total words: 16\n",
      "Top 5 most common words:\n",
      "is - 3 times\n",
      "file - 3 times\n",
      "this - 2 times\n",
      "a - 2 times\n",
      "simple - 1 times\n"
     ]
    }
   ],
   "source": [
    "from collections import Counter\n",
    "import string\n",
    "\n",
    "# Word Frequency Counter\n",
    "try:\n",
    "    with open(\"sample.txt\", \"r\", encoding=\"utf-8\") as file:\n",
    "        txt = file.read()\n",
    "except FileNotFoundError:\n",
    "    user_input = input(\"File sample.txt not found. Can you Str, please:\\n\")\n",
    "    with open(\"sample.txt\", \"w\", encoding=\"utf-8\") as file:\n",
    "        file.write(user_input)\n",
    "    txt = user_input\n",
    "\n",
    "# Convert lowercase\n",
    "txt = txt.lower().translate(str.maketrans('', '', string.punctuation))\n",
    "words = txt.split()\n",
    "\n",
    "# Count \n",
    "word_count = Counter(words)\n",
    "total_words = sum(word_count.values())\n",
    "\n",
    "# top common 5\n",
    "top_5 = word_count.most_common(5)\n",
    "\n",
    "\n",
    "# File word_count...\n",
    "with open(\"word_count_report.txt\", \"w\", encoding=\"utf-8\") as f:\n",
    "    f.write(\"Word Count Report\\n\")\n",
    "    f.write(f\"Total Words: {total_words}\\n\")\n",
    "    f.write(\"Top 5 Words:\\n\")\n",
    "    for word, count in top_5:\n",
    "        f.write(f\"{word} - {count} times\\n\")\n",
    "\n",
    "# output\n",
    "print(f\"Total words: {total_words}\")\n",
    "print(\"Top 5 most common words:\")\n",
    "for word, count in top_5:\n",
    "    print(f\"{word} - {count} times\")"
   ]
  }
 ],
 "metadata": {
  "kernelspec": {
   "display_name": "Python 3",
   "language": "python",
   "name": "python3"
  },
  "language_info": {
   "codemirror_mode": {
    "name": "ipython",
    "version": 3
   },
   "file_extension": ".py",
   "mimetype": "text/x-python",
   "name": "python",
   "nbconvert_exporter": "python",
   "pygments_lexer": "ipython3",
   "version": "3.12.9"
  }
 },
 "nbformat": 4,
 "nbformat_minor": 2
}
