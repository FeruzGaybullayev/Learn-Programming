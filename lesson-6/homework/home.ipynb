{
 "cells": [
  {
   "cell_type": "code",
   "execution_count": 30,
   "metadata": {},
   "outputs": [
    {
     "name": "stdout",
     "output_type": "stream",
     "text": [
      "1.25\n",
      "Denominator can't be zero\n",
      "None\n"
     ]
    }
   ],
   "source": [
    "# Zero Check Decorator \n",
    "def check(func):\n",
    "    def wrapper(a, b):\n",
    "        try:\n",
    "            return func(a, b)  # Asl funktsiya chaqiriladi\n",
    "        except ZeroDivisionError:\n",
    "            print('Denominator can\\'t be zero')  # 0 ga bo'lish holatida xatolik chiqadi\n",
    "            # return None  # Bu qatorni olib tashlaymiz\n",
    "    return wrapper  # Dekorator asl funktsiyani qaytaradi\n",
    "\n",
    "@check\n",
    "def div(a, b):\n",
    "    return a / b  # Bu asl bo'linish funktsiyasi\n",
    "\n",
    "print(div(5, 4))  # Bu bo'linish amalga oshiriladi\n",
    "print(div(9, 0))  # 0 ga bo'linish xatosi yuz beradi\n"
   ]
  },
  {
   "cell_type": "code",
   "execution_count": 25,
   "metadata": {},
   "outputs": [],
   "source": []
  },
  {
   "cell_type": "code",
   "execution_count": 29,
   "metadata": {},
   "outputs": [
    {
     "data": {
      "text/plain": [
       "1.25"
      ]
     },
     "execution_count": 29,
     "metadata": {},
     "output_type": "execute_result"
    }
   ],
   "source": []
  },
  {
   "cell_type": "code",
   "execution_count": 28,
   "metadata": {},
   "outputs": [
    {
     "name": "stdout",
     "output_type": "stream",
     "text": [
      "Detorminator can't be zero\n"
     ]
    }
   ],
   "source": []
  },
  {
   "cell_type": "code",
   "execution_count": null,
   "metadata": {},
   "outputs": [],
   "source": []
  }
 ],
 "metadata": {
  "kernelspec": {
   "display_name": "Python 3",
   "language": "python",
   "name": "python3"
  },
  "language_info": {
   "codemirror_mode": {
    "name": "ipython",
    "version": 3
   },
   "file_extension": ".py",
   "mimetype": "text/x-python",
   "name": "python",
   "nbconvert_exporter": "python",
   "pygments_lexer": "ipython3",
   "version": "3.12.9"
  }
 },
 "nbformat": 4,
 "nbformat_minor": 2
}
