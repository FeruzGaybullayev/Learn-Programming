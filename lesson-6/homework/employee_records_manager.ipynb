{
 "cells": [
  {
   "cell_type": "code",
   "execution_count": 16,
   "metadata": {},
   "outputs": [],
   "source": [
    "def display_menu():\n",
    "    menu = '''\n",
    "    **Employee Records Manager**    \n",
    "1. Add new employee record\n",
    "2. View all employee records\n",
    "3. Search for an employee by Employee ID\n",
    "4. Update an employee's information\n",
    "5. Delete an employee record\n",
    "6. Exit\n",
    "                '''\n",
    "    print(menu)"
   ]
  },
  {
   "cell_type": "code",
   "execution_count": 17,
   "metadata": {},
   "outputs": [],
   "source": [
    "def add_employee():\n",
    "    employee_id = int(input(\"Enter employee ID: \"))\n",
    "    name = (input(\"Enter employee Name: \"))\n",
    "    position = (input(\"Enter employee Position: \"))\n",
    "    salary = int(input(\"Enter employee Salary: \"))\n",
    "    with open(\"employees.txt\", \"a\") as file:\n",
    "        file.write(f\"\\n{employee_id}, {name}, {position}, {salary}\")"
   ]
  },
  {
   "cell_type": "code",
   "execution_count": 59,
   "metadata": {},
   "outputs": [],
   "source": [
    "def view_employee():\n",
    "    try:\n",
    "        with open(\"employees.txt\", \"r\") as file:\n",
    "            print(file.read())\n",
    "    except FileNotFoundError:\n",
    "        print(\"No records found\")"
   ]
  },
  {
   "cell_type": "code",
   "execution_count": 51,
   "metadata": {},
   "outputs": [],
   "source": [
    "def search_employee():\n",
    "    emp_id = int(input(\"Enter Employee ID to search: \"))\n",
    "    found = False\n",
    "    \n",
    "    with open(\"employees.txt\", \"r\") as file:\n",
    "        lines = file.readlines()\n",
    "        for line in lines:\n",
    "            if line != lines[0]:\n",
    "                emp_data = line.split(\", \")\n",
    "                if int(emp_data[0]) == emp_id:\n",
    "                    print(f\"Employee found: {line}\")\n",
    "                    found = True\n",
    "                    break\n",
    "    if not found:\n",
    "        print(\"Employee not found.\")"
   ]
  },
  {
   "cell_type": "code",
   "execution_count": 74,
   "metadata": {},
   "outputs": [],
   "source": [
    "def update_employee():\n",
    "    emp_id = int(input(\"Enter employee ID to update: \"))\n",
    "    found = False\n",
    "    lines = []\n",
    "    \n",
    "    try:\n",
    "        with open(\"employees.txt\", \"r\") as file:\n",
    "            lines = file.readlines()\n",
    "            for line in lines:\n",
    "                if line != lines[0]:\n",
    "                    emp_data = line.split(\", \")\n",
    "                    if int(emp_id[0]) == emp_id:\n",
    "                        name = (input(\"Enter employee new Name: \"))\n",
    "                        position = (input(\"Enter employee new Position: \"))\n",
    "                        salary = int(input(\"Enter employee new Salary: \"))\n",
    "                        line = f\"\\n{emp_id}, {name}, {position}, {salary}\"\n",
    "                        found = True\n",
    "                file.write(line)\n",
    "        \n",
    "        if not found:\n",
    "            print(\"Employee not found for update: \")\n",
    "    except FileNotFoundError:\n",
    "        print(\"No records found.\")\n",
    "\n",
    "def delete_employee():\n",
    "    emp_id = int(input(\"Enter Employee ID to delete: \"))\n",
    "    found = False\n",
    "    lines = []\n",
    "\n",
    "    try:\n",
    "        with open(\"employees.txt\", \"r\") as file:\n",
    "            lines = file.readlines()\n",
    "\n",
    "        with open(\"employees.txt\", \"w\") as file:\n",
    "            for line in lines:\n",
    "                emp_data = line.split(\", \")\n",
    "                if int(emp_data[0]) == emp_id:\n",
    "                    found = True\n",
    "                    continue  # Skip this line (deletes the employee)\n",
    "                file.write(line)\n",
    "\n",
    "        if not found:\n",
    "            print(\"Employee not found for deletion.\")\n",
    "    except FileNotFoundError:\n",
    "        print(\"No records found.\")"
   ]
  },
  {
   "cell_type": "code",
   "execution_count": 75,
   "metadata": {},
   "outputs": [
    {
     "name": "stdout",
     "output_type": "stream",
     "text": [
      "Employee not found for update: \n"
     ]
    }
   ],
   "source": [
    "update_employee()"
   ]
  },
  {
   "cell_type": "code",
   "execution_count": null,
   "metadata": {},
   "outputs": [],
   "source": [
    "def delete_employee():\n",
    "    pass"
   ]
  },
  {
   "cell_type": "code",
   "execution_count": null,
   "metadata": {},
   "outputs": [],
   "source": []
  },
  {
   "cell_type": "code",
   "execution_count": 62,
   "metadata": {},
   "outputs": [
    {
     "name": "stdout",
     "output_type": "stream",
     "text": [
      "\n",
      "    **Employee Records Manager**    \n",
      "1. Add new employee record\n",
      "2. View all employee records\n",
      "3. Search for an employee by Employee ID\n",
      "4. Update an employee's information\n",
      "5. Delete an employee record\n",
      "6. Exit\n",
      "                \n",
      "Employee ID, Name, Position, Salary\n",
      "1001, John Doe, Software Engineer, 75000\n",
      "1002, Jane Smith, HR Manager, 65000Employee ID, Name, Position, Salary\n",
      "Employee found: 1001, John Doe, Software Engineer, 75000\n",
      "\n",
      "Employee found: 1002, Jane Smith, HR Manager, 65000Employee ID, Name, Position, Salary\n",
      "Employee found: 1001, John Doe, Software Engineer, 75000\n",
      "\n",
      "Employee found: 1001, John Doe, Software Engineer, 75000\n",
      "\n",
      "Process completed.\n"
     ]
    }
   ],
   "source": [
    "# Employee Records Manager\n",
    "with open(\"employees.txt\", \"a\") as file:\n",
    "    file.write(\"Employee ID, Name, Position, Salary\")\n",
    "display_menu()\n",
    "\n",
    "res = int(input(\"Select the menu: \"))\n",
    "response = {1, 2, 3, 4, 5, 6}\n",
    "\n",
    "cont = True\n",
    "\n",
    "while res in response and cont:\n",
    "    if res == 6:\n",
    "        print(\"Process completed.\")\n",
    "        break\n",
    "    else:\n",
    "        if res == 1:\n",
    "            add_employee()\n",
    "            \n",
    "        elif res == 2:\n",
    "            view_employee()\n",
    "\n",
    "        elif res == 3:\n",
    "            search_employee()\n",
    "\n",
    "        elif res == 4:\n",
    "            update_employee()\n",
    "\n",
    "        elif res == 5:\n",
    "            delete_employee()\n",
    "\n",
    "        elif res == 6:\n",
    "            cont = False\n",
    "            \n",
    "        res = int(input(\"Select the menu: \"))\n",
    "        "
   ]
  }
 ],
 "metadata": {
  "kernelspec": {
   "display_name": "Python 3",
   "language": "python",
   "name": "python3"
  },
  "language_info": {
   "codemirror_mode": {
    "name": "ipython",
    "version": 3
   },
   "file_extension": ".py",
   "mimetype": "text/x-python",
   "name": "python",
   "nbconvert_exporter": "python",
   "pygments_lexer": "ipython3",
   "version": "3.12.9"
  }
 },
 "nbformat": 4,
 "nbformat_minor": 2
}
