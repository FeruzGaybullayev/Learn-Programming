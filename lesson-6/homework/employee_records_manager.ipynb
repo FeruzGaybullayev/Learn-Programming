{
 "cells": [
  {
   "cell_type": "code",
   "execution_count": null,
   "metadata": {},
   "outputs": [],
   "source": [
    "# Employee Records Manager\n",
    "with open(\"employees.txt\", \"a\") as file:\n",
    "    file.write(\"Employee ID, Name, Position, Salary\")\n",
    "\n",
    "menu = '''\n",
    "    **Employee Records Manager**    \n",
    "1. Add new employee record\n",
    "2. View all employee records\n",
    "3. Search for an employee by Employee ID\n",
    "4. Update an employee's information\n",
    "5. Delete an employee record\n",
    "6. Exit\n",
    "                '''\n",
    "print(menu)\n",
    "\n",
    "res = int(input(\"Select the menu: \"))\n",
    "response = {1, 2, 3, 4, 5, 6}\n",
    "while res in response:\n",
    "    if res == 1:\n",
    "        employee_id = int(input(\"Enter employee ID: \"))\n",
    "        name = (input(\"Enter employee Name: \"))\n",
    "        position = (input(\"Enter employee Position: \"))\n",
    "        salary = int(input(\"Enter employee Salary: \"))\n",
    "        with open(\"employees.txt\", \"a\") as file:\n",
    "            file.write(f\"\\n{employee_id}, {name}, {position}, {salary}\")\n",
    "    \n",
    "    elif res == 2:\n",
    "        file = open(\"example.txt\", \"r\")\n",
    "        txt = file.read()\n",
    "        print(txt)\n",
    "\n",
    "    elif res == 3:\n",
    "        pass\n",
    "\n",
    "    elif res == 4:\n",
    "        pass\n",
    "\n",
    "    elif res == 6:\n",
    "        res = False\n",
    "\n",
    "    if res != 6:\n",
    "        res = int(input(\"Select the menu: \"))\n",
    "    "
   ]
  },
  {
   "cell_type": "code",
   "execution_count": null,
   "metadata": {},
   "outputs": [],
   "source": []
  },
  {
   "cell_type": "code",
   "execution_count": 1,
   "metadata": {},
   "outputs": [],
   "source": [
    "def display_menu():\n",
    "    menu = '''\n",
    "    **Employee Records Manager**    \n",
    "1. Add new employee record\n",
    "2. View all employee records\n",
    "3. Search for an employee by Employee ID\n",
    "4. Update an employee's information\n",
    "5. Delete an employee record\n",
    "6. Exit\n",
    "                '''\n",
    "    print(menu)"
   ]
  },
  {
   "cell_type": "code",
   "execution_count": 2,
   "metadata": {},
   "outputs": [],
   "source": [
    "def add_employee():\n",
    "    employee_id = int(input(\"Enter employee ID: \"))\n",
    "    name = (input(\"Enter employee Name: \"))\n",
    "    position = (input(\"Enter employee Position: \"))\n",
    "    salary = int(input(\"Enter employee Salary: \"))\n",
    "    with open(\"employees.txt\", \"a\") as file:\n",
    "        file.write(f\"\\n{employee_id}, {name}, {position}, {salary}\")"
   ]
  },
  {
   "cell_type": "code",
   "execution_count": 9,
   "metadata": {},
   "outputs": [],
   "source": [
    "def view_employee():\n",
    "    with open(\"employees.txt\", \"r\") as file:\n",
    "        print(file.read())"
   ]
  },
  {
   "cell_type": "code",
   "execution_count": 10,
   "metadata": {},
   "outputs": [],
   "source": [
    "def search_employee():\n",
    "    emp_id = int(input(\"Enter Employee ID to search: \"))\n",
    "    found = False\n",
    "    \n",
    "    with open(\"employees.txt\", \"r\") as file:\n",
    "        lines = file.readlines()\n",
    "        for line in lines:\n",
    "            emp_data = line.split(\", \")\n",
    "            if int(emp_data[0]) == emp_id:\n",
    "                print(f\"Employee found: {line}\")\n",
    "                found = True\n",
    "                break\n",
    "    if not found:\n",
    "        print(\"Employee not found.\")"
   ]
  },
  {
   "cell_type": "code",
   "execution_count": 11,
   "metadata": {},
   "outputs": [],
   "source": [
    "def update_employee():\n",
    "    pass"
   ]
  },
  {
   "cell_type": "code",
   "execution_count": 12,
   "metadata": {},
   "outputs": [],
   "source": [
    "def delete_employee():\n",
    "    pass"
   ]
  },
  {
   "cell_type": "code",
   "execution_count": null,
   "metadata": {},
   "outputs": [],
   "source": []
  }
 ],
 "metadata": {
  "kernelspec": {
   "display_name": "Python 3",
   "language": "python",
   "name": "python3"
  },
  "language_info": {
   "codemirror_mode": {
    "name": "ipython",
    "version": 3
   },
   "file_extension": ".py",
   "mimetype": "text/x-python",
   "name": "python",
   "nbconvert_exporter": "python",
   "pygments_lexer": "ipython3",
   "version": "3.12.9"
  }
 },
 "nbformat": 4,
 "nbformat_minor": 2
}
