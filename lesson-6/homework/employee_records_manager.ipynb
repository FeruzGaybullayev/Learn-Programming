{
 "cells": [
  {
   "cell_type": "code",
   "execution_count": 22,
   "metadata": {},
   "outputs": [
    {
     "name": "stdout",
     "output_type": "stream",
     "text": [
      "\n",
      "    **Employee Records Manager**    \n",
      "1. Add new employee record\n",
      "2. View all employee records\n",
      "3. Search for an employee by Employee ID\n",
      "4. Update an employee's information\n",
      "5. Delete an employee record\n",
      "6. Exit\n",
      "                \n"
     ]
    }
   ],
   "source": [
    "# Employee Records Manager\n",
    "file = open(\"employees.txt\", \"w\")\n",
    "file.write('Employee ID, Name, Position, Salary')\n",
    "file.close()\n",
    "\n",
    "menu = '''\n",
    "    **Employee Records Manager**    \n",
    "1. Add new employee record\n",
    "2. View all employee records\n",
    "3. Search for an employee by Employee ID\n",
    "4. Update an employee's information\n",
    "5. Delete an employee record\n",
    "6. Exit\n",
    "                '''\n",
    "print(menu)\n",
    "\n",
    "res = int(input())\n",
    "response = {'1', '2', '3', '4', '5', '6'}\n",
    "while res in response:\n",
    "    if res == 1:\n",
    "        employee_id = int(input(\"Enter employee ID: \"))\n",
    "        name = (input(\"Enter employee Name: \"))\n",
    "        position = (input(\"Enter employee Position: \"))\n",
    "        salary = int(input(\"Enter employee Salary: \"))\n",
    "        with open(\"employees.txt\", \"a\") as file:\n",
    "            file.write(f\"\\n{employee_id}, {name}, {position}, {salary}\")\n",
    "    \n",
    "    elif res == 2:\n",
    "        with open(\"example.txt\", \"a\") as file:\n",
    "            file.read()\n",
    "\n",
    "    elif res == 3:\n",
    "        pass\n",
    "\n",
    "    elif res == 4:\n",
    "        pass\n",
    "\n",
    "    elif res == 6:\n",
    "        file.close()\n",
    "\n",
    "    print(menu)\n",
    "    res = int(input())\n",
    "    "
   ]
  },
  {
   "cell_type": "code",
   "execution_count": 20,
   "metadata": {},
   "outputs": [],
   "source": [
    "if res == 1:\n",
    "    employee_id = int(input(\"Enter employee ID: \"))\n",
    "    name = (input(\"Enter employee Name: \"))\n",
    "    position = (input(\"Enter employee Position: \"))\n",
    "    salary = int(input(\"Enter employee Salary: \"))\n",
    "    with open(\"employees.txt\", \"a\") as file:\n",
    "        file.write(f\"\\n{employee_id}, {name}, {position}, {salary}\")\n",
    "elif res == 2:\n",
    "    with open(\"example.txt\", \"a\") as file:\n",
    "        file.read()\n",
    "elif res == 3:\n",
    "    pass\n",
    "elif res == 4:\n",
    "    pass\n",
    "elif res == 6:\n",
    "    file.close()"
   ]
  },
  {
   "cell_type": "code",
   "execution_count": 88,
   "metadata": {},
   "outputs": [],
   "source": [
    "employee_id = int(input(\"Enter employee ID: \"))\n",
    "name = (input(\"Enter employee Name: \"))\n",
    "position = (input(\"Enter employee Position: \"))\n",
    "salary = int(input(\"Enter employee Salary: \"))"
   ]
  },
  {
   "cell_type": "code",
   "execution_count": 89,
   "metadata": {},
   "outputs": [
    {
     "data": {
      "text/plain": [
       "39"
      ]
     },
     "execution_count": 89,
     "metadata": {},
     "output_type": "execute_result"
    }
   ],
   "source": [
    "file.write(f\"{employee_id}, {name}, {position}, {salary}\")"
   ]
  },
  {
   "cell_type": "code",
   "execution_count": 3,
   "metadata": {},
   "outputs": [],
   "source": [
    "file.close()"
   ]
  },
  {
   "cell_type": "code",
   "execution_count": null,
   "metadata": {},
   "outputs": [],
   "source": []
  }
 ],
 "metadata": {
  "kernelspec": {
   "display_name": "Python 3",
   "language": "python",
   "name": "python3"
  },
  "language_info": {
   "codemirror_mode": {
    "name": "ipython",
    "version": 3
   },
   "file_extension": ".py",
   "mimetype": "text/x-python",
   "name": "python",
   "nbconvert_exporter": "python",
   "pygments_lexer": "ipython3",
   "version": "3.12.9"
  }
 },
 "nbformat": 4,
 "nbformat_minor": 2
}
