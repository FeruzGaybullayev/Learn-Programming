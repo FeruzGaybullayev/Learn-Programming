{
 "cells": [
  {
   "cell_type": "code",
   "execution_count": 19,
   "metadata": {},
   "outputs": [
    {
     "name": "stdout",
     "output_type": "stream",
     "text": [
      "2\n"
     ]
    }
   ],
   "source": [
    "# 1. Count Occurrences: Given a list and an element, find how many times the element appears in the list.\n",
    "l = ['1', '2', '3', '4', '5', '6', '7', '8', '9', '3', '4', '5', '6']\n",
    "element = '5'\n",
    "\n",
    "# count()\n",
    "con = l.count(element)\n",
    "\n",
    "print(con)"
   ]
  },
  {
   "cell_type": "code",
   "execution_count": 20,
   "metadata": {},
   "outputs": [
    {
     "name": "stdout",
     "output_type": "stream",
     "text": [
      "63\n"
     ]
    }
   ],
   "source": [
    "# 2. Sum of Elements: Given a list of numbers, calculate the total of all the elements.\n",
    "numbers = [1, 2, 3, 4, 5, 6, 7, 8, 9, 3, 4, 5, 6]\n",
    "# sum()\n",
    "sum_numbers = sum(numbers)\n",
    "print(sum_numbers)"
   ]
  },
  {
   "cell_type": "code",
   "execution_count": 21,
   "metadata": {},
   "outputs": [
    {
     "name": "stdout",
     "output_type": "stream",
     "text": [
      "9\n"
     ]
    }
   ],
   "source": [
    "# 3. Max Element: From a given list, determine the largest element.\n",
    "numbers = [1, 2, 3, 4, 5, 6, 7, 8, 9, 3, 4, 5, 6]\n",
    "# max\n",
    "max_num = max(numbers)\n",
    "\n",
    "print(max_num)"
   ]
  },
  {
   "cell_type": "code",
   "execution_count": 22,
   "metadata": {},
   "outputs": [
    {
     "name": "stdout",
     "output_type": "stream",
     "text": [
      "1\n"
     ]
    }
   ],
   "source": [
    "# 4. Min Element: From a given list, determine the smallest element.\n",
    "numbers = [1, 2, 3, 4, 5, 6, 7, 8, 9, 3, 4, 5, 6]\n",
    "# min\n",
    "min_num = min(numbers)\n",
    "\n",
    "print(min_num)"
   ]
  },
  {
   "cell_type": "code",
   "execution_count": 23,
   "metadata": {},
   "outputs": [
    {
     "name": "stdout",
     "output_type": "stream",
     "text": [
      "The element is present in the list.\n"
     ]
    }
   ],
   "source": [
    "# 5. Check Element: Given a list and an element, check if the element is present in the list.\n",
    "l = ['1', '2', '3', '4', '5', '6', '7', '8', '9', '3', '4', '5', '6']\n",
    "element = '5'\n",
    "\n",
    "# if else\n",
    "if element in l:\n",
    "    print('The element is present in the list.')\n",
    "else:\n",
    "    print('The element isn\\'t present in the list.')"
   ]
  },
  {
   "cell_type": "code",
   "execution_count": 24,
   "metadata": {},
   "outputs": [
    {
     "name": "stdout",
     "output_type": "stream",
     "text": [
      "First element: 1\n"
     ]
    }
   ],
   "source": [
    "# 6. First Element: Access the first element of a list, considering what to return if the list is empty.\n",
    "l = ['1', '2', '3', '4', '5', '6', '7', '8', '9', '3', '4', '5', '6']\n",
    "\n",
    "# if else\n",
    "if bool(l):\n",
    "    print('First element:', l[0])\n",
    "else:\n",
    "    print('List is empty')"
   ]
  },
  {
   "cell_type": "code",
   "execution_count": 25,
   "metadata": {},
   "outputs": [
    {
     "name": "stdout",
     "output_type": "stream",
     "text": [
      "Last element: 6\n"
     ]
    }
   ],
   "source": [
    "# 7. Last Element: Access the last element of a list, considering what to return if the list is empty.\n",
    "l = ['1', '2', '3', '4', '5', '6', '7', '8', '9', '3', '4', '5', '6']\n",
    "\n",
    "# if else\n",
    "if bool(l):\n",
    "    print('Last element:', l[::-1][0])\n",
    "else:\n",
    "    print('List is empty')"
   ]
  },
  {
   "cell_type": "code",
   "execution_count": 26,
   "metadata": {},
   "outputs": [
    {
     "name": "stdout",
     "output_type": "stream",
     "text": [
      "['1', '2', '3']\n"
     ]
    }
   ],
   "source": [
    "# 8. Slice List: Create a new list that contains only the first three elements of the original list.\n",
    "l = ['1', '2', '3', '4', '5', '6', '7', '8', '9', '3', '4', '5', '6']\n",
    "\n",
    "# Slice [start:end:step]\n",
    "new_l = l[:3]\n",
    "print(new_l)"
   ]
  },
  {
   "cell_type": "code",
   "execution_count": 27,
   "metadata": {},
   "outputs": [
    {
     "name": "stdout",
     "output_type": "stream",
     "text": [
      "['6', '5', '4', '3', '9', '8', '7', '6', '5', '4', '3', '2', '1']\n"
     ]
    }
   ],
   "source": [
    "# 9. Reverse List: Create a new list that contains the elements of the original list in reverse order.\n",
    "l = ['1', '2', '3', '4', '5', '6', '7', '8', '9', '3', '4', '5', '6']\n",
    "\n",
    "# [::-1]\n",
    "new_l = l[::-1]\n",
    "print(new_l)"
   ]
  },
  {
   "cell_type": "code",
   "execution_count": 28,
   "metadata": {},
   "outputs": [
    {
     "name": "stdout",
     "output_type": "stream",
     "text": [
      "['1', '2', '3', '3', '4', '4', '5', '5', '6', '6', '7', '8', '9']\n"
     ]
    }
   ],
   "source": [
    "# 10. Sort List: Create a new list that contains the elements of the original list in sorted order.\n",
    "l = ['1', '2', '3', '4', '5', '6', '7', '8', '9', '3', '4', '5', '6']\n",
    "# sorted\n",
    "sorted_l = sorted(l)\n",
    "\n",
    "print(sorted_l)"
   ]
  },
  {
   "cell_type": "code",
   "execution_count": 29,
   "metadata": {},
   "outputs": [
    {
     "name": "stdout",
     "output_type": "stream",
     "text": [
      "['1', '2', '7', '8', '9']\n"
     ]
    }
   ],
   "source": [
    "# 11. Remove Duplicates: Given a list, create a new list that contains only unique elements from the original list.\n",
    "l = ['1', '2', '3', '4', '5', '6', '7', '8', '9', '3', '4', '5', '6']\n",
    "\n",
    "# remove by list comprehension\n",
    "new_l = [row for row in l if l.count(row) == 1]\n",
    "\n",
    "print(new_l)"
   ]
  },
  {
   "cell_type": "code",
   "execution_count": 30,
   "metadata": {},
   "outputs": [
    {
     "name": "stdout",
     "output_type": "stream",
     "text": [
      "['1', '2', '3', '4', '5', '6', '7', '8', '9', '3', '4', '5', '6', '5']\n"
     ]
    }
   ],
   "source": [
    "# 12. Insert Element: Given a list and an element, insert the element at a specified index.\n",
    "l = ['1', '2', '3', '4', '5', '6', '7', '8', '9', '3', '4', '5', '6']\n",
    "element = '5'\n",
    "# append\n",
    "l.append(element)\n",
    "print(l)"
   ]
  },
  {
   "cell_type": "code",
   "execution_count": 31,
   "metadata": {},
   "outputs": [
    {
     "name": "stdout",
     "output_type": "stream",
     "text": [
      "Index = 1\n"
     ]
    }
   ],
   "source": [
    "# 13. Index of Element: Given a list and an element, find the index of the first occurrence of the element.\n",
    "l = ['1', '2', '3', '4', '5', '6', '7', '8', '9', '3', '4', '5', '6']\n",
    "element = '2'\n",
    "# find the index of the first occurrence of the element.\n",
    "for i in range(len(l)):\n",
    "    if l[i] == element:\n",
    "        index = i\n",
    "        print('Index =', index)\n",
    "        break"
   ]
  },
  {
   "cell_type": "code",
   "execution_count": 32,
   "metadata": {},
   "outputs": [
    {
     "name": "stdout",
     "output_type": "stream",
     "text": [
      "Not Empty\n"
     ]
    }
   ],
   "source": [
    "# 14. Check for Empty List: Determine if a list is empty and return a boolean.\n",
    "l = ['1', '2', '3', '4', '5', '6', '7', '8', '9', '3', '4', '5', '6']\n",
    "\n",
    "# if a list is empty and return a boolean.\n",
    "if bool(l):\n",
    "    print('Not Empty')\n",
    "else:\n",
    "    print('Empty')"
   ]
  },
  {
   "cell_type": "code",
   "execution_count": 33,
   "metadata": {},
   "outputs": [
    {
     "name": "stdout",
     "output_type": "stream",
     "text": [
      "6\n"
     ]
    }
   ],
   "source": [
    "# 15. Count Even Numbers: Given a list of integers, count how many of them are even.\n",
    "numbers = [1, 2, 3, 4, 5, 6, 7, 8, 9, 3, 4, 5, 6]\n",
    "count_evens = 0\n",
    "# count how many of them are even.\n",
    "for num in numbers:\n",
    "    if num % 2 == 0:\n",
    "        count_evens += 1\n",
    "print(count_evens)"
   ]
  },
  {
   "cell_type": "code",
   "execution_count": 34,
   "metadata": {},
   "outputs": [
    {
     "name": "stdout",
     "output_type": "stream",
     "text": [
      "7\n"
     ]
    }
   ],
   "source": [
    "# 16. Count Odd Numbers: Given a list of integers, count how many of them are odd.\n",
    "numbers = [1, 2, 3, 4, 5, 6, 7, 8, 9, 3, 4, 5, 6]\n",
    "count_odds = 0\n",
    "# count how many of them are odd.\n",
    "for num in numbers:\n",
    "    if num % 2 != 0:\n",
    "        count_odds += 1\n",
    "print(count_odds)"
   ]
  },
  {
   "cell_type": "code",
   "execution_count": 35,
   "metadata": {},
   "outputs": [
    {
     "name": "stdout",
     "output_type": "stream",
     "text": [
      "['1', '2', '3', '3', '4', '5']\n"
     ]
    }
   ],
   "source": [
    "# 17. Concatenate Lists: Given two lists, create a new list that combines both lists.\n",
    "list1 = ['1', '2', '3']\n",
    "list2 = ['3', '4', '5']\n",
    "\n",
    "# create a new list that combines both lists.\n",
    "concantrate = list1 + list2\n",
    "\n",
    "print(concantrate)"
   ]
  },
  {
   "cell_type": "code",
   "execution_count": 36,
   "metadata": {},
   "outputs": [
    {
     "name": "stdout",
     "output_type": "stream",
     "text": [
      "True\n"
     ]
    }
   ],
   "source": [
    "# 18. Find Sublist: Given a list and a sublist, check if the sublist exists within the list.\n",
    "test_l = ['1', '2', '3', '4', '5', '6', '7', '8', '9', '3', '4', '5', '6']\n",
    "sub_l = ['3', '4', '5']\n",
    "\n",
    "# check if the sublist exists within the list by intersection in set \n",
    "if set(test_l).intersection(set(sub_l)):\n",
    "    res = True\n",
    "else:\n",
    "    res = False\n",
    "print(res)"
   ]
  },
  {
   "cell_type": "code",
   "execution_count": 37,
   "metadata": {},
   "outputs": [
    {
     "name": "stdout",
     "output_type": "stream",
     "text": [
      "['7', '2', '3', '4', '5', '6', '7', '8', '9', '3', '4', '5', '6']\n"
     ]
    }
   ],
   "source": [
    "# 19. Replace Element: Given a list, replace the first occurrence of a specified element with another element.\n",
    "l = ['1', '2', '3', '4', '5', '6', '7', '8', '9', '3', '4', '5', '6']\n",
    "another_e = '7'\n",
    "# replace first element to anothe relement\n",
    "l[0] = another_e\n",
    "\n",
    "print(l)"
   ]
  },
  {
   "cell_type": "code",
   "execution_count": 39,
   "metadata": {},
   "outputs": [
    {
     "name": "stdout",
     "output_type": "stream",
     "text": [
      "8\n"
     ]
    }
   ],
   "source": [
    "# 20. Find Second Largest: From a given list, find the second largest element.\n",
    "num = [1, 2, 3, 4, 5, 6, 7, 8, 9, 3, 4, 5, 6]\n",
    "\n",
    "# use sorted\n",
    "sorted_num = sorted(num)\n",
    "\n",
    "# second largest\n",
    "second_largest = sorted_num[::-1][1]\n",
    "\n",
    "print(second_largest)"
   ]
  },
  {
   "cell_type": "code",
   "execution_count": 40,
   "metadata": {},
   "outputs": [
    {
     "name": "stdout",
     "output_type": "stream",
     "text": [
      "2\n"
     ]
    }
   ],
   "source": [
    "# 21. Find Second Smallest: From a given list, find the second smallest element.\n",
    "num = [1, 2, 3, 4, 5, 6, 7, 8, 9, 3, 4, 5, 6]\n",
    "\n",
    "# use sorted\n",
    "sorted_num = sorted(num)\n",
    "\n",
    "# second largest\n",
    "second_smallest = sorted_num[1]\n",
    "\n",
    "print(second_smallest)"
   ]
  },
  {
   "cell_type": "code",
   "execution_count": 41,
   "metadata": {},
   "outputs": [
    {
     "name": "stdout",
     "output_type": "stream",
     "text": [
      "[2, 4, 6, 8, 4, 6]\n"
     ]
    }
   ],
   "source": [
    "# 22. Filter Even Numbers: Given a list of integers, create a new list that contains only the even numbers.\n",
    "num = [1, 2, 3, 4, 5, 6, 7, 8, 9, 3, 4, 5, 6]\n",
    "even_num =[]\n",
    "# filter\n",
    "for n in num:\n",
    "    if n % 2 == 0:\n",
    "        even_num.append(n)\n",
    "\n",
    "print(even_num)"
   ]
  },
  {
   "cell_type": "code",
   "execution_count": 42,
   "metadata": {},
   "outputs": [
    {
     "name": "stdout",
     "output_type": "stream",
     "text": [
      "[1, 3, 5, 7, 9, 3, 5]\n"
     ]
    }
   ],
   "source": [
    "# 23. Filter Odd Numbers: Given a list of integers, create a new list that contains only the odd numbers.\n",
    "num = [1, 2, 3, 4, 5, 6, 7, 8, 9, 3, 4, 5, 6]\n",
    "odd_num =[]\n",
    "# filter\n",
    "for n in num:\n",
    "    if n % 2 != 0:\n",
    "        odd_num.append(n)\n",
    "\n",
    "print(odd_num)"
   ]
  },
  {
   "cell_type": "code",
   "execution_count": 43,
   "metadata": {},
   "outputs": [
    {
     "name": "stdout",
     "output_type": "stream",
     "text": [
      "13\n"
     ]
    }
   ],
   "source": [
    "# 24. List Length: Determine the number of elements in the list.\n",
    "num = [1, 2, 3, 4, 5, 6, 7, 8, 9, 3, 4, 5, 6]\n",
    "# length of list\n",
    "lenth = len(num)\n",
    "\n",
    "print(lenth)"
   ]
  },
  {
   "cell_type": "code",
   "execution_count": 44,
   "metadata": {},
   "outputs": [
    {
     "name": "stdout",
     "output_type": "stream",
     "text": [
      "['1', '2', '3', '4', '5', '6', '7', '8', '9', '3', '4', '5', '6']\n"
     ]
    }
   ],
   "source": [
    "# 25. Create a Copy: Create a new list that is a copy of the original list.\n",
    "# creat a copy\n",
    "l = ['1', '2', '3', '4', '5', '6', '7', '8', '9', '3', '4', '5', '6']\n",
    "\n",
    "import copy\n",
    "l_copy = copy.copy(l)\n",
    "\n",
    "print(l_copy)"
   ]
  },
  {
   "cell_type": "code",
   "execution_count": 45,
   "metadata": {},
   "outputs": [
    {
     "name": "stdout",
     "output_type": "stream",
     "text": [
      "5\n"
     ]
    }
   ],
   "source": [
    "# 26. Get Middle Element: Given a list, find the middle element. If the list has an even number of elements, return the two middle elements\n",
    "num = [1, 2, 3, 4, 5, 6, 7, 8, 9, 3, 4, 5, 6]\n",
    "\n",
    "# Creat Get Middle Element func\n",
    "def get_middle_element(list):\n",
    "    sort = sorted(list)\n",
    "    l = len(list)\n",
    "    k = l // 2\n",
    "    if l % 2 == 0:\n",
    "        return sort[k-1:k+1]\n",
    "    else:\n",
    "        return sort[k]\n",
    "    \n",
    "# MIDDLE ELEMENT\n",
    "mid = get_middle_element(num)\n",
    "\n",
    "print(mid)"
   ]
  },
  {
   "cell_type": "code",
   "execution_count": 46,
   "metadata": {},
   "outputs": [
    {
     "data": {
      "text/plain": [
       "5"
      ]
     },
     "execution_count": 46,
     "metadata": {},
     "output_type": "execute_result"
    }
   ],
   "source": [
    "# 27. Find Maximum of Sublist: Given a list, find the maximum element of a specified sublist.\n",
    "num = [1, 2, 3, 4, 5, 6, 7, 8, 9, 3, 4, 5, 6]\n",
    "start = 2\n",
    "end = 5\n",
    "\n",
    "def find_maximum_sublist(list, start, end):\n",
    "    sublist = list[start:end]\n",
    "    max = sorted(sublist)[::-1][0]\n",
    "    return max\n",
    "# Max in sublist\n",
    "find_maximum_sublist(num, start, end)"
   ]
  },
  {
   "cell_type": "code",
   "execution_count": 47,
   "metadata": {},
   "outputs": [
    {
     "data": {
      "text/plain": [
       "5"
      ]
     },
     "execution_count": 47,
     "metadata": {},
     "output_type": "execute_result"
    }
   ],
   "source": [
    "# 28. Find Minimum of Sublist: Given a list, find the minimum element of a specified sublist.\n",
    "num = [1, 2, 3, 4, 5, 6, 7, 8, 9, 3, 4, 5, 6]\n",
    "start = 2\n",
    "end = 5\n",
    "\n",
    "def find_minimum_sublist(l, start, end):\n",
    "    sublist = l[start:end]\n",
    "    max = sorted(sublist)[::-1][0]\n",
    "    return max\n",
    "# Min in sublist\n",
    "find_minimum_sublist(num, start, end)"
   ]
  },
  {
   "cell_type": "code",
   "execution_count": 48,
   "metadata": {},
   "outputs": [
    {
     "name": "stdout",
     "output_type": "stream",
     "text": [
      "[1, 2, 3, 4, 6, 7, 8, 9, 3, 4, 5, 6]\n"
     ]
    }
   ],
   "source": [
    "# 29. Remove Element by Index: Given a list and an index, remove the element at that index if it exists.\n",
    "num = [1, 2, 3, 4, 5, 6, 7, 8, 9, 3, 4, 5, 6]\n",
    "index = 4\n",
    "\n",
    "# func\n",
    "def remove_element_by_index(l, i):\n",
    "    l.remove(l[i])\n",
    "    return num\n",
    "\n",
    "# remove\n",
    "new_num = remove_element_by_index(num, index)\n",
    "\n",
    "print(new_num)"
   ]
  },
  {
   "cell_type": "code",
   "execution_count": 49,
   "metadata": {},
   "outputs": [
    {
     "data": {
      "text/plain": [
       "'List is not sorted'"
      ]
     },
     "execution_count": 49,
     "metadata": {},
     "output_type": "execute_result"
    }
   ],
   "source": [
    "# 30. Check if List is Sorted: Determine if the list is sorted in ascending order and return a boolean.\n",
    "l = ['1', '2', '3', '4', '5', '6', '7', '8', '9', '3', '4', '5', '6']\n",
    "\n",
    "# func\n",
    "def check_if_list_is_sorted(l):\n",
    "    if l == sorted(l):\n",
    "        return 'List is sorted'\n",
    "    else:\n",
    "        return 'List is not sorted'\n",
    "# check\n",
    "check_if_list_is_sorted(l)   "
   ]
  },
  {
   "cell_type": "code",
   "execution_count": 50,
   "metadata": {},
   "outputs": [
    {
     "name": "stdout",
     "output_type": "stream",
     "text": [
      "['a', 'a', 'a', 'b', 'b', 'b', 'c', 'c', 'c']\n"
     ]
    }
   ],
   "source": [
    "# 31. Repeat Elements: Given a list and a number, create a new list where each element is repeated that number of times.\n",
    "l = ['a', 'b', 'c']\n",
    "num = 3\n",
    "# creat func\n",
    "def repeat_elements(list, number):\n",
    "    res = [i for i in list for _ in range(number)]\n",
    "    return res\n",
    "\n",
    "result = repeat_elements(l, num)\n",
    "print(result)"
   ]
  },
  {
   "cell_type": "code",
   "execution_count": 51,
   "metadata": {},
   "outputs": [
    {
     "name": "stdout",
     "output_type": "stream",
     "text": [
      "['1', '2', '3', '3', '4', '4', '5', '5', '6', '6', '7', '8', '9']\n"
     ]
    }
   ],
   "source": [
    "# 32. Merge and Sort: Given two lists, create a new sorted list that merges both lists.\n",
    "list1 = ['1', '2', '3', '4', '5', '6', '7', '8', '9']\n",
    "list2 = ['3', '4', '5', '6']\n",
    "\n",
    "def merge_and_sort(l1, l2):\n",
    "    l = l1 + l2\n",
    "    res = sorted(l)\n",
    "    return res\n",
    "result = merge_and_sort(list1, list2)\n",
    "print(result)"
   ]
  },
  {
   "cell_type": "code",
   "execution_count": 52,
   "metadata": {},
   "outputs": [
    {
     "name": "stdout",
     "output_type": "stream",
     "text": [
      "[0, 2, 4]\n"
     ]
    }
   ],
   "source": [
    "# 33. Find All Indices: Given a list and an element, find all the indices of that element in the list.\n",
    "a = [3, 5, 3, 6, 3, 7]\n",
    "element = 3\n",
    "Indices = []\n",
    "\n",
    "# using for loop\n",
    "for i in range(len(a)):\n",
    "    if a[i] == element:\n",
    "        Indices.append(i)\n",
    "print(Indices)"
   ]
  },
  {
   "cell_type": "code",
   "execution_count": 68,
   "metadata": {},
   "outputs": [
    {
     "name": "stdout",
     "output_type": "stream",
     "text": [
      "[4, 5, 1, 2, 3]\n"
     ]
    }
   ],
   "source": [
    "# 34. Rotate List: Given a list, create a new list that is a rotated version of the original list (shift elements to the right). \n",
    "a = [1, 2, 3, 4, 5]\n",
    "\n",
    "# number of posetion to rotate\n",
    "n = 2\n",
    "\n",
    "# rotate\n",
    "rotated = a[-n:] + a[:-n]\n",
    "print(rotated)"
   ]
  },
  {
   "cell_type": "code",
   "execution_count": 69,
   "metadata": {},
   "outputs": [
    {
     "name": "stdout",
     "output_type": "stream",
     "text": [
      "[0, 1, 2, 3, 4, 5, 6, 7, 8, 9]\n"
     ]
    }
   ],
   "source": [
    "# 35. Create Range List: Create a list of numbers in a specified range (e.g., from 1 to 10).\n",
    "res = []\n",
    "for i in range(10):\n",
    "    res.append(i)\n",
    "\n",
    "print(res)"
   ]
  },
  {
   "cell_type": "code",
   "execution_count": 70,
   "metadata": {},
   "outputs": [
    {
     "name": "stdout",
     "output_type": "stream",
     "text": [
      "123\n"
     ]
    }
   ],
   "source": [
    "# 36. Sum of Positive Numbers: Given a list of numbers, calculate the sum of all positive numbers.\n",
    "num = [-1, 0, 1, -8, 0, 8, -64, 50, 64]\n",
    "res = 0\n",
    "\n",
    "# for loop\n",
    "for i in num:\n",
    "    if i >= 0:\n",
    "        res += i\n",
    "\n",
    "print(res)"
   ]
  },
  {
   "cell_type": "code",
   "execution_count": 71,
   "metadata": {},
   "outputs": [
    {
     "name": "stdout",
     "output_type": "stream",
     "text": [
      "-73\n"
     ]
    }
   ],
   "source": [
    "# 37. Sum of Negative Numbers: Given a list of numbers, calculate the sum of all negative numbers.\n",
    "num = [-1, 0, 1, -8, 0, 8, -64, 50, 64]\n",
    "res = 0\n",
    "\n",
    "# for loop\n",
    "for i in num:\n",
    "    if i < 0:\n",
    "        res += i\n",
    "\n",
    "print(res)"
   ]
  },
  {
   "cell_type": "code",
   "execution_count": 72,
   "metadata": {},
   "outputs": [
    {
     "name": "stdout",
     "output_type": "stream",
     "text": [
      "Palindrome\n"
     ]
    }
   ],
   "source": [
    "# 38. Check Palindrome: Given a list, check if the list is a palindrome (reads the same forwards and backwards).\n",
    "l = [1, 2, 3, 4, 5, 6, 5, 4, 3, 2, 1]\n",
    "\n",
    "if l == l[::-1]:\n",
    "    print('Palindrome')\n",
    "else:\n",
    "    print('Not Palindrome')"
   ]
  },
  {
   "cell_type": "code",
   "execution_count": 73,
   "metadata": {},
   "outputs": [
    {
     "name": "stdout",
     "output_type": "stream",
     "text": [
      "[['a', 'b'], ['c', 'd'], ['f']]\n"
     ]
    }
   ],
   "source": [
    "# 39. Create Nested List: Create a new list that contains sublists, where each sublist contains a specified number of elements from the original list.\n",
    "l = ['a', 'b', 'c', 'd', 'f']\n",
    "specified_number = 2\n",
    "\n",
    "# solve problem\n",
    "m = 0\n",
    "n = specified_number\n",
    "result = []\n",
    "for _ in range((len(l) + specified_number - 1) // specified_number):\n",
    "    res = l[m : n]\n",
    "    result.append(res)\n",
    "    m = n \n",
    "    n = 2*n\n",
    "\n",
    "print(result)"
   ]
  },
  {
   "cell_type": "code",
   "execution_count": 74,
   "metadata": {},
   "outputs": [
    {
     "name": "stdout",
     "output_type": "stream",
     "text": [
      "['1', '2', '3', '4', '5', '6', '7', '8', '9']\n"
     ]
    }
   ],
   "source": [
    "# 40. Get Unique Elements in Order: Given a list, create a new list that contains unique elements while maintaining the original order.\n",
    "l = ['1', '2', '3', '4', '5', '6', '7', '8', '9', '3', '4', '5', '6']\n",
    "# creat func\n",
    "def get_unique_elements(list):\n",
    "    unique = []\n",
    "    for row in list:\n",
    "        if row not in unique:\n",
    "            unique.append(row)\n",
    "    return unique\n",
    "\n",
    "res = get_unique_elements(l)\n",
    "print(res)"
   ]
  },
  {
   "cell_type": "markdown",
   "metadata": {},
   "source": [
    "### **Tuple Tasks**"
   ]
  },
  {
   "cell_type": "code",
   "execution_count": 75,
   "metadata": {},
   "outputs": [
    {
     "name": "stdout",
     "output_type": "stream",
     "text": [
      "2\n"
     ]
    }
   ],
   "source": [
    "# 1. Count Occurrences: Given a tuple and an element, find how many times the element appears in the tuple.\n",
    "tup = ('1', '2', '3', '4', '5', '6', '7', '8', '9', '3', '4', '5', '6')\n",
    "element = '3'\n",
    "\n",
    "# count\n",
    "counts = tup.count(element)\n",
    "\n",
    "print(counts)"
   ]
  },
  {
   "cell_type": "code",
   "execution_count": 76,
   "metadata": {},
   "outputs": [
    {
     "name": "stdout",
     "output_type": "stream",
     "text": [
      "64\n"
     ]
    }
   ],
   "source": [
    "# 2. Max Element: From a given tuple, determine the largest element.\n",
    "tup = (-1, 0, 1, -8, 0, 8, -64, 50, 64)\n",
    "# max\n",
    "largest = max(tup)\n",
    "print(largest)"
   ]
  },
  {
   "cell_type": "code",
   "execution_count": 77,
   "metadata": {},
   "outputs": [
    {
     "name": "stdout",
     "output_type": "stream",
     "text": [
      "-64\n"
     ]
    }
   ],
   "source": [
    "# 3. Min Element: From a given tuple, determine the smallest element.\n",
    "tup = (-1, 0, 1, -8, 0, 8, -64, 50, 64)\n",
    "# min\n",
    "smallest = min(tup)\n",
    "print(smallest)"
   ]
  },
  {
   "cell_type": "code",
   "execution_count": 78,
   "metadata": {},
   "outputs": [],
   "source": [
    "# 4. Check Element: Given a tuple and an element, check if the element is present in the tuple.\n"
   ]
  },
  {
   "cell_type": "code",
   "execution_count": 79,
   "metadata": {},
   "outputs": [
    {
     "name": "stdout",
     "output_type": "stream",
     "text": [
      "Is not present\n"
     ]
    }
   ],
   "source": [
    "# 5. First Element: Access the first element of a tuple, considering what to return if the tuple is empty.\n",
    "tup = (-1, 0, 1, -8, 0, 8, -64, 50, 64)\n",
    "element = 5\n",
    "\n",
    "if element in tup:\n",
    "    print('Is present')\n",
    "else:\n",
    "    print('Is not present')"
   ]
  },
  {
   "cell_type": "code",
   "execution_count": 80,
   "metadata": {},
   "outputs": [
    {
     "name": "stdout",
     "output_type": "stream",
     "text": [
      "last element: 64\n"
     ]
    }
   ],
   "source": [
    "# 6. Last Element: Access the last element of a tuple, considering what to return if the tuple is empty.\n",
    "tup = (-1, 0, 1, -8, 0, 8, -64, 50, 64)\n",
    "\n",
    "if bool(tup):\n",
    "    print('last element:', tup[::-1][0])\n",
    "else:\n",
    "    print(\"Tuple is empty\")\n"
   ]
  },
  {
   "cell_type": "code",
   "execution_count": 81,
   "metadata": {},
   "outputs": [
    {
     "name": "stdout",
     "output_type": "stream",
     "text": [
      "9\n"
     ]
    }
   ],
   "source": [
    "# 7. Tuple Length: Determine the number of elements in the tuple.\n",
    "tup = (-1, 0, 1, -8, 0, 8, -64, 50, 64)\n",
    "# use len\n",
    "length = len(tup)\n",
    "\n",
    "print(length)"
   ]
  },
  {
   "cell_type": "code",
   "execution_count": 82,
   "metadata": {},
   "outputs": [
    {
     "name": "stdout",
     "output_type": "stream",
     "text": [
      "(-1, 0, 1)\n"
     ]
    }
   ],
   "source": [
    "# 8. Slice Tuple: Create a new tuple that contains only the first three elements of the original tuple.\n",
    "tup = (-1, 0, 1, -8, 0, 8, -64, 50, 64)\n",
    "# [start:end:step]\n",
    "slice_tup = tup[:3]\n",
    "\n",
    "print(slice_tup)"
   ]
  },
  {
   "cell_type": "code",
   "execution_count": 83,
   "metadata": {},
   "outputs": [
    {
     "name": "stdout",
     "output_type": "stream",
     "text": [
      "(-1, 0, 1, -8, 0, 8, -64, 50, 64)\n"
     ]
    }
   ],
   "source": [
    "# 9. Concatenate Tuples: Given two tuples, create a new tuple that combines both.\n",
    "tup1 = (-1, 0, 1, -8, 0)\n",
    "tup2 = (8, -64, 50, 64)\n",
    "\n",
    "new_tup = tup1 + tup2\n",
    "print(new_tup)"
   ]
  },
  {
   "cell_type": "code",
   "execution_count": 84,
   "metadata": {},
   "outputs": [
    {
     "name": "stdout",
     "output_type": "stream",
     "text": [
      "(-1, 0, 1, -8, 0, 8, -64, 50, 64)\n"
     ]
    }
   ],
   "source": [
    "# 10. Check if Tuple is Empty: Determine if a tuple has any elements.\n",
    "tup1 = (-1, 0, 1, -8, 0)\n",
    "\n",
    "if not bool(tup1):\n",
    "    print('tuple is empty')\n",
    "else:\n",
    "    print(tup)"
   ]
  },
  {
   "cell_type": "code",
   "execution_count": 85,
   "metadata": {},
   "outputs": [
    {
     "name": "stdout",
     "output_type": "stream",
     "text": [
      "[5, 9]\n"
     ]
    }
   ],
   "source": [
    "# 11. Get All Indices of Element: Given a tuple and an element, find all the indices of that element in the tuple.\n",
    "tup = (-1, 0, 1, -8, 0, 8, -64, 50, 64, 8)\n",
    "element = 8\n",
    "indecies = []\n",
    "for i in  range(len(tup)):\n",
    "    if element == tup[i]:\n",
    "        indecies.append(i)\n",
    "\n",
    "print(indecies)"
   ]
  },
  {
   "cell_type": "code",
   "execution_count": 88,
   "metadata": {},
   "outputs": [
    {
     "name": "stdout",
     "output_type": "stream",
     "text": [
      "50\n"
     ]
    }
   ],
   "source": [
    "# 12. Find Second Largest: From a given tuple, find the second largest element.\n",
    "tup = (-1, 0, 1, -8, 0, 8, -64, 50, 64, 8)\n",
    "\n",
    "# creat func\n",
    "def find_second_largest(tuple):\n",
    "    sl = sorted(tuple)[-2]\n",
    "    return sl\n",
    "\n",
    "second_largest = find_second_largest(tup)\n",
    "print(second_largest)"
   ]
  },
  {
   "cell_type": "code",
   "execution_count": 91,
   "metadata": {},
   "outputs": [
    {
     "name": "stdout",
     "output_type": "stream",
     "text": [
      "-8\n"
     ]
    }
   ],
   "source": [
    "# 13. Find Second Smallest: From a given tuple, find the second smallest element.\n",
    "tup = (-1, 0, 1, -8, 0, 8, -64, 50, 64, 8)\n",
    "\n",
    "# creat func\n",
    "def find_second_smallest(tuple):\n",
    "    sl = sorted(tuple)[1]\n",
    "    return sl\n",
    "\n",
    "second_smallest = find_second_smallest(tup)\n",
    "print(second_smallest)"
   ]
  },
  {
   "cell_type": "code",
   "execution_count": null,
   "metadata": {},
   "outputs": [],
   "source": [
    "# 14. Create a Single Element Tuple: Create a tuple that contains a single specified element.\n"
   ]
  },
  {
   "cell_type": "code",
   "execution_count": null,
   "metadata": {},
   "outputs": [],
   "source": [
    "# 15. Convert List to Tuple: Given a list, create a tuple containing the same elements.\n"
   ]
  },
  {
   "cell_type": "code",
   "execution_count": 114,
   "metadata": {},
   "outputs": [],
   "source": [
    "# 16. Check if Tuple is Sorted: Determine if the tuple is sorted in ascending order and return a boolean.\n"
   ]
  },
  {
   "cell_type": "code",
   "execution_count": 115,
   "metadata": {},
   "outputs": [],
   "source": [
    "# 17. Find Maximum of Subtuple: Given a tuple, find the maximum element of a specified subtuple.\n"
   ]
  },
  {
   "cell_type": "code",
   "execution_count": null,
   "metadata": {},
   "outputs": [],
   "source": [
    "# 18. Find Minimum of Subtuple: Given a tuple, find the minimum element of a specified subtuple.\n"
   ]
  },
  {
   "cell_type": "code",
   "execution_count": 116,
   "metadata": {},
   "outputs": [],
   "source": [
    "# 19. Remove Element by Value: Given a tuple and an element, create a new tuple that removes the first occurrence of that element.\n"
   ]
  },
  {
   "cell_type": "code",
   "execution_count": null,
   "metadata": {},
   "outputs": [],
   "source": [
    "# 20. Create Nested Tuple: Create a new tuple that contains subtuples, where each subtuple contains specified elements from the original tuple.\n"
   ]
  }
 ],
 "metadata": {
  "kernelspec": {
   "display_name": "Python 3",
   "language": "python",
   "name": "python3"
  },
  "language_info": {
   "codemirror_mode": {
    "name": "ipython",
    "version": 3
   },
   "file_extension": ".py",
   "mimetype": "text/x-python",
   "name": "python",
   "nbconvert_exporter": "python",
   "pygments_lexer": "ipython3",
   "version": "3.12.8"
  }
 },
 "nbformat": 4,
 "nbformat_minor": 2
}
