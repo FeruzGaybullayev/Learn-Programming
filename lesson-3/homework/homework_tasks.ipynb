{
  "cells": [
    {
      "cell_type": "markdown",
      "metadata": {
        "colab_type": "text",
        "id": "view-in-github"
      },
      "source": [
        "<a href=\"https://colab.research.google.com/github/FeruzGaybullayev/Learn-Programming/blob/main/lesson-3/homework/homework_tasks.ipynb\" target=\"_parent\"><img src=\"https://colab.research.google.com/assets/colab-badge.svg\" alt=\"Open In Colab\"/></a>"
      ]
    },
    {
      "cell_type": "code",
      "execution_count": null,
      "metadata": {
        "id": "p5_X6RfQHLDv",
        "outputId": "3f0402bd-5e73-4905-c645-c343813294ec"
      },
      "outputs": [
        {
          "name": "stdout",
          "output_type": "stream",
          "text": [
            "2\n"
          ]
        }
      ],
      "source": [
        "# 1. Count Occurrences: Given a list and an element, find how many times the element appears in the list.\n",
        "l = ['1', '2', '3', '4', '5', '6', '7', '8', '9', '3', '4', '5', '6']\n",
        "element = '5'\n",
        "\n",
        "# count()\n",
        "con = l.count(element)\n",
        "\n",
        "print(con)"
      ]
    },
    {
      "cell_type": "code",
      "execution_count": null,
      "metadata": {
        "id": "CkGbVg0-HLD0",
        "outputId": "086a96e4-91a1-4e40-a1fd-e19ac15c146a"
      },
      "outputs": [
        {
          "name": "stdout",
          "output_type": "stream",
          "text": [
            "63\n"
          ]
        }
      ],
      "source": [
        "# 2. Sum of Elements: Given a list of numbers, calculate the total of all the elements.\n",
        "numbers = [1, 2, 3, 4, 5, 6, 7, 8, 9, 3, 4, 5, 6]\n",
        "# sum()\n",
        "sum_numbers = sum(numbers)\n",
        "print(sum_numbers)"
      ]
    },
    {
      "cell_type": "code",
      "execution_count": null,
      "metadata": {
        "id": "WZe-tRwSHLD0",
        "outputId": "4fff7839-417f-4efa-c5a0-186d31c0e7a0"
      },
      "outputs": [
        {
          "name": "stdout",
          "output_type": "stream",
          "text": [
            "9\n"
          ]
        }
      ],
      "source": [
        "# 3. Max Element: From a given list, determine the largest element.\n",
        "numbers = [1, 2, 3, 4, 5, 6, 7, 8, 9, 3, 4, 5, 6]\n",
        "# max\n",
        "max_num = max(numbers)\n",
        "\n",
        "print(max_num)"
      ]
    },
    {
      "cell_type": "code",
      "execution_count": null,
      "metadata": {
        "id": "gD5EdHfFHLD1",
        "outputId": "1789994f-c74e-4782-9782-4464dde7f7ab"
      },
      "outputs": [
        {
          "name": "stdout",
          "output_type": "stream",
          "text": [
            "1\n"
          ]
        }
      ],
      "source": [
        "# 4. Min Element: From a given list, determine the smallest element.\n",
        "numbers = [1, 2, 3, 4, 5, 6, 7, 8, 9, 3, 4, 5, 6]\n",
        "# min\n",
        "min_num = min(numbers)\n",
        "\n",
        "print(min_num)"
      ]
    },
    {
      "cell_type": "code",
      "execution_count": null,
      "metadata": {
        "id": "n4VTDtthHLD2",
        "outputId": "38aecab5-84ca-465a-ec8e-6343920a7492"
      },
      "outputs": [
        {
          "name": "stdout",
          "output_type": "stream",
          "text": [
            "The element is present in the list.\n"
          ]
        }
      ],
      "source": [
        "# 5. Check Element: Given a list and an element, check if the element is present in the list.\n",
        "l = ['1', '2', '3', '4', '5', '6', '7', '8', '9', '3', '4', '5', '6']\n",
        "element = '5'\n",
        "\n",
        "# if else\n",
        "if element in l:\n",
        "    print('The element is present in the list.')\n",
        "else:\n",
        "    print('The element isn\\'t present in the list.')"
      ]
    },
    {
      "cell_type": "code",
      "execution_count": null,
      "metadata": {
        "id": "uvkH_MtmHLD2",
        "outputId": "28ebf317-ad72-42a3-98d1-d148b7c284d3"
      },
      "outputs": [
        {
          "name": "stdout",
          "output_type": "stream",
          "text": [
            "First element: 1\n"
          ]
        }
      ],
      "source": [
        "# 6. First Element: Access the first element of a list, considering what to return if the list is empty.\n",
        "l = ['1', '2', '3', '4', '5', '6', '7', '8', '9', '3', '4', '5', '6']\n",
        "\n",
        "# if else\n",
        "if bool(l):\n",
        "    print('First element:', l[0])\n",
        "else:\n",
        "    print('List is empty')"
      ]
    },
    {
      "cell_type": "code",
      "execution_count": null,
      "metadata": {
        "id": "PeJy51rPHLD3",
        "outputId": "d8006bfd-fa39-48ae-ade6-ec4904d314e1"
      },
      "outputs": [
        {
          "name": "stdout",
          "output_type": "stream",
          "text": [
            "Last element: 6\n"
          ]
        }
      ],
      "source": [
        "# 7. Last Element: Access the last element of a list, considering what to return if the list is empty.\n",
        "l = ['1', '2', '3', '4', '5', '6', '7', '8', '9', '3', '4', '5', '6']\n",
        "\n",
        "# if else\n",
        "if bool(l):\n",
        "    print('Last element:', l[::-1][0])\n",
        "else:\n",
        "    print('List is empty')"
      ]
    },
    {
      "cell_type": "code",
      "execution_count": null,
      "metadata": {
        "id": "9V-yD4JRHLD4",
        "outputId": "2bd7d3be-28eb-4945-e53c-69b46e2bf443"
      },
      "outputs": [
        {
          "name": "stdout",
          "output_type": "stream",
          "text": [
            "['1', '2', '3']\n"
          ]
        }
      ],
      "source": [
        "# 8. Slice List: Create a new list that contains only the first three elements of the original list.\n",
        "l = ['1', '2', '3', '4', '5', '6', '7', '8', '9', '3', '4', '5', '6']\n",
        "\n",
        "# Slice [start:end:step]\n",
        "new_l = l[:3]\n",
        "print(new_l)"
      ]
    },
    {
      "cell_type": "code",
      "execution_count": null,
      "metadata": {
        "id": "dpcq9Rq8HLD4",
        "outputId": "73ba0e56-a2c2-455b-c440-a5acca53ed66"
      },
      "outputs": [
        {
          "name": "stdout",
          "output_type": "stream",
          "text": [
            "['6', '5', '4', '3', '9', '8', '7', '6', '5', '4', '3', '2', '1']\n"
          ]
        }
      ],
      "source": [
        "# 9. Reverse List: Create a new list that contains the elements of the original list in reverse order.\n",
        "l = ['1', '2', '3', '4', '5', '6', '7', '8', '9', '3', '4', '5', '6']\n",
        "\n",
        "# [::-1]\n",
        "new_l = l[::-1]\n",
        "print(new_l)"
      ]
    },
    {
      "cell_type": "code",
      "execution_count": null,
      "metadata": {
        "id": "INg5RxcxHLD5",
        "outputId": "bebd06b3-5bc8-4bac-da1a-8101b6c17a8e"
      },
      "outputs": [
        {
          "name": "stdout",
          "output_type": "stream",
          "text": [
            "['1', '2', '3', '3', '4', '4', '5', '5', '6', '6', '7', '8', '9']\n"
          ]
        }
      ],
      "source": [
        "# 10. Sort List: Create a new list that contains the elements of the original list in sorted order.\n",
        "l = ['1', '2', '3', '4', '5', '6', '7', '8', '9', '3', '4', '5', '6']\n",
        "# sorted\n",
        "sorted_l = sorted(l)\n",
        "\n",
        "print(sorted_l)"
      ]
    },
    {
      "cell_type": "code",
      "execution_count": null,
      "metadata": {
        "id": "AzdPFdxoHLD6",
        "outputId": "c0ffaf90-ccdb-421c-c90a-15b31598f771"
      },
      "outputs": [
        {
          "name": "stdout",
          "output_type": "stream",
          "text": [
            "['1', '2', '7', '8', '9']\n"
          ]
        }
      ],
      "source": [
        "# 11. Remove Duplicates: Given a list, create a new list that contains only unique elements from the original list.\n",
        "l = ['1', '2', '3', '4', '5', '6', '7', '8', '9', '3', '4', '5', '6']\n",
        "\n",
        "# remove by list comprehension\n",
        "new_l = [row for row in l if l.count(row) == 1]\n",
        "\n",
        "print(new_l)"
      ]
    },
    {
      "cell_type": "code",
      "execution_count": null,
      "metadata": {
        "id": "G3p6CEOxHLD6",
        "outputId": "0f86716e-ab8b-4696-e3f1-aba5ba2dfcdf"
      },
      "outputs": [
        {
          "name": "stdout",
          "output_type": "stream",
          "text": [
            "['1', '2', '3', '4', '5', '6', '7', '8', '9', '3', '4', '5', '6', '5']\n"
          ]
        }
      ],
      "source": [
        "# 12. Insert Element: Given a list and an element, insert the element at a specified index.\n",
        "l = ['1', '2', '3', '4', '5', '6', '7', '8', '9', '3', '4', '5', '6']\n",
        "element = '5'\n",
        "# append\n",
        "l.append(element)\n",
        "print(l)"
      ]
    },
    {
      "cell_type": "code",
      "execution_count": null,
      "metadata": {
        "id": "GAE9nXAEHLD7",
        "outputId": "747015a5-575c-4e86-bf9d-ea69a2a763a7"
      },
      "outputs": [
        {
          "name": "stdout",
          "output_type": "stream",
          "text": [
            "Index = 1\n"
          ]
        }
      ],
      "source": [
        "# 13. Index of Element: Given a list and an element, find the index of the first occurrence of the element.\n",
        "l = ['1', '2', '3', '4', '5', '6', '7', '8', '9', '3', '4', '5', '6']\n",
        "element = '2'\n",
        "# find the index of the first occurrence of the element.\n",
        "for i in range(len(l)):\n",
        "    if l[i] == element:\n",
        "        index = i\n",
        "        print('Index =', index)\n",
        "        break"
      ]
    },
    {
      "cell_type": "code",
      "execution_count": null,
      "metadata": {
        "id": "fwfQLivKHLD7",
        "outputId": "780f9969-9a19-4d35-ba76-3cf1d7cfb280"
      },
      "outputs": [
        {
          "name": "stdout",
          "output_type": "stream",
          "text": [
            "Not Empty\n"
          ]
        }
      ],
      "source": [
        "# 14. Check for Empty List: Determine if a list is empty and return a boolean.\n",
        "l = ['1', '2', '3', '4', '5', '6', '7', '8', '9', '3', '4', '5', '6']\n",
        "\n",
        "# if a list is empty and return a boolean.\n",
        "if bool(l):\n",
        "    print('Not Empty')\n",
        "else:\n",
        "    print('Empty')"
      ]
    },
    {
      "cell_type": "code",
      "execution_count": null,
      "metadata": {
        "id": "rWhLi1XtHLD8",
        "outputId": "c673aee6-8ee6-4eba-9117-a462ffe863bb"
      },
      "outputs": [
        {
          "name": "stdout",
          "output_type": "stream",
          "text": [
            "6\n"
          ]
        }
      ],
      "source": [
        "# 15. Count Even Numbers: Given a list of integers, count how many of them are even.\n",
        "numbers = [1, 2, 3, 4, 5, 6, 7, 8, 9, 3, 4, 5, 6]\n",
        "count_evens = 0\n",
        "# count how many of them are even.\n",
        "for num in numbers:\n",
        "    if num % 2 == 0:\n",
        "        count_evens += 1\n",
        "print(count_evens)"
      ]
    },
    {
      "cell_type": "code",
      "execution_count": null,
      "metadata": {
        "id": "SAPXgVsUHLD8",
        "outputId": "f56dfd8c-b700-4047-9bf5-13efa377077f"
      },
      "outputs": [
        {
          "name": "stdout",
          "output_type": "stream",
          "text": [
            "7\n"
          ]
        }
      ],
      "source": [
        "# 16. Count Odd Numbers: Given a list of integers, count how many of them are odd.\n",
        "numbers = [1, 2, 3, 4, 5, 6, 7, 8, 9, 3, 4, 5, 6]\n",
        "count_odds = 0\n",
        "# count how many of them are odd.\n",
        "for num in numbers:\n",
        "    if num % 2 != 0:\n",
        "        count_odds += 1\n",
        "print(count_odds)"
      ]
    },
    {
      "cell_type": "code",
      "execution_count": null,
      "metadata": {
        "id": "WS_3jjIIHLD9",
        "outputId": "9c840d05-4c16-468b-9902-8a089c9d7126"
      },
      "outputs": [
        {
          "name": "stdout",
          "output_type": "stream",
          "text": [
            "['1', '2', '3', '3', '4', '5']\n"
          ]
        }
      ],
      "source": [
        "# 17. Concatenate Lists: Given two lists, create a new list that combines both lists.\n",
        "list1 = ['1', '2', '3']\n",
        "list2 = ['3', '4', '5']\n",
        "\n",
        "# create a new list that combines both lists.\n",
        "concantrate = list1 + list2\n",
        "\n",
        "print(concantrate)"
      ]
    },
    {
      "cell_type": "code",
      "execution_count": null,
      "metadata": {
        "id": "cCxD29dQHLD9",
        "outputId": "493f554f-ceae-4d88-9886-be95267ab53d"
      },
      "outputs": [
        {
          "name": "stdout",
          "output_type": "stream",
          "text": [
            "True\n"
          ]
        }
      ],
      "source": [
        "# 18. Find Sublist: Given a list and a sublist, check if the sublist exists within the list.\n",
        "test_l = ['1', '2', '3', '4', '5', '6', '7', '8', '9', '3', '4', '5', '6']\n",
        "sub_l = ['3', '4', '5']\n",
        "\n",
        "# check if the sublist exists within the list by intersection in set\n",
        "if set(test_l).intersection(set(sub_l)):\n",
        "    res = True\n",
        "else:\n",
        "    res = False\n",
        "print(res)"
      ]
    },
    {
      "cell_type": "code",
      "execution_count": null,
      "metadata": {
        "id": "TIZ5PVEJHLD9",
        "outputId": "5ac15e64-655e-4e79-a508-5bb7f215c8b3"
      },
      "outputs": [
        {
          "name": "stdout",
          "output_type": "stream",
          "text": [
            "['7', '2', '3', '4', '5', '6', '7', '8', '9', '3', '4', '5', '6']\n"
          ]
        }
      ],
      "source": [
        "# 19. Replace Element: Given a list, replace the first occurrence of a specified element with another element.\n",
        "l = ['1', '2', '3', '4', '5', '6', '7', '8', '9', '3', '4', '5', '6']\n",
        "another_e = '7'\n",
        "# replace first element to anothe relement\n",
        "l[0] = another_e\n",
        "\n",
        "print(l)"
      ]
    },
    {
      "cell_type": "code",
      "execution_count": null,
      "metadata": {
        "id": "cnBVLyOXHLD-",
        "outputId": "bd7c2aef-d3d7-4260-b389-956593f2b749"
      },
      "outputs": [
        {
          "name": "stdout",
          "output_type": "stream",
          "text": [
            "8\n"
          ]
        }
      ],
      "source": [
        "# 20. Find Second Largest: From a given list, find the second largest element.\n",
        "num = [1, 2, 3, 4, 5, 6, 7, 8, 9, 3, 4, 5, 6]\n",
        "\n",
        "# use sorted\n",
        "sorted_num = sorted(num)\n",
        "\n",
        "# second largest\n",
        "second_largest = sorted_num[::-1][1]\n",
        "\n",
        "print(second_largest)"
      ]
    },
    {
      "cell_type": "code",
      "execution_count": null,
      "metadata": {
        "id": "_3NaTRDuHLD-",
        "outputId": "818b731b-6c65-4026-969b-84dc7a3ae343"
      },
      "outputs": [
        {
          "name": "stdout",
          "output_type": "stream",
          "text": [
            "2\n"
          ]
        }
      ],
      "source": [
        "# 21. Find Second Smallest: From a given list, find the second smallest element.\n",
        "num = [1, 2, 3, 4, 5, 6, 7, 8, 9, 3, 4, 5, 6]\n",
        "\n",
        "# use sorted\n",
        "sorted_num = sorted(num)\n",
        "\n",
        "# second largest\n",
        "second_smallest = sorted_num[1]\n",
        "\n",
        "print(second_smallest)"
      ]
    },
    {
      "cell_type": "code",
      "execution_count": null,
      "metadata": {
        "id": "-87-06DFHLD-",
        "outputId": "17cd6bbf-1473-4f6d-8189-3721d6cfbc98"
      },
      "outputs": [
        {
          "name": "stdout",
          "output_type": "stream",
          "text": [
            "[2, 4, 6, 8, 4, 6]\n"
          ]
        }
      ],
      "source": [
        "# 22. Filter Even Numbers: Given a list of integers, create a new list that contains only the even numbers.\n",
        "num = [1, 2, 3, 4, 5, 6, 7, 8, 9, 3, 4, 5, 6]\n",
        "even_num =[]\n",
        "# filter\n",
        "for n in num:\n",
        "    if n % 2 == 0:\n",
        "        even_num.append(n)\n",
        "\n",
        "print(even_num)"
      ]
    },
    {
      "cell_type": "code",
      "execution_count": null,
      "metadata": {
        "id": "dajEGgqdHLD_",
        "outputId": "734a9438-c051-42ee-dee4-938d7155b06b"
      },
      "outputs": [
        {
          "name": "stdout",
          "output_type": "stream",
          "text": [
            "[1, 3, 5, 7, 9, 3, 5]\n"
          ]
        }
      ],
      "source": [
        "# 23. Filter Odd Numbers: Given a list of integers, create a new list that contains only the odd numbers.\n",
        "num = [1, 2, 3, 4, 5, 6, 7, 8, 9, 3, 4, 5, 6]\n",
        "odd_num =[]\n",
        "# filter\n",
        "for n in num:\n",
        "    if n % 2 != 0:\n",
        "        odd_num.append(n)\n",
        "\n",
        "print(odd_num)"
      ]
    },
    {
      "cell_type": "code",
      "execution_count": null,
      "metadata": {
        "id": "dE0qYfq9HLD_",
        "outputId": "e8ccf436-ea3a-4e66-cdb3-2a2ee418b6fb"
      },
      "outputs": [
        {
          "name": "stdout",
          "output_type": "stream",
          "text": [
            "13\n"
          ]
        }
      ],
      "source": [
        "# 24. List Length: Determine the number of elements in the list.\n",
        "num = [1, 2, 3, 4, 5, 6, 7, 8, 9, 3, 4, 5, 6]\n",
        "# length of list\n",
        "lenth = len(num)\n",
        "\n",
        "print(lenth)"
      ]
    },
    {
      "cell_type": "code",
      "execution_count": null,
      "metadata": {
        "id": "euJVAKMxHLD_",
        "outputId": "3dc5b833-8408-4e21-e793-c755529f4e87"
      },
      "outputs": [
        {
          "name": "stdout",
          "output_type": "stream",
          "text": [
            "['1', '2', '3', '4', '5', '6', '7', '8', '9', '3', '4', '5', '6']\n"
          ]
        }
      ],
      "source": [
        "# 25. Create a Copy: Create a new list that is a copy of the original list.\n",
        "# creat a copy\n",
        "l = ['1', '2', '3', '4', '5', '6', '7', '8', '9', '3', '4', '5', '6']\n",
        "\n",
        "import copy\n",
        "l_copy = copy.copy(l)\n",
        "\n",
        "print(l_copy)"
      ]
    },
    {
      "cell_type": "code",
      "execution_count": null,
      "metadata": {
        "id": "F1AhiKfXHLEA",
        "outputId": "5578aee4-8c9b-418b-e420-c5a9940af57e"
      },
      "outputs": [
        {
          "name": "stdout",
          "output_type": "stream",
          "text": [
            "5\n"
          ]
        }
      ],
      "source": [
        "# 26. Get Middle Element: Given a list, find the middle element. If the list has an even number of elements, return the two middle elements\n",
        "num = [1, 2, 3, 4, 5, 6, 7, 8, 9, 3, 4, 5, 6]\n",
        "\n",
        "# Creat Get Middle Element func\n",
        "def get_middle_element(list):\n",
        "    sort = sorted(list)\n",
        "    l = len(list)\n",
        "    k = l // 2\n",
        "    if l % 2 == 0:\n",
        "        return sort[k-1:k+1]\n",
        "    else:\n",
        "        return sort[k]\n",
        "\n",
        "# MIDDLE ELEMENT\n",
        "mid = get_middle_element(num)\n",
        "\n",
        "print(mid)"
      ]
    },
    {
      "cell_type": "code",
      "execution_count": null,
      "metadata": {
        "id": "dA_VdNdvHLEA",
        "outputId": "40dff1b2-f910-4d6b-c154-b1039ccd3d4a"
      },
      "outputs": [
        {
          "data": {
            "text/plain": [
              "5"
            ]
          },
          "execution_count": 27,
          "metadata": {},
          "output_type": "execute_result"
        }
      ],
      "source": [
        "# 27. Find Maximum of Sublist: Given a list, find the maximum element of a specified sublist.\n",
        "num = [1, 2, 3, 4, 5, 6, 7, 8, 9, 3, 4, 5, 6]\n",
        "start = 2\n",
        "end = 5\n",
        "\n",
        "def find_maximum_sublist(list, start, end):\n",
        "    sublist = list[start:end]\n",
        "    max = sorted(sublist)[::-1][0]\n",
        "    return max\n",
        "# Max in sublist\n",
        "find_maximum_sublist(num, start, end)"
      ]
    },
    {
      "cell_type": "code",
      "execution_count": null,
      "metadata": {
        "id": "7PKSdnxLHLEB",
        "outputId": "7e42a197-d947-4ff3-8830-ea4922e52a16"
      },
      "outputs": [
        {
          "data": {
            "text/plain": [
              "5"
            ]
          },
          "execution_count": 28,
          "metadata": {},
          "output_type": "execute_result"
        }
      ],
      "source": [
        "# 28. Find Minimum of Sublist: Given a list, find the minimum element of a specified sublist.\n",
        "num = [1, 2, 3, 4, 5, 6, 7, 8, 9, 3, 4, 5, 6]\n",
        "start = 2\n",
        "end = 5\n",
        "\n",
        "def find_minimum_sublist(l, start, end):\n",
        "    sublist = l[start:end]\n",
        "    max = sorted(sublist)[::-1][0]\n",
        "    return max\n",
        "# Min in sublist\n",
        "find_minimum_sublist(num, start, end)"
      ]
    },
    {
      "cell_type": "code",
      "execution_count": null,
      "metadata": {
        "id": "-x59LYQTHLEB",
        "outputId": "f1fc7061-b869-47f8-e068-a5afec82b06f"
      },
      "outputs": [
        {
          "name": "stdout",
          "output_type": "stream",
          "text": [
            "[1, 2, 3, 4, 6, 7, 8, 9, 3, 4, 5, 6]\n"
          ]
        }
      ],
      "source": [
        "# 29. Remove Element by Index: Given a list and an index, remove the element at that index if it exists.\n",
        "num = [1, 2, 3, 4, 5, 6, 7, 8, 9, 3, 4, 5, 6]\n",
        "index = 4\n",
        "\n",
        "# func\n",
        "def remove_element_by_index(l, i):\n",
        "    l.remove(l[i])\n",
        "    return num\n",
        "\n",
        "# remove\n",
        "new_num = remove_element_by_index(num, index)\n",
        "\n",
        "print(new_num)"
      ]
    },
    {
      "cell_type": "code",
      "execution_count": null,
      "metadata": {
        "id": "X0Gb2JRrHLEB",
        "outputId": "cfecc4bf-ff4d-486a-b509-be8d43aeb0aa"
      },
      "outputs": [
        {
          "data": {
            "text/plain": [
              "'List is not sorted'"
            ]
          },
          "execution_count": 30,
          "metadata": {},
          "output_type": "execute_result"
        }
      ],
      "source": [
        "# 30. Check if List is Sorted: Determine if the list is sorted in ascending order and return a boolean.\n",
        "l = ['1', '2', '3', '4', '5', '6', '7', '8', '9', '3', '4', '5', '6']\n",
        "\n",
        "# func\n",
        "def check_if_list_is_sorted(l):\n",
        "    if l == sorted(l):\n",
        "        return 'List is sorted'\n",
        "    else:\n",
        "        return 'List is not sorted'\n",
        "# check\n",
        "check_if_list_is_sorted(l)"
      ]
    },
    {
      "cell_type": "code",
      "execution_count": null,
      "metadata": {
        "id": "4j52BEEtHLEB",
        "outputId": "a61131ba-8177-4686-8729-8501877daa53"
      },
      "outputs": [
        {
          "name": "stdout",
          "output_type": "stream",
          "text": [
            "['a', 'a', 'a', 'b', 'b', 'b', 'c', 'c', 'c']\n"
          ]
        }
      ],
      "source": [
        "# 31. Repeat Elements: Given a list and a number, create a new list where each element is repeated that number of times.\n",
        "l = ['a', 'b', 'c']\n",
        "num = 3\n",
        "# creat func\n",
        "def repeat_elements(list, number):\n",
        "    res = [i for i in list for _ in range(number)]\n",
        "    return res\n",
        "\n",
        "result = repeat_elements(l, num)\n",
        "print(result)"
      ]
    },
    {
      "cell_type": "code",
      "execution_count": null,
      "metadata": {
        "id": "fWWmw3x4HLEC",
        "outputId": "fea74bac-7d00-43e2-c3cc-d12dfb965572"
      },
      "outputs": [
        {
          "name": "stdout",
          "output_type": "stream",
          "text": [
            "['1', '2', '3', '3', '4', '4', '5', '5', '6', '6', '7', '8', '9']\n"
          ]
        }
      ],
      "source": [
        "# 32. Merge and Sort: Given two lists, create a new sorted list that merges both lists.\n",
        "list1 = ['1', '2', '3', '4', '5', '6', '7', '8', '9']\n",
        "list2 = ['3', '4', '5', '6']\n",
        "\n",
        "def merge_and_sort(l1, l2):\n",
        "    l = l1 + l2\n",
        "    res = sorted(l)\n",
        "    return res\n",
        "result = merge_and_sort(list1, list2)\n",
        "print(result)"
      ]
    },
    {
      "cell_type": "code",
      "execution_count": null,
      "metadata": {
        "id": "HW5_Nz3UHLEC",
        "outputId": "4f4432b1-e226-4c98-8983-663e97c80a06"
      },
      "outputs": [
        {
          "name": "stdout",
          "output_type": "stream",
          "text": [
            "[0, 2, 4]\n"
          ]
        }
      ],
      "source": [
        "# 33. Find All Indices: Given a list and an element, find all the indices of that element in the list.\n",
        "a = [3, 5, 3, 6, 3, 7]\n",
        "element = 3\n",
        "Indices = []\n",
        "\n",
        "# using for loop\n",
        "for i in range(len(a)):\n",
        "    if a[i] == element:\n",
        "        Indices.append(i)\n",
        "print(Indices)"
      ]
    },
    {
      "cell_type": "code",
      "execution_count": null,
      "metadata": {
        "id": "19WKU92kHLEC",
        "outputId": "9ead165d-4845-4da2-af23-1701e8c0efc8"
      },
      "outputs": [
        {
          "name": "stdout",
          "output_type": "stream",
          "text": [
            "[4, 5, 1, 2, 3]\n"
          ]
        }
      ],
      "source": [
        "# 34. Rotate List: Given a list, create a new list that is a rotated version of the original list (shift elements to the right).\n",
        "a = [1, 2, 3, 4, 5]\n",
        "\n",
        "# number of posetion to rotate\n",
        "n = 2\n",
        "\n",
        "# rotate\n",
        "rotated = a[-n:] + a[:-n]\n",
        "print(rotated)"
      ]
    },
    {
      "cell_type": "code",
      "execution_count": null,
      "metadata": {
        "id": "jQ73O-6fHLED",
        "outputId": "e77f59c3-ce56-4a81-d8be-c323365d2782"
      },
      "outputs": [
        {
          "name": "stdout",
          "output_type": "stream",
          "text": [
            "[0, 1, 2, 3, 4, 5, 6, 7, 8, 9]\n"
          ]
        }
      ],
      "source": [
        "# 35. Create Range List: Create a list of numbers in a specified range (e.g., from 1 to 10).\n",
        "res = []\n",
        "for i in range(10):\n",
        "    res.append(i)\n",
        "\n",
        "print(res)"
      ]
    },
    {
      "cell_type": "code",
      "execution_count": null,
      "metadata": {
        "id": "LVDw1fIyHLED",
        "outputId": "10663704-aa5f-46c3-abd4-a73f8e70d848"
      },
      "outputs": [
        {
          "name": "stdout",
          "output_type": "stream",
          "text": [
            "123\n"
          ]
        }
      ],
      "source": [
        "# 36. Sum of Positive Numbers: Given a list of numbers, calculate the sum of all positive numbers.\n",
        "num = [-1, 0, 1, -8, 0, 8, -64, 50, 64]\n",
        "res = 0\n",
        "\n",
        "# for loop\n",
        "for i in num:\n",
        "    if i >= 0:\n",
        "        res += i\n",
        "\n",
        "print(res)"
      ]
    },
    {
      "cell_type": "code",
      "execution_count": null,
      "metadata": {
        "id": "fi7cfL95HLED",
        "outputId": "ab8a902b-6cd8-4357-b6c7-b2854c54c9d2"
      },
      "outputs": [
        {
          "name": "stdout",
          "output_type": "stream",
          "text": [
            "-73\n"
          ]
        }
      ],
      "source": [
        "# 37. Sum of Negative Numbers: Given a list of numbers, calculate the sum of all negative numbers.\n",
        "num = [-1, 0, 1, -8, 0, 8, -64, 50, 64]\n",
        "res = 0\n",
        "\n",
        "# for loop\n",
        "for i in num:\n",
        "    if i < 0:\n",
        "        res += i\n",
        "\n",
        "print(res)"
      ]
    },
    {
      "cell_type": "code",
      "execution_count": null,
      "metadata": {
        "id": "ZabQsL-wHLEE",
        "outputId": "d7b4dfc3-d813-49a9-f40e-5efd4c1929fd"
      },
      "outputs": [
        {
          "name": "stdout",
          "output_type": "stream",
          "text": [
            "Palindrome\n"
          ]
        }
      ],
      "source": [
        "# 38. Check Palindrome: Given a list, check if the list is a palindrome (reads the same forwards and backwards).\n",
        "l = [1, 2, 3, 4, 5, 6, 5, 4, 3, 2, 1]\n",
        "\n",
        "if l == l[::-1]:\n",
        "    print('Palindrome')\n",
        "else:\n",
        "    print('Not Palindrome')"
      ]
    },
    {
      "cell_type": "code",
      "execution_count": null,
      "metadata": {
        "id": "IM_evp5RHLEE",
        "outputId": "3360faff-fddd-453c-9d53-753469b663a0"
      },
      "outputs": [
        {
          "name": "stdout",
          "output_type": "stream",
          "text": [
            "[['a', 'b'], ['c', 'd'], ['f']]\n"
          ]
        }
      ],
      "source": [
        "# 39. Create Nested List: Create a new list that contains sublists, where each sublist contains a specified number of elements from the original list.\n",
        "l = ['a', 'b', 'c', 'd', 'f']\n",
        "specified_number = 2\n",
        "\n",
        "# solve problem\n",
        "m = 0\n",
        "n = specified_number\n",
        "result = []\n",
        "for _ in range((len(l) + specified_number - 1) // specified_number):\n",
        "    res = l[m : n]\n",
        "    result.append(res)\n",
        "    m = n\n",
        "    n = 2*n\n",
        "\n",
        "print(result)"
      ]
    },
    {
      "cell_type": "code",
      "execution_count": null,
      "metadata": {
        "id": "NoGc7d0yHLEJ",
        "outputId": "7bb9a070-1cc0-4275-a459-e4383ff206bc"
      },
      "outputs": [
        {
          "name": "stdout",
          "output_type": "stream",
          "text": [
            "['1', '2', '3', '4', '5', '6', '7', '8', '9']\n"
          ]
        }
      ],
      "source": [
        "# 40. Get Unique Elements in Order: Given a list, create a new list that contains unique elements while maintaining the original order.\n",
        "l = ['1', '2', '3', '4', '5', '6', '7', '8', '9', '3', '4', '5', '6']\n",
        "# creat func\n",
        "def get_unique_elements(list):\n",
        "    unique = []\n",
        "    for row in list:\n",
        "        if row not in unique:\n",
        "            unique.append(row)\n",
        "    return unique\n",
        "\n",
        "res = get_unique_elements(l)\n",
        "print(res)"
      ]
    },
    {
      "cell_type": "markdown",
      "metadata": {
        "id": "6lKfqhUoHLEK"
      },
      "source": [
        "### **Tuple Tasks**"
      ]
    },
    {
      "cell_type": "code",
      "execution_count": null,
      "metadata": {
        "id": "vGvvAouuHLEM",
        "outputId": "61c37119-1a26-4d0e-ec8d-80fb1c5a5ab8"
      },
      "outputs": [
        {
          "name": "stdout",
          "output_type": "stream",
          "text": [
            "2\n"
          ]
        }
      ],
      "source": [
        "# 1. Count Occurrences: Given a tuple and an element, find how many times the element appears in the tuple.\n",
        "tup = ('1', '2', '3', '4', '5', '6', '7', '8', '9', '3', '4', '5', '6')\n",
        "element = '3'\n",
        "\n",
        "# count\n",
        "counts = tup.count(element)\n",
        "\n",
        "print(counts)"
      ]
    },
    {
      "cell_type": "code",
      "execution_count": null,
      "metadata": {
        "id": "9B1ErSxQHLEM",
        "outputId": "417f30cc-5350-41a1-f1c7-8bcf8cf1464c"
      },
      "outputs": [
        {
          "name": "stdout",
          "output_type": "stream",
          "text": [
            "64\n"
          ]
        }
      ],
      "source": [
        "# 2. Max Element: From a given tuple, determine the largest element.\n",
        "tup = (-1, 0, 1, -8, 0, 8, -64, 50, 64)\n",
        "# max\n",
        "largest = max(tup)\n",
        "print(largest)"
      ]
    },
    {
      "cell_type": "code",
      "execution_count": null,
      "metadata": {
        "id": "oTiucd1NHLEN",
        "outputId": "8057a941-ceb8-4f91-d5c7-338162fac4e9"
      },
      "outputs": [
        {
          "name": "stdout",
          "output_type": "stream",
          "text": [
            "-64\n"
          ]
        }
      ],
      "source": [
        "# 3. Min Element: From a given tuple, determine the smallest element.\n",
        "tup = (-1, 0, 1, -8, 0, 8, -64, 50, 64)\n",
        "# min\n",
        "smallest = min(tup)\n",
        "print(smallest)"
      ]
    },
    {
      "cell_type": "code",
      "execution_count": null,
      "metadata": {
        "id": "psYo_0m3HLEN"
      },
      "outputs": [],
      "source": [
        "# 4. Check Element: Given a tuple and an element, check if the element is present in the tuple.\n"
      ]
    },
    {
      "cell_type": "code",
      "execution_count": null,
      "metadata": {
        "id": "G9tXF46fHLEO",
        "outputId": "9a98891a-7220-4120-c3e3-e9155d009777"
      },
      "outputs": [
        {
          "name": "stdout",
          "output_type": "stream",
          "text": [
            "Is not present\n"
          ]
        }
      ],
      "source": [
        "# 5. First Element: Access the first element of a tuple, considering what to return if the tuple is empty.\n",
        "tup = (-1, 0, 1, -8, 0, 8, -64, 50, 64)\n",
        "element = 5\n",
        "\n",
        "if element in tup:\n",
        "    print('Is present')\n",
        "else:\n",
        "    print('Is not present')"
      ]
    },
    {
      "cell_type": "code",
      "execution_count": null,
      "metadata": {
        "id": "abYepQQMHLEO",
        "outputId": "a0821c97-c9e5-42ed-e142-df58bb7a13b7"
      },
      "outputs": [
        {
          "name": "stdout",
          "output_type": "stream",
          "text": [
            "last element: 64\n"
          ]
        }
      ],
      "source": [
        "# 6. Last Element: Access the last element of a tuple, considering what to return if the tuple is empty.\n",
        "tup = (-1, 0, 1, -8, 0, 8, -64, 50, 64)\n",
        "\n",
        "if bool(tup):\n",
        "    print('last element:', tup[::-1][0])\n",
        "else:\n",
        "    print(\"Tuple is empty\")\n"
      ]
    },
    {
      "cell_type": "code",
      "execution_count": null,
      "metadata": {
        "id": "_N4q0bcPHLEO",
        "outputId": "03d5f24f-add9-4abb-b63f-00b72b4690aa"
      },
      "outputs": [
        {
          "name": "stdout",
          "output_type": "stream",
          "text": [
            "9\n"
          ]
        }
      ],
      "source": [
        "# 7. Tuple Length: Determine the number of elements in the tuple.\n",
        "tup = (-1, 0, 1, -8, 0, 8, -64, 50, 64)\n",
        "# use len\n",
        "length = len(tup)\n",
        "\n",
        "print(length)"
      ]
    },
    {
      "cell_type": "code",
      "execution_count": null,
      "metadata": {
        "id": "cH-qSX5DHLEP",
        "outputId": "fe36031b-d128-413f-c4f2-74cf4ebbcbf9"
      },
      "outputs": [
        {
          "name": "stdout",
          "output_type": "stream",
          "text": [
            "(-1, 0, 1)\n"
          ]
        }
      ],
      "source": [
        "# 8. Slice Tuple: Create a new tuple that contains only the first three elements of the original tuple.\n",
        "tup = (-1, 0, 1, -8, 0, 8, -64, 50, 64)\n",
        "# [start:end:step]\n",
        "slice_tup = tup[:3]\n",
        "\n",
        "print(slice_tup)"
      ]
    },
    {
      "cell_type": "code",
      "execution_count": null,
      "metadata": {
        "id": "2AgxYFajHLEP",
        "outputId": "7c130b5c-48ea-4eb5-f68b-bd200b289c8a"
      },
      "outputs": [
        {
          "name": "stdout",
          "output_type": "stream",
          "text": [
            "(-1, 0, 1, -8, 0, 8, -64, 50, 64)\n"
          ]
        }
      ],
      "source": [
        "# 9. Concatenate Tuples: Given two tuples, create a new tuple that combines both.\n",
        "tup1 = (-1, 0, 1, -8, 0)\n",
        "tup2 = (8, -64, 50, 64)\n",
        "\n",
        "new_tup = tup1 + tup2\n",
        "print(new_tup)"
      ]
    },
    {
      "cell_type": "code",
      "execution_count": null,
      "metadata": {
        "id": "DxApwv6HHLEP",
        "outputId": "c8994b67-276d-4371-9e7c-f4956ac9ef29"
      },
      "outputs": [
        {
          "name": "stdout",
          "output_type": "stream",
          "text": [
            "(-1, 0, 1, -8, 0, 8, -64, 50, 64)\n"
          ]
        }
      ],
      "source": [
        "# 10. Check if Tuple is Empty: Determine if a tuple has any elements.\n",
        "tup1 = (-1, 0, 1, -8, 0)\n",
        "\n",
        "if not bool(tup1):\n",
        "    print('tuple is empty')\n",
        "else:\n",
        "    print(tup)"
      ]
    },
    {
      "cell_type": "code",
      "execution_count": null,
      "metadata": {
        "id": "wMFxHzcDHLEQ",
        "outputId": "6ce53212-8441-4cb2-a121-752855f09010"
      },
      "outputs": [
        {
          "name": "stdout",
          "output_type": "stream",
          "text": [
            "[5, 9]\n"
          ]
        }
      ],
      "source": [
        "# 11. Get All Indices of Element: Given a tuple and an element, find all the indices of that element in the tuple.\n",
        "tup = (-1, 0, 1, -8, 0, 8, -64, 50, 64, 8)\n",
        "element = 8\n",
        "indecies = []\n",
        "for i in  range(len(tup)):\n",
        "    if element == tup[i]:\n",
        "        indecies.append(i)\n",
        "\n",
        "print(indecies)"
      ]
    },
    {
      "cell_type": "code",
      "execution_count": null,
      "metadata": {
        "id": "zXQ46rpnHLEQ",
        "outputId": "5fc44356-a8d7-4ea7-cef0-0dd2da15ddff"
      },
      "outputs": [
        {
          "name": "stdout",
          "output_type": "stream",
          "text": [
            "50\n"
          ]
        }
      ],
      "source": [
        "# 12. Find Second Largest: From a given tuple, find the second largest element.\n",
        "tup = (-1, 0, 1, -8, 0, 8, -64, 50, 64, 8)\n",
        "\n",
        "# creat func\n",
        "def find_second_largest(tuple):\n",
        "    sl = sorted(tuple)[-2]\n",
        "    return sl\n",
        "\n",
        "second_largest = find_second_largest(tup)\n",
        "print(second_largest)"
      ]
    },
    {
      "cell_type": "code",
      "execution_count": null,
      "metadata": {
        "id": "djCPdMnQHLEQ",
        "outputId": "18a76064-e304-4882-e3fc-89b371ee0a89"
      },
      "outputs": [
        {
          "name": "stdout",
          "output_type": "stream",
          "text": [
            "-8\n"
          ]
        }
      ],
      "source": [
        "# 13. Find Second Smallest: From a given tuple, find the second smallest element.\n",
        "tup = (-1, 0, 1, -8, 0, 8, -64, 50, 64, 8)\n",
        "\n",
        "# creat func\n",
        "def find_second_smallest(tuple):\n",
        "    sl = sorted(tuple)[1]\n",
        "    return sl\n",
        "\n",
        "second_smallest = find_second_smallest(tup)\n",
        "print(second_smallest)"
      ]
    },
    {
      "cell_type": "code",
      "execution_count": null,
      "metadata": {
        "id": "6hDAqYhLHLER",
        "outputId": "dd69448f-c1c5-41f3-899e-339340ccaac5"
      },
      "outputs": [
        {
          "name": "stdout",
          "output_type": "stream",
          "text": [
            "apple\n"
          ]
        }
      ],
      "source": [
        "# 14. Create a Single Element Tuple: Create a tuple that contains a single specified element.\n",
        "tup = ('apple')\n",
        "print(tup)\n"
      ]
    },
    {
      "cell_type": "code",
      "execution_count": null,
      "metadata": {
        "id": "fUPgzvxNHLER",
        "outputId": "f8138d34-31e8-4803-fb42-90a9ecd02714"
      },
      "outputs": [
        {
          "name": "stdout",
          "output_type": "stream",
          "text": [
            "(-1, 0, 1, -8, 0, 8, -64, 50, 64, 8)\n"
          ]
        }
      ],
      "source": [
        "# 15. Convert List to Tuple: Given a list, create a tuple containing the same elements.\n",
        "l = [-1, 0, 1, -8, 0, 8, -64, 50, 64, 8]\n",
        "tup = tuple(l)\n",
        "print(tup)\n"
      ]
    },
    {
      "cell_type": "code",
      "execution_count": null,
      "metadata": {
        "id": "7rUzSd8CHLER",
        "outputId": "6a4c3e6f-4d14-4492-edd1-cf10c4fc15c8"
      },
      "outputs": [
        {
          "name": "stdout",
          "output_type": "stream",
          "text": [
            "Not sorted\n"
          ]
        }
      ],
      "source": [
        "# 16. Check if Tuple is Sorted: Determine if the tuple is sorted in ascending order and return a boolean.\n",
        "tup = (-1, 0, 1, -8, 0, 8, -64, 50, 64, 8)\n",
        "\n",
        "# if else and boolin\n",
        "if tup == sorted(tup):\n",
        "    print('Sorted tuple')\n",
        "else:\n",
        "    print('Not sorted')"
      ]
    },
    {
      "cell_type": "code",
      "execution_count": null,
      "metadata": {
        "id": "C6eeE-RuHLES",
        "outputId": "d052c3dd-58f9-471e-bb7d-e12dfd367caa"
      },
      "outputs": [
        {
          "name": "stdout",
          "output_type": "stream",
          "text": [
            "1\n"
          ]
        }
      ],
      "source": [
        "# 17. Find Maximum of Subtuple: Given a tuple, find the maximum element of a specified subtuple.\n",
        "def find_maximum_of_subtuple(tup, start, end):\n",
        "    x = max(tup[start:end])\n",
        "    return x\n",
        "\n",
        "tup = (-1, 0, 1, -8, 0, 8, -64, 50, 64, 8)\n",
        "start = 2\n",
        "end = 4\n",
        "max_of_st = find_maximum_of_subtuple(tup, start, end)\n",
        "print(max_of_st)\n"
      ]
    },
    {
      "cell_type": "code",
      "execution_count": null,
      "metadata": {
        "id": "bdyZE9-NHLES",
        "outputId": "d39f2ca0-d087-40c3-f206-111acbdffb12"
      },
      "outputs": [
        {
          "name": "stdout",
          "output_type": "stream",
          "text": [
            "-8\n"
          ]
        }
      ],
      "source": [
        "# 18. Find Minimum of Subtuple: Given a tuple, find the minimum element of a specified subtuple.\n",
        "def find_minimum_of_subtuple(tup, start, end):\n",
        "    x = min(tup[start:end])\n",
        "    return x\n",
        "\n",
        "tup = (-1, 0, 1, -8, 0, 8, -64, 50, 64, 8)\n",
        "start = 2\n",
        "end = 4\n",
        "min_of_st = find_minimum_of_subtuple(tup, start, end)\n",
        "print(min_of_st)\n"
      ]
    },
    {
      "cell_type": "code",
      "execution_count": null,
      "metadata": {
        "id": "-bqv3N8qHLES",
        "outputId": "0b7ae1b5-62b9-496f-ce2d-dc75360d373c"
      },
      "outputs": [
        {
          "name": "stdout",
          "output_type": "stream",
          "text": [
            "(-1, 0, 1, 0, 8, -64, 50, 64, 8)\n"
          ]
        }
      ],
      "source": [
        "# 19. Remove Element by Value: Given a tuple and an element, create a new tuple that removes the first occurrence of that element.\n",
        "tup = (-1, 0, 1, -8, 0, 8, -64, 50, 64, 8)\n",
        "value = -8\n",
        "\n",
        "# use remove\n",
        "new_tup = tuple([i for i in tup if i != value])\n",
        "\n",
        "print(new_tup)"
      ]
    },
    {
      "cell_type": "code",
      "execution_count": null,
      "metadata": {
        "id": "WPFXTYZOHLET",
        "outputId": "59775fac-485c-4e3e-ea56-dd1070f84e30"
      },
      "outputs": [
        {
          "name": "stdout",
          "output_type": "stream",
          "text": [
            "(1, -8, 0, 8)\n"
          ]
        }
      ],
      "source": [
        "# 20. Create Nested Tuple: Create a new tuple that contains subtuples, where each subtuple contains specified elements from the original tuple.\n",
        "tup = (-1, 0, 1, -8, 0, 8, -64, 50, 64, 8)\n",
        "start = 2\n",
        "end = 6\n",
        "\n",
        "# slicing\n",
        "subtuple = tup[start:end]\n",
        "print(subtuple)"
      ]
    },
    {
      "cell_type": "code",
      "execution_count": null,
      "metadata": {
        "id": "Qt2H1rM4HLET",
        "outputId": "be664556-1400-47c5-f9db-a0f803ae646d"
      },
      "outputs": [
        {
          "name": "stdout",
          "output_type": "stream",
          "text": [
            "(-1, -1, -1, 0, 0, 0, 1, 1, 1, -8, -8, -8, 0, 0, 0, 8, 8, 8, -64, -64, -64, 50, 50, 50, 64, 64, 64, 8, 8, 8)\n"
          ]
        }
      ],
      "source": [
        "# 21. Repeat Elements: Given a tuple and a number, create a new tuple where each element is repeated that number of times.\n",
        "tup = (-1, 0, 1, -8, 0, 8, -64, 50, 64, 8)\n",
        "num = 3\n",
        "res = tuple([i for i in tup for _ in range(num)])\n",
        "print(res)"
      ]
    },
    {
      "cell_type": "code",
      "execution_count": null,
      "metadata": {
        "id": "BsuJ-LroHLET",
        "outputId": "7b6e265a-8e24-49fb-83d0-65ab61cc246c"
      },
      "outputs": [
        {
          "name": "stdout",
          "output_type": "stream",
          "text": [
            "(0, 1, 2, 3, 4, 5, 6, 7, 8, 9)\n"
          ]
        }
      ],
      "source": [
        "# 22. Create Range Tuple: Create a tuple of numbers in a specified range (e.g., from 1 to 10).\n",
        "tup = tuple([i for i in range(10)])\n",
        "print(tup)"
      ]
    },
    {
      "cell_type": "code",
      "execution_count": null,
      "metadata": {
        "id": "Nv1Fr2CcHLEU",
        "outputId": "2c6ef0f6-6afe-478a-ef6c-310e7e325ac6"
      },
      "outputs": [
        {
          "name": "stdout",
          "output_type": "stream",
          "text": [
            "(8, 64, 50, -64, 8, 0, -8, 1, 0, -1)\n"
          ]
        }
      ],
      "source": [
        "# 23. Reverse Tuple: Create a new tuple that contains the elements of the original tuple in reverse order.\n",
        "tup = (-1, 0, 1, -8, 0, 8, -64, 50, 64, 8)\n",
        "reversed_tup = tup[::-1]\n",
        "\n",
        "print(reversed_tup)"
      ]
    },
    {
      "cell_type": "code",
      "execution_count": null,
      "metadata": {
        "id": "3eSbYA6JHLEU",
        "outputId": "19dac5db-84ff-4fc2-a6ea-37644c9cb26b"
      },
      "outputs": [
        {
          "name": "stdout",
          "output_type": "stream",
          "text": [
            "Not palindrome\n"
          ]
        }
      ],
      "source": [
        "# 24. Check Palindrome: Given a tuple, check if the tuple is a palindrome (reads the same forwards and backwards).\n",
        "tup = (-1, 0, 1, -8, 0, 8, -64, 50, 64, 8)\n",
        "\n",
        "if tup == tup[::-1]:\n",
        "    print('Palindrome')\n",
        "else:\n",
        "    print('Not palindrome')"
      ]
    },
    {
      "cell_type": "code",
      "execution_count": null,
      "metadata": {
        "id": "kw7wOklgHLEU",
        "outputId": "b988b254-b129-4a55-f1c6-2b569e2661a4"
      },
      "outputs": [
        {
          "name": "stdout",
          "output_type": "stream",
          "text": [
            "(-1, 0, 1, -8, 8, -64, 50, 64)\n"
          ]
        }
      ],
      "source": [
        "# 25. Get Unique Elements: Given a tuple, create a new tuple that contains only the unique elements while maintaining the original order.\n",
        "tup = (-1, 0, 1, -8, 0, 8, -64, 50, 64, 8)\n",
        "\n",
        "get = []\n",
        "for row in tup:\n",
        "    if row not in get:\n",
        "        get.append(row)\n",
        "\n",
        "unique_elements = tuple(get)\n",
        "print(unique_elements)"
      ]
    },
    {
      "cell_type": "markdown",
      "metadata": {
        "id": "Y92BXUSxHLEV"
      },
      "source": [
        "### **Set Tasks**"
      ]
    },
    {
      "cell_type": "code",
      "execution_count": null,
      "metadata": {
        "id": "jcLigP0oHLEV",
        "outputId": "e8b93d5f-61b8-4166-f96c-affd9fc3ccae"
      },
      "outputs": [
        {
          "name": "stdout",
          "output_type": "stream",
          "text": [
            "{1, 2, 3, 4, 5, 6, 7, 8, 9, 10}\n"
          ]
        }
      ],
      "source": [
        "# 1. Union of Sets: Given two sets, create a new set that contains all unique elements from both sets.\n",
        "set1 = {1, 2, 3, 4, 5, 6}\n",
        "set2 = {5, 6, 7, 8, 9, 10}\n",
        "\n",
        "new_set = set1.union(set2)\n",
        "print(new_set)"
      ]
    },
    {
      "cell_type": "code",
      "execution_count": null,
      "metadata": {
        "id": "zcCfkkRUHLEV",
        "outputId": "6ff787a3-c774-45cd-9c75-3dbc544e2b9f"
      },
      "outputs": [
        {
          "name": "stdout",
          "output_type": "stream",
          "text": [
            "{5, 6}\n"
          ]
        }
      ],
      "source": [
        "# 2. Intersection of Sets: Given two sets, create a new set that contains elements common to both sets.\n",
        "set1 = {1, 2, 3, 4, 5, 6}\n",
        "set2 = {5, 6, 7, 8, 9, 10}\n",
        "\n",
        "intersection_set = set1.intersection(set2)\n",
        "print(intersection_set)"
      ]
    },
    {
      "cell_type": "code",
      "execution_count": null,
      "metadata": {
        "id": "Eo7aSMpWHLEV",
        "outputId": "7e80a564-b26d-4335-835e-2998d86d1661"
      },
      "outputs": [
        {
          "data": {
            "text/plain": [
              "{1, 2, 3, 4}"
            ]
          },
          "execution_count": 54,
          "metadata": {},
          "output_type": "execute_result"
        }
      ],
      "source": [
        "# 3. Difference of Sets: Given two sets, create a new set with elements from the first set that are not in the second.\n",
        "set1 = {1, 2, 3, 4, 5, 6}\n",
        "set2 = {5, 6, 7, 8, 9, 10}\n",
        "\n",
        "diffenence_set = set1.difference(set2)"
      ]
    },
    {
      "cell_type": "code",
      "execution_count": null,
      "metadata": {
        "id": "F_GMAMfMHLEW",
        "outputId": "3bed148e-2f0d-4413-d379-bd3dd0773a74"
      },
      "outputs": [
        {
          "name": "stdout",
          "output_type": "stream",
          "text": [
            "subset\n"
          ]
        }
      ],
      "source": [
        "# 4. Check Subset: Given two sets, check if one set is a subset of the other.\n",
        "set1 = {1, 2, 3, 4, 5, 6, 7, 8, 9, 10}\n",
        "set2 = {5, 6, 7}\n",
        "\n",
        "if set2.issubset(set1):\n",
        "    print('subset')\n",
        "else:\n",
        "    print('not subset')\n"
      ]
    },
    {
      "cell_type": "code",
      "execution_count": null,
      "metadata": {
        "id": "f6edfEQ4HLEW",
        "outputId": "60b3314b-4b97-4573-e04c-3bb6d83be49d"
      },
      "outputs": [
        {
          "name": "stdout",
          "output_type": "stream",
          "text": [
            "element exists in the set\n"
          ]
        }
      ],
      "source": [
        "# 5. Check Element: Given a set and an element, check if the element exists in the set.\n",
        "s = {-1, 0, 1, -8, 0, 8, -64, 50, 64, 8}\n",
        "element = 8\n",
        "\n",
        "if element in s:\n",
        "    print('element exists in the set')\n",
        "else:\n",
        "    print(' element not exists in the set')"
      ]
    },
    {
      "cell_type": "code",
      "execution_count": null,
      "metadata": {
        "id": "kWnOC3SsHLEW",
        "outputId": "f5f5d855-3f5b-43d4-a495-14a3237f60ff"
      },
      "outputs": [
        {
          "name": "stdout",
          "output_type": "stream",
          "text": [
            "8\n"
          ]
        }
      ],
      "source": [
        "# 6. Set Length: Determine the number of unique elements in a set.\n",
        "s = {-1, 0, 1, -8, 0, 8, -64, 50, 64, 8}\n",
        "\n",
        "length = len(s)\n",
        "print(length)"
      ]
    },
    {
      "cell_type": "code",
      "execution_count": null,
      "metadata": {
        "id": "drwFYLkDHLEX",
        "outputId": "c4563718-6387-40ff-e40f-246848c65fdd"
      },
      "outputs": [
        {
          "name": "stdout",
          "output_type": "stream",
          "text": [
            "{0, 1, -64, 64, 8, 50, -8, -1}\n"
          ]
        }
      ],
      "source": [
        "# 7. Convert List to Set: Given a list, create a new set that contains only the unique elements from that list.\n",
        "l = [-1, 0, 1, -8, 0, 8, -64, 50, 64, 8]\n",
        "# convert to set\n",
        "s = set(l)\n",
        "print(s)"
      ]
    },
    {
      "cell_type": "code",
      "execution_count": null,
      "metadata": {
        "id": "sY6Gnvd8HLEX",
        "outputId": "3c9c3c2a-43b0-491e-e478-90ceaa89a2b3"
      },
      "outputs": [
        {
          "name": "stdout",
          "output_type": "stream",
          "text": [
            "{0, 1, 64, 8, 50, -8, -1}\n"
          ]
        }
      ],
      "source": [
        "# 8. Remove Element: Given a set and an element, remove the element if it exists.\n",
        "s = {-1, 0, 1, -8, 0, 8, -64, 50, 64, 8}\n",
        "element = -64\n",
        "\n",
        "new_s = set([i for i in s if i != element])\n",
        "print(new_s)"
      ]
    },
    {
      "cell_type": "code",
      "execution_count": null,
      "metadata": {
        "id": "Rah8hiMFHLEX",
        "outputId": "b82b0a16-518b-4b17-8fd2-8d3528cfd3fd"
      },
      "outputs": [
        {
          "name": "stdout",
          "output_type": "stream",
          "text": [
            "set()\n"
          ]
        }
      ],
      "source": [
        "# 9. Clear Set: Create a new empty set from an existing set.\n",
        "s = {-1, 0, 1, -8, 0, 8, -64, 50, 64, 8}\n",
        "# use clear method\n",
        "s.clear()\n",
        "print(s)"
      ]
    },
    {
      "cell_type": "code",
      "execution_count": null,
      "metadata": {
        "id": "dn9Qe8B2HLEY",
        "outputId": "ec4beda4-b7e8-4f56-ce4f-16fc67c21210"
      },
      "outputs": [
        {
          "name": "stdout",
          "output_type": "stream",
          "text": [
            "set is not empty\n"
          ]
        }
      ],
      "source": [
        "# 10. Check if Set is Empty: Determine if a set has any elements.\n",
        "s = {-1, 0, 1, -8, 0, 8, -64, 50, 64, 8}\n",
        "\n",
        "if bool(s):\n",
        "    print('set is not empty')\n",
        "else:\n",
        "    print('set is empty')"
      ]
    },
    {
      "cell_type": "code",
      "execution_count": null,
      "metadata": {
        "id": "1Z3DsAWeHLEY",
        "outputId": "d81fc3b5-9f34-4224-f7d4-ded7622d3a39"
      },
      "outputs": [
        {
          "name": "stdout",
          "output_type": "stream",
          "text": [
            "{1, 2, 9, 10}\n"
          ]
        }
      ],
      "source": [
        "# 11. Symmetric Difference: Given two sets, create a new set that contains elements that are in either set but not in both.\n",
        "set1 = {1, 2, 3, 4, 5, 6, 7, 8}\n",
        "set2 = {3, 4, 5, 6, 7, 8, 9, 10}\n",
        "# .simmetric_difference\n",
        "sim_dif_set = set2.symmetric_difference(set1)\n",
        "print(sim_dif_set)"
      ]
    },
    {
      "cell_type": "code",
      "execution_count": null,
      "metadata": {
        "id": "xmIVvtbDHLEY",
        "outputId": "7db75108-004a-427c-d987-0b624aa1931e"
      },
      "outputs": [
        {
          "name": "stdout",
          "output_type": "stream",
          "text": [
            "{0, 1, 64, -64, 7, 8, 50, -8, -1}\n"
          ]
        }
      ],
      "source": [
        "# 12. Add Element: Given a set and an element, add the element to the set if it is not already present.\n",
        "s = {-1, 0, 1, -8, 0, 8, -64, 50, 64, 8}\n",
        "element = 7\n",
        "# add\n",
        "if element not in s:\n",
        "    s.add(element)\n",
        "\n",
        "print(s)"
      ]
    },
    {
      "cell_type": "code",
      "execution_count": null,
      "metadata": {
        "id": "Yfp101plHLEZ",
        "outputId": "1e5d81c8-a3cb-4226-f29d-48562cc8f826"
      },
      "outputs": [
        {
          "name": "stdout",
          "output_type": "stream",
          "text": [
            "0\n"
          ]
        }
      ],
      "source": [
        "# 13. Pop Element: Given a set, remove and return an arbitrary element from the set.\n",
        "s = {-1, 0, 1, -8, 0, 8, -64, 50, 64, 8}\n",
        "element = 64\n",
        "# pop\n",
        "pop_set = s.pop()\n",
        "print(pop_set)"
      ]
    },
    {
      "cell_type": "code",
      "execution_count": null,
      "metadata": {
        "id": "50QX3BpDHLEZ",
        "outputId": "6c0700f1-e2df-43e5-fe99-664352c91ee1"
      },
      "outputs": [
        {
          "name": "stdout",
          "output_type": "stream",
          "text": [
            "64\n"
          ]
        }
      ],
      "source": [
        "# 14. Find Maximum: From a given set of numbers, find the maximum element.\n",
        "s = {-1, 0, 1, -8, 0, 8, -64, 50, 64, 8}\n",
        "\n",
        "# max\n",
        "max_in_set = max(s)\n",
        "print(max_in_set)\n"
      ]
    },
    {
      "cell_type": "code",
      "execution_count": 4,
      "metadata": {
        "colab": {
          "base_uri": "https://localhost:8080/"
        },
        "id": "Ifj8hM7BHLEa",
        "outputId": "ef97807c-4b33-44e9-9817-a8375b47bd44"
      },
      "outputs": [
        {
          "name": "stdout",
          "output_type": "stream",
          "text": [
            "-64\n"
          ]
        }
      ],
      "source": [
        "# 15. Find Minimum: From a given set of numbers, find the minimum element.\n",
        "s = {-1, 0, 1, -8, 0, 8, -64, 50, 64, 8}\n",
        "\n",
        "# min\n",
        "min_in_set = min(s)\n",
        "print(min_in_set)"
      ]
    },
    {
      "cell_type": "code",
      "execution_count": 7,
      "metadata": {
        "colab": {
          "base_uri": "https://localhost:8080/"
        },
        "id": "0wWl9zcnHLEa",
        "outputId": "166e925a-666b-4b97-9612-1a6a3fa286d3"
      },
      "outputs": [
        {
          "name": "stdout",
          "output_type": "stream",
          "text": [
            "{0, 64, -64, 8, 50, -8}\n"
          ]
        }
      ],
      "source": [
        "# 16. Filter Even Numbers: Given a set of integers, create a new set that contains only the even numbers.\n",
        "s = {-1, 0, 1, -8, 0, 8, -64, 50, 64, 8}\n",
        "\n",
        "# filter evens\n",
        "even_set = set([row for row in s if row % 2 == 0])\n",
        "print(even_set)"
      ]
    },
    {
      "cell_type": "code",
      "execution_count": 8,
      "metadata": {
        "colab": {
          "base_uri": "https://localhost:8080/"
        },
        "id": "GwpaaVRjHLEa",
        "outputId": "c91b522e-2f92-4ca7-b0c2-676a044653b4"
      },
      "outputs": [
        {
          "name": "stdout",
          "output_type": "stream",
          "text": [
            "{1, -1}\n"
          ]
        }
      ],
      "source": [
        "# 17. Filter Odd Numbers: Given a set of integers, create a new set that contains only the odd numbers.\n",
        "s = {-1, 0, 1, -8, 0, 8, -64, 50, 64, 8}\n",
        "\n",
        "# filter odds\n",
        "odd_set = set([row for row in s if row % 2 != 0])\n",
        "print(odd_set)"
      ]
    },
    {
      "cell_type": "code",
      "execution_count": 10,
      "metadata": {
        "colab": {
          "base_uri": "https://localhost:8080/"
        },
        "id": "Z1eqaBBOHLEb",
        "outputId": "4dda18ee-1833-4147-d5ab-d40e14e3893a"
      },
      "outputs": [
        {
          "name": "stdout",
          "output_type": "stream",
          "text": [
            "{0, 1, 2, 3, 4, 5, 6, 7, 8, 9}\n"
          ]
        }
      ],
      "source": [
        "# 18. Create a Set of a Range: Create a set of numbers in a specified range (e.g., from 1 to 10).\n",
        "s = set([ i for i in range(10)])\n",
        "print(s)"
      ]
    },
    {
      "cell_type": "code",
      "execution_count": 13,
      "metadata": {
        "colab": {
          "base_uri": "https://localhost:8080/"
        },
        "id": "KMfSmc7SHLEb",
        "outputId": "f6d54fed-cd6f-4dde-c577-a763a43de304"
      },
      "outputs": [
        {
          "name": "stdout",
          "output_type": "stream",
          "text": [
            "{1, 2, 3, 4, 5, 6, 7, 8, 9, 10}\n"
          ]
        }
      ],
      "source": [
        "# 19. Merge and Deduplicate: Given two lists, create a new set that merges both lists and removes duplicates.\n",
        "set1 = {1, 2, 3, 4, 5, 6, 7, 8}\n",
        "set2 = {3, 4, 5, 6, 7, 8, 9, 10}\n",
        "\n",
        "merged_set = set1.union(set2)\n",
        "print(merged_set)"
      ]
    },
    {
      "cell_type": "code",
      "execution_count": 23,
      "metadata": {
        "colab": {
          "base_uri": "https://localhost:8080/"
        },
        "id": "wq10-uwUHLEb",
        "outputId": "4a93823d-0580-45b1-bda3-5a9b957a1c7a"
      },
      "outputs": [
        {
          "name": "stdout",
          "output_type": "stream",
          "text": [
            "they have elements in common.\n"
          ]
        }
      ],
      "source": [
        "# 20. Check Disjoint Sets: Given two sets, check if they have no elements in common.\n",
        "set1 = {1, 2, 3, 4, 5, 6, 7, 8}\n",
        "set2 = {3, 4, 5, 6, 7, 8, 9, 10}\n",
        "\n",
        "if set1.union(set2) == set1.symmetric_difference(set2):\n",
        "    print('they have no elements in common.')\n",
        "else:\n",
        "    print('they have elements in common.')"
      ]
    },
    {
      "cell_type": "code",
      "execution_count": 26,
      "metadata": {
        "colab": {
          "base_uri": "https://localhost:8080/"
        },
        "id": "zuvuNBWJHLEb",
        "outputId": "00004c94-1414-4d86-cfdd-6b41bdee2fbc"
      },
      "outputs": [
        {
          "name": "stdout",
          "output_type": "stream",
          "text": [
            "[1, 2, 3, 4, 5, 6, 7, 8, 9, 10]\n"
          ]
        }
      ],
      "source": [
        "# 21. Remove Duplicates from a List: Given a list, create a set from it to remove duplicates, then convert back to a list.\n",
        "l = [1, 2, 3, 4, 5, 6, 7, 8, 3, 4, 5, 6, 7, 8, 9, 10]\n",
        "remove_dublikation = list(set(l))\n",
        "\n",
        "print(remove_dublikation)"
      ]
    },
    {
      "cell_type": "code",
      "execution_count": 28,
      "metadata": {
        "colab": {
          "base_uri": "https://localhost:8080/"
        },
        "id": "ullTggkSHLEc",
        "outputId": "bb551612-b5ff-47a0-ea0d-17aa141f5a36"
      },
      "outputs": [
        {
          "name": "stdout",
          "output_type": "stream",
          "text": [
            "10\n"
          ]
        }
      ],
      "source": [
        "# 22. Count Unique Elements: Given a list, determine the count of unique elements using a set.\n",
        "l = [1, 2, 3, 4, 5, 6, 7, 8, 3, 4, 5, 6, 7, 8, 9, 10]\n",
        "remove_dublikation = list(set(l))\n",
        "count_uniques = len(remove_dublikation)\n",
        "print(count_uniques)"
      ]
    },
    {
      "cell_type": "code",
      "execution_count": 49,
      "metadata": {
        "colab": {
          "base_uri": "https://localhost:8080/"
        },
        "id": "muFJH2yNHLEd",
        "outputId": "873faca8-1572-41d5-974d-21c31076ea4f"
      },
      "outputs": [
        {
          "name": "stdout",
          "output_type": "stream",
          "text": [
            "{0, 1, 2, 3, 4, 5, 6, 7, 8, 9}\n"
          ]
        }
      ],
      "source": [
        "# 23. Generate Random Set: Create a set with a specified number of random integers within a certain range.\n",
        "import random\n",
        "\n",
        "# Generate a set of 10 unique random numbers between 1 and 10\n",
        "random_set = set(random.sample(range(0, 10), 10))\n",
        "print(random_set)\n"
      ]
    },
    {
      "cell_type": "markdown",
      "metadata": {
        "id": "qexBO0C0UEdu"
      },
      "source": [
        "### **Dictionary Tasks**"
      ]
    },
    {
      "cell_type": "code",
      "execution_count": 58,
      "metadata": {
        "colab": {
          "base_uri": "https://localhost:8080/"
        },
        "id": "EK4cILxiUyuP",
        "outputId": "ef18d3b9-1ef0-46a7-8a9f-5cef0b73ea6d"
      },
      "outputs": [
        {
          "name": "stdout",
          "output_type": "stream",
          "text": [
            "20\n"
          ]
        }
      ],
      "source": [
        "# 1. Get Value: Given a dictionary and a key, retrieve the associated value, considering what to return if the key doesn’t exist.\n",
        "my_dict = {'a': 10, 'b': 20, 'c': 30}\n",
        "key = 'b'\n",
        "\n",
        "if key in my_dict:\n",
        "  print(my_dict[key])\n",
        "else:\n",
        "  print('Key not found')\n"
      ]
    },
    {
      "cell_type": "code",
      "execution_count": 62,
      "metadata": {
        "colab": {
          "base_uri": "https://localhost:8080/"
        },
        "id": "WYSSHN2mU7Vn",
        "outputId": "6570d0d1-8856-4ffa-d77b-2d4eccb0c10f"
      },
      "outputs": [
        {
          "name": "stdout",
          "output_type": "stream",
          "text": [
            "it present\n"
          ]
        }
      ],
      "source": [
        "# 2. Check Key: Given a dictionary and a key, check if the key is present in the dictionary.\n",
        "my_dict = {'a': 10, 'b': 20, 'c': 30}\n",
        "key = 'b'\n",
        "\n",
        "if key in my_dict.keys():\n",
        "  print(\"it present\")\n",
        "else:\n",
        "  print('it is not present')"
      ]
    },
    {
      "cell_type": "code",
      "execution_count": 66,
      "metadata": {
        "colab": {
          "base_uri": "https://localhost:8080/"
        },
        "id": "12YnZvcgVEKy",
        "outputId": "88abfe24-0b91-48f8-c07f-e8c3b958f59e"
      },
      "outputs": [
        {
          "name": "stdout",
          "output_type": "stream",
          "text": [
            "3\n"
          ]
        }
      ],
      "source": [
        "# 3. Count Keys: Determine the number of keys in the dictionary.\n",
        "my_dict = {'a': 10, 'b': 20, 'c': 30}\n",
        "count_keys = len(my_dict.keys())\n",
        "print(count_keys)"
      ]
    },
    {
      "cell_type": "code",
      "execution_count": 68,
      "metadata": {
        "colab": {
          "base_uri": "https://localhost:8080/"
        },
        "id": "eDoq239tVFbJ",
        "outputId": "0c1c9f86-eca3-4bc2-9ce3-843797dfb1b3"
      },
      "outputs": [
        {
          "name": "stdout",
          "output_type": "stream",
          "text": [
            "dict_keys(['a', 'b', 'c'])\n"
          ]
        }
      ],
      "source": [
        "# 4. Get All Keys: Create a list that contains all the keys in the dictionary.\n",
        "my_dict = {'a': 10, 'b': 20, 'c': 30}\n",
        "get_all_keys = my_dict.keys()\n",
        "print(get_all_keys)"
      ]
    },
    {
      "cell_type": "code",
      "execution_count": 70,
      "metadata": {
        "colab": {
          "base_uri": "https://localhost:8080/"
        },
        "id": "YHMRDR6WVHTx",
        "outputId": "f15df8e5-f289-469e-80a7-6643f8331ce2"
      },
      "outputs": [
        {
          "name": "stdout",
          "output_type": "stream",
          "text": [
            "dict_values([10, 20, 30])\n"
          ]
        }
      ],
      "source": [
        "# 5. Get All Values: Create a list that contains all the values in the dictionary.\n",
        "my_dict = {'a': 10, 'b': 20, 'c': 30}\n",
        "get_all_values = my_dict.values()\n",
        "print(get_all_values)"
      ]
    },
    {
      "cell_type": "code",
      "execution_count": 85,
      "metadata": {
        "colab": {
          "base_uri": "https://localhost:8080/"
        },
        "id": "7j94Ed_gVIEB",
        "outputId": "360df65a-fd94-4385-b712-b8406e3b469f"
      },
      "outputs": [
        {
          "name": "stdout",
          "output_type": "stream",
          "text": [
            "{'a': 10, 'b': 20, 'c': 30, 'd': 40, 'e': 50, 'f': 60}\n"
          ]
        }
      ],
      "source": [
        "# 6. Merge Dictionaries: Given two dictionaries, create a new dictionary that combines both.\n",
        "my_dict1 = {'a': 10, 'b': 20, 'c': 30}\n",
        "my_dict2 = {'d': 40, 'e': 50, 'f': 60}\n",
        "\n",
        "new_dict = my_dict1 | my_dict2\n",
        "print(new_dict)\n"
      ]
    },
    {
      "cell_type": "code",
      "execution_count": 93,
      "metadata": {
        "colab": {
          "base_uri": "https://localhost:8080/"
        },
        "id": "9_FP1oQ1afJ9",
        "outputId": "b86c9207-8e90-4f98-f019-ab8e55bc44bc"
      },
      "outputs": [
        {
          "name": "stdout",
          "output_type": "stream",
          "text": [
            "{'b': 20, 'c': 30, 'd': 40, 'e': 50, 'f': 60}\n"
          ]
        }
      ],
      "source": [
        "# 7. Remove Key: Given a dictionary and a key, remove the key if it exists, handling the case if it doesn’t.\n",
        "my_dict = {'a': 10, 'b': 20, 'c': 30, 'd': 40, 'e': 50, 'f': 60}\n",
        "key = 'a'\n",
        "res_dict = {k : v for k , v in my_dict.items() if k != key}\n",
        "\n",
        "print(res_dict)"
      ]
    },
    {
      "cell_type": "code",
      "execution_count": 94,
      "metadata": {
        "colab": {
          "base_uri": "https://localhost:8080/"
        },
        "id": "mwSoPJJQagq7",
        "outputId": "8c2c2101-2a12-4676-c82b-a87374ec58e1"
      },
      "outputs": [
        {
          "name": "stdout",
          "output_type": "stream",
          "text": [
            "{}\n"
          ]
        }
      ],
      "source": [
        "# 8. Clear Dictionary: Create a new empty dictionary.\n",
        "my_dict = {'a': 10, 'b': 20, 'c': 30, 'd': 40, 'e': 50, 'f': 60}\n",
        "my_dict.clear()\n",
        "print(my_dict)"
      ]
    },
    {
      "cell_type": "code",
      "execution_count": 1,
      "metadata": {
        "id": "naHtiMkjahub"
      },
      "outputs": [
        {
          "name": "stdout",
          "output_type": "stream",
          "text": [
            "Dictionary is not Empty\n"
          ]
        }
      ],
      "source": [
        "# 9. Check if Dictionary is Empty: Determine if a dictionary has any elements.\n",
        "my_dict = {'a': 10, 'b': 20, 'c': 30, 'd': 40, 'e': 50, 'f': 60}\n",
        "if bool(my_dict):\n",
        "    print('Dictionary is not Empty')\n",
        "else:\n",
        "    print('Dictionary is Empty')"
      ]
    },
    {
      "cell_type": "code",
      "execution_count": 11,
      "metadata": {
        "id": "v_hsgJgaai3j"
      },
      "outputs": [
        {
          "name": "stdout",
          "output_type": "stream",
          "text": [
            "'a':10\n"
          ]
        }
      ],
      "source": [
        "# 10. Get Key-Value Pair: Given a dictionary and a key, retrieve the key-value pair if the key exists.\n",
        "my_dict = {'a': 10, 'b': 20, 'c': 30, 'd': 40, 'e': 50, 'f': 60}\n",
        "\n",
        "# func get_key_value_pair\n",
        "def get_key_value_pair(dict, key):\n",
        "    if key in dict.keys():\n",
        "        print(f\"'{key}':{dict[key]}\")\n",
        "get_key_value_pair(my_dict, 'a')"
      ]
    },
    {
      "cell_type": "code",
      "execution_count": 22,
      "metadata": {
        "id": "tC93-gQcajib"
      },
      "outputs": [
        {
          "name": "stdout",
          "output_type": "stream",
          "text": [
            "{'a': '5', 'b': 20, 'c': 30, 'd': 40, 'e': 50, 'f': '18'}\n"
          ]
        }
      ],
      "source": [
        "# 11. Update Value: Given a dictionary, update the value for a specified key.\n",
        "my_dict = {'a': 10, 'b': 20, 'c': 30, 'd': 40, 'e': 50, 'f': 60}\n",
        "# use update method\n",
        "my_dict.update({'a': '5', 'f': '18'})\n",
        "print(my_dict)"
      ]
    },
    {
      "cell_type": "code",
      "execution_count": 26,
      "metadata": {},
      "outputs": [
        {
          "name": "stdout",
          "output_type": "stream",
          "text": [
            "6\n"
          ]
        }
      ],
      "source": [
        "# 12. Count Value Occurrences: Given a dictionary, count how many times a specific value appears across the keys.\n",
        "my_dict = {'a': 10, 'b': 20, 'c': 30, 'd': 40, 'e': 50, 'f': 60}\n",
        "\n",
        "# my_dict.values()\n",
        "dict_values = my_dict.values()\n",
        "# len()\n",
        "count_values = len(dict_values)\n",
        "print(count_values)"
      ]
    },
    {
      "cell_type": "code",
      "execution_count": 1,
      "metadata": {},
      "outputs": [
        {
          "name": "stdout",
          "output_type": "stream",
          "text": [
            "{10: 'a', 20: 'b', 30: 'c', 40: 'd', 50: 'e', 60: 'f'}\n"
          ]
        }
      ],
      "source": [
        "# 13. Invert Dictionary: Given a dictionary, create a new dictionary that swaps keys and values.\n",
        "my_dict = {'a': 10, 'b': 20, 'c': 30, 'd': 40, 'e': 50, 'f': 60}\n",
        "\n",
        "# Invert Dictionary\n",
        "new_dict = {value : key for key, value in my_dict.items()}\n",
        "print(new_dict)"
      ]
    },
    {
      "cell_type": "code",
      "execution_count": 6,
      "metadata": {},
      "outputs": [
        {
          "name": "stdout",
          "output_type": "stream",
          "text": [
            "{'c': 30}\n"
          ]
        }
      ],
      "source": [
        "# 14. Find Keys with Value: Given a dictionary and a value, create a list of all keys that have that value.\n",
        "my_dict = {'a': 10, 'b': 20, 'c': 30, 'd': 40, 'e': 50, 'f': 60}\n",
        "v = 30\n",
        "# use for loop\n",
        "for key, value in my_dict.items():\n",
        "    if value == v:\n",
        "        print({key : value})"
      ]
    },
    {
      "cell_type": "code",
      "execution_count": null,
      "metadata": {},
      "outputs": [],
      "source": []
    },
    {
      "cell_type": "code",
      "execution_count": 19,
      "metadata": {},
      "outputs": [
        {
          "name": "stdout",
          "output_type": "stream",
          "text": [
            "{'a': 10, 'b': 20, 'c': 30, 'd': 40, 'e': 50, 'f': 60}\n"
          ]
        }
      ],
      "source": [
        "# 15. Create a Dictionary from Lists: Given two lists (one of keys and one of values), create a dictionary that pairs them.\n",
        "list1 = ['a', 'b', 'c', 'd', 'e', 'f']\n",
        "list2 = [10, 20, 30, 40, 50, 60]\n",
        "# Create a Dictionary from Lists\n",
        "creat_dict = {list1[i] : list2[i] for i in range(len(list1))}\n",
        "print(creat_dict)"
      ]
    },
    {
      "cell_type": "code",
      "execution_count": null,
      "metadata": {},
      "outputs": [],
      "source": []
    },
    {
      "cell_type": "code",
      "execution_count": 46,
      "metadata": {},
      "outputs": [
        {
          "name": "stdout",
          "output_type": "stream",
          "text": [
            "Nested dictionary\n"
          ]
        }
      ],
      "source": [
        "# 16. Check for Nested Dictionaries: Given a dictionary, check if any values are also dictionaries.\n",
        "my_dict = {'a': 10, 'b': 20, 'c': {30 : 100}, 'd': 40, 'e': 50, 'f': 60}\n",
        "\n",
        "def Check_for_Nested_Dictionaries(input_dict):\n",
        "    for value in input_dict.values():\n",
        "        if isinstance(value, dict):\n",
        "            return 'Nested dictionary'\n",
        "    return 'Not nested dictionary'\n",
        "\n",
        "print(Check_for_Nested_Dictionaries(my_dict))  # Natija: Nested dictionary"
      ]
    },
    {
      "cell_type": "code",
      "execution_count": null,
      "metadata": {},
      "outputs": [
        {
          "data": {
            "text/plain": [
              "dict_values([10, 20, {30: 100}, 40, 50, 60])"
            ]
          },
          "execution_count": 50,
          "metadata": {},
          "output_type": "execute_result"
        }
      ],
      "source": [
        "# 17. Get Nested Value: Given a nested dictionary, retrieve a value from within one of the inner dictionaries.\n",
        "my_dict = {'a': 10, 'b': 20, 'c': {30 : 100}, 'd': 40, 'e': 50, 'f': 60}\n",
        "\n",
        "val = my_dict.values()\n",
        "\n",
        "val\n",
        "len"
      ]
    },
    {
      "cell_type": "code",
      "execution_count": null,
      "metadata": {},
      "outputs": [],
      "source": [
        "# 18. Create Default Dictionary: Create a dictionary that provides a default value for missing keys.\n",
        "1"
      ]
    },
    {
      "cell_type": "code",
      "execution_count": 29,
      "metadata": {},
      "outputs": [],
      "source": [
        "# 19. Count Unique Values: Given a dictionary, determine the number of unique values it contains.\n"
      ]
    },
    {
      "cell_type": "code",
      "execution_count": 21,
      "metadata": {},
      "outputs": [],
      "source": [
        "# 20. Sort Dictionary by Key: Create a new dictionary sorted by keys.\n"
      ]
    },
    {
      "cell_type": "code",
      "execution_count": 22,
      "metadata": {},
      "outputs": [],
      "source": [
        "# 21. Sort Dictionary by Value: Create a new dictionary sorted by values.\n"
      ]
    },
    {
      "cell_type": "code",
      "execution_count": 23,
      "metadata": {},
      "outputs": [],
      "source": [
        "# 22. Filter by Value: Given a dictionary, create a new dictionary that only includes items with values that meet a certain condition.\n"
      ]
    },
    {
      "cell_type": "code",
      "execution_count": 24,
      "metadata": {},
      "outputs": [],
      "source": [
        "# 23. Check for Common Keys: Given two dictionaries, check if they have any keys in common.\n"
      ]
    },
    {
      "cell_type": "code",
      "execution_count": 25,
      "metadata": {},
      "outputs": [],
      "source": [
        "# 24. Create Dictionary from Tuple: Given a tuple of key-value pairs, create a dictionary from it.\n"
      ]
    },
    {
      "cell_type": "code",
      "execution_count": null,
      "metadata": {},
      "outputs": [],
      "source": [
        "# 25. Get the First Key-Value Pair: Retrieve the first key-value pair from a dictionary.\n"
      ]
    }
  ],
  "metadata": {
    "colab": {
      "include_colab_link": true,
      "provenance": []
    },
    "kernelspec": {
      "display_name": "Python 3",
      "language": "python",
      "name": "python3"
    },
    "language_info": {
      "codemirror_mode": {
        "name": "ipython",
        "version": 3
      },
      "file_extension": ".py",
      "mimetype": "text/x-python",
      "name": "python",
      "nbconvert_exporter": "python",
      "pygments_lexer": "ipython3",
      "version": "3.12.8"
    }
  },
  "nbformat": 4,
  "nbformat_minor": 0
}
