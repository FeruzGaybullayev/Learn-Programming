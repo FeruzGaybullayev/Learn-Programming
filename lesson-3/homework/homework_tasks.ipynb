{
 "cells": [
  {
   "cell_type": "code",
   "execution_count": 6,
   "metadata": {},
   "outputs": [
    {
     "name": "stdout",
     "output_type": "stream",
     "text": [
      "2\n"
     ]
    }
   ],
   "source": [
    "# 1. Count Occurrences: Given a list and an element, find how many times the element appears in the list.\n",
    "l = ['1', '2', '3', '4', '5', '6', '7', '8', '9', '3', '4', '5', '6']\n",
    "element = '5'\n",
    "\n",
    "# count()\n",
    "con = l.count(element)\n",
    "\n",
    "print(con)"
   ]
  },
  {
   "cell_type": "code",
   "execution_count": 14,
   "metadata": {},
   "outputs": [
    {
     "name": "stdout",
     "output_type": "stream",
     "text": [
      "63\n"
     ]
    }
   ],
   "source": [
    "# 2. Sum of Elements: Given a list of numbers, calculate the total of all the elements.\n",
    "numbers = [1, 2, 3, 4, 5, 6, 7, 8, 9, 3, 4, 5, 6]\n",
    "# sum()\n",
    "sum_numbers = sum(numbers)\n",
    "print(sum_numbers)"
   ]
  },
  {
   "cell_type": "code",
   "execution_count": 16,
   "metadata": {},
   "outputs": [
    {
     "name": "stdout",
     "output_type": "stream",
     "text": [
      "9\n"
     ]
    }
   ],
   "source": [
    "# 3. Max Element: From a given list, determine the largest element.\n",
    "numbers = [1, 2, 3, 4, 5, 6, 7, 8, 9, 3, 4, 5, 6]\n",
    "# max\n",
    "max_num = max(numbers)\n",
    "\n",
    "print(max_num)"
   ]
  },
  {
   "cell_type": "code",
   "execution_count": null,
   "metadata": {},
   "outputs": [
    {
     "name": "stdout",
     "output_type": "stream",
     "text": [
      "1\n"
     ]
    }
   ],
   "source": [
    "# 4. Min Element: From a given list, determine the smallest element.\n",
    "numbers = [1, 2, 3, 4, 5, 6, 7, 8, 9, 3, 4, 5, 6]\n",
    "# min\n",
    "min_num = min(numbers)\n",
    "\n",
    "print(min_num)"
   ]
  },
  {
   "cell_type": "code",
   "execution_count": 18,
   "metadata": {},
   "outputs": [
    {
     "name": "stdout",
     "output_type": "stream",
     "text": [
      "The element is present in the list.\n"
     ]
    }
   ],
   "source": [
    "# 5. Check Element: Given a list and an element, check if the element is present in the list.\n",
    "l = ['1', '2', '3', '4', '5', '6', '7', '8', '9', '3', '4', '5', '6']\n",
    "element = '5'\n",
    "\n",
    "# if else\n",
    "if element in l:\n",
    "    print('The element is present in the list.')\n",
    "else:\n",
    "    print('The element isn\\'t present in the list.')"
   ]
  },
  {
   "cell_type": "code",
   "execution_count": 20,
   "metadata": {},
   "outputs": [
    {
     "name": "stdout",
     "output_type": "stream",
     "text": [
      "First element: 1\n"
     ]
    }
   ],
   "source": [
    "# 6. First Element: Access the first element of a list, considering what to return if the list is empty.\n",
    "l = ['1', '2', '3', '4', '5', '6', '7', '8', '9', '3', '4', '5', '6']\n",
    "\n",
    "# if else\n",
    "if bool(l):\n",
    "    print('First element:', l[0])\n",
    "else:\n",
    "    print('List is empty')"
   ]
  },
  {
   "cell_type": "code",
   "execution_count": 21,
   "metadata": {},
   "outputs": [
    {
     "name": "stdout",
     "output_type": "stream",
     "text": [
      "Last element: 6\n"
     ]
    }
   ],
   "source": [
    "# 7. Last Element: Access the last element of a list, considering what to return if the list is empty.\n",
    "l = ['1', '2', '3', '4', '5', '6', '7', '8', '9', '3', '4', '5', '6']\n",
    "\n",
    "# if else\n",
    "if bool(l):\n",
    "    print('Last element:', l[::-1][0])\n",
    "else:\n",
    "    print('List is empty')"
   ]
  },
  {
   "cell_type": "code",
   "execution_count": 23,
   "metadata": {},
   "outputs": [
    {
     "name": "stdout",
     "output_type": "stream",
     "text": [
      "['1', '2', '3']\n"
     ]
    }
   ],
   "source": [
    "# 8. Slice List: Create a new list that contains only the first three elements of the original list.\n",
    "l = ['1', '2', '3', '4', '5', '6', '7', '8', '9', '3', '4', '5', '6']\n",
    "\n",
    "# Slice [start:end:step]\n",
    "new_l = l[:3]\n",
    "print(new_l)"
   ]
  },
  {
   "cell_type": "code",
   "execution_count": 24,
   "metadata": {},
   "outputs": [
    {
     "name": "stdout",
     "output_type": "stream",
     "text": [
      "['6', '5', '4', '3', '9', '8', '7', '6', '5', '4', '3', '2', '1']\n"
     ]
    }
   ],
   "source": [
    "# 9. Reverse List: Create a new list that contains the elements of the original list in reverse order.\n",
    "l = ['1', '2', '3', '4', '5', '6', '7', '8', '9', '3', '4', '5', '6']\n",
    "\n",
    "# [::-1]\n",
    "new_l = l[::-1]\n",
    "print(new_l)"
   ]
  },
  {
   "cell_type": "code",
   "execution_count": 25,
   "metadata": {},
   "outputs": [
    {
     "name": "stdout",
     "output_type": "stream",
     "text": [
      "['1', '2', '3', '3', '4', '4', '5', '5', '6', '6', '7', '8', '9']\n"
     ]
    }
   ],
   "source": [
    "# 10. Sort List: Create a new list that contains the elements of the original list in sorted order.\n",
    "l = ['1', '2', '3', '4', '5', '6', '7', '8', '9', '3', '4', '5', '6']\n",
    "# sorted\n",
    "sorted_l = sorted(l)\n",
    "\n",
    "print(sorted_l)"
   ]
  },
  {
   "cell_type": "code",
   "execution_count": 31,
   "metadata": {},
   "outputs": [
    {
     "name": "stdout",
     "output_type": "stream",
     "text": [
      "['1', '2', '7', '8', '9']\n"
     ]
    }
   ],
   "source": [
    "# 11. Remove Duplicates: Given a list, create a new list that contains only unique elements from the original list.\n",
    "l = ['1', '2', '3', '4', '5', '6', '7', '8', '9', '3', '4', '5', '6']\n",
    "\n",
    "# remove by list comprehension\n",
    "new_l = [row for row in l if l.count(row) == 1]\n",
    "\n",
    "print(new_l)"
   ]
  },
  {
   "cell_type": "code",
   "execution_count": 40,
   "metadata": {},
   "outputs": [
    {
     "name": "stdout",
     "output_type": "stream",
     "text": [
      "['1', '2', '3', '4', '5', '6', '7', '8', '9', '3', '4', '5', '6', '5']\n"
     ]
    }
   ],
   "source": [
    "# 12. Insert Element: Given a list and an element, insert the element at a specified index.\n",
    "l = ['1', '2', '3', '4', '5', '6', '7', '8', '9', '3', '4', '5', '6']\n",
    "element = '5'\n",
    "# append\n",
    "l.append(element)\n",
    "print(l)"
   ]
  },
  {
   "cell_type": "code",
   "execution_count": 14,
   "metadata": {},
   "outputs": [
    {
     "name": "stdout",
     "output_type": "stream",
     "text": [
      "Index = 1\n"
     ]
    }
   ],
   "source": [
    "# 13. Index of Element: Given a list and an element, find the index of the first occurrence of the element.\n",
    "l = ['1', '2', '3', '4', '5', '6', '7', '8', '9', '3', '4', '5', '6']\n",
    "element = '2'\n",
    "# find the index of the first occurrence of the element.\n",
    "for i in range(len(l)):\n",
    "    if l[i] == element:\n",
    "        index = i\n",
    "        print('Index =', index)\n",
    "        break"
   ]
  },
  {
   "cell_type": "code",
   "execution_count": 18,
   "metadata": {},
   "outputs": [
    {
     "name": "stdout",
     "output_type": "stream",
     "text": [
      "Not Empty\n"
     ]
    }
   ],
   "source": [
    "# 14. Check for Empty List: Determine if a list is empty and return a boolean.\n",
    "l = ['1', '2', '3', '4', '5', '6', '7', '8', '9', '3', '4', '5', '6']\n",
    "\n",
    "# if a list is empty and return a boolean.\n",
    "if bool(l):\n",
    "    print('Not Empty')\n",
    "else:\n",
    "    print('Empty')"
   ]
  },
  {
   "cell_type": "code",
   "execution_count": 20,
   "metadata": {},
   "outputs": [
    {
     "name": "stdout",
     "output_type": "stream",
     "text": [
      "6\n"
     ]
    }
   ],
   "source": [
    "# 15. Count Even Numbers: Given a list of integers, count how many of them are even.\n",
    "numbers = [1, 2, 3, 4, 5, 6, 7, 8, 9, 3, 4, 5, 6]\n",
    "count_evens = 0\n",
    "# count how many of them are even.\n",
    "for num in numbers:\n",
    "    if num % 2 == 0:\n",
    "        count_evens += 1\n",
    "print(count_evens)"
   ]
  },
  {
   "cell_type": "code",
   "execution_count": 22,
   "metadata": {},
   "outputs": [
    {
     "name": "stdout",
     "output_type": "stream",
     "text": [
      "7\n"
     ]
    }
   ],
   "source": [
    "# 16. Count Odd Numbers: Given a list of integers, count how many of them are odd.\n",
    "numbers = [1, 2, 3, 4, 5, 6, 7, 8, 9, 3, 4, 5, 6]\n",
    "count_odds = 0\n",
    "# count how many of them are odd.\n",
    "for num in numbers:\n",
    "    if num % 2 != 0:\n",
    "        count_odds += 1\n",
    "print(count_odds)"
   ]
  },
  {
   "cell_type": "code",
   "execution_count": null,
   "metadata": {},
   "outputs": [
    {
     "name": "stdout",
     "output_type": "stream",
     "text": [
      "['1', '2', '3', '3', '4', '5']\n"
     ]
    }
   ],
   "source": [
    "# 17. Concatenate Lists: Given two lists, create a new list that combines both lists.\n",
    "list1 = ['1', '2', '3']\n",
    "list2 = ['3', '4', '5']\n",
    "\n",
    "# create a new list that combines both lists.\n",
    "concantrate = list1 + list2\n",
    "\n",
    "print(concantrate)"
   ]
  },
  {
   "cell_type": "code",
   "execution_count": 26,
   "metadata": {},
   "outputs": [],
   "source": [
    "# 18. Find Sublist: Given a list and a sublist, check if the sublist exists within the list.\n",
    "l = ['1', '2', '3', '4', '5', '6', '7', '8', '9', '3', '4', '5', '6']\n",
    "sub_l = ['3', '4', '5']\n",
    "\n",
    "# check if the sublist exists within the list.\n",
    "def Find_Sublist(list, sublist):\n",
    "    m = len(list)\n",
    "    n = len(sublist)\n"
   ]
  },
  {
   "cell_type": "code",
   "execution_count": null,
   "metadata": {},
   "outputs": [],
   "source": [
    "# 19. Replace Element: Given a list, replace the first occurrence of a specified element with another element.\n"
   ]
  },
  {
   "cell_type": "code",
   "execution_count": null,
   "metadata": {},
   "outputs": [],
   "source": [
    "# 20. Find Second Largest: From a given list, find the second largest element."
   ]
  }
 ],
 "metadata": {
  "kernelspec": {
   "display_name": "Python 3",
   "language": "python",
   "name": "python3"
  },
  "language_info": {
   "codemirror_mode": {
    "name": "ipython",
    "version": 3
   },
   "file_extension": ".py",
   "mimetype": "text/x-python",
   "name": "python",
   "nbconvert_exporter": "python",
   "pygments_lexer": "ipython3",
   "version": "3.12.8"
  }
 },
 "nbformat": 4,
 "nbformat_minor": 2
}
