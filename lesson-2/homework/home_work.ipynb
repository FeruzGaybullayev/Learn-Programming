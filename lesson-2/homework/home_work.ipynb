{
 "cells": [
  {
   "cell_type": "markdown",
   "metadata": {},
   "source": [
    "Number Data Type Questions:"
   ]
  },
  {
   "cell_type": "code",
   "execution_count": 5,
   "metadata": {},
   "outputs": [
    {
     "data": {
      "text/plain": [
       "'2 decimal places: 2025.01'"
      ]
     },
     "execution_count": 5,
     "metadata": {},
     "output_type": "execute_result"
    }
   ],
   "source": [
    "# 1. Create a program that takes a float number as input and rounds it to 2 decimal places.\n",
    "def rounding_2_room(float):\n",
    "    return f'2 decimal places: {float:.2f}'\n",
    "# User input\n",
    "user = float(input('Enter a number:'))\n",
    "decimal_float = rounding_2_room(user)\n",
    "decimal_float"
   ]
  },
  {
   "cell_type": "code",
   "execution_count": 6,
   "metadata": {},
   "outputs": [
    {
     "name": "stdout",
     "output_type": "stream",
     "text": [
      "Largest number: 351.0\n",
      "Smallest number: 124.0\n"
     ]
    }
   ],
   "source": [
    "# 2. Write a Python file that asks for three numbers and outputs the largest and smallest.\n",
    "x = float(input('Input first number'))\n",
    "y = float(input('Input second number'))\n",
    "z = float(input('Input thirt number'))\n",
    "largest = max(x, y, z)\n",
    "smallest = min(x, y, z)\n",
    "print('Largest number:', largest)\n",
    "print('Smallest number:', smallest)"
   ]
  },
  {
   "cell_type": "code",
   "execution_count": 7,
   "metadata": {},
   "outputs": [
    {
     "name": "stdout",
     "output_type": "stream",
     "text": [
      "819.0 km = 819000.0 m\n",
      "819.0 km = 81900000.0 cm\n"
     ]
    }
   ],
   "source": [
    "# 3. Create a program that converts kilometers to meters and centimeters.\n",
    "km = float(input('Input (km)'))\n",
    "m = km * 1000\n",
    "sm = km * 1000 * 100\n",
    "print(f\"{km} km = {m} m\")\n",
    "print(f\"{km} km = {sm} cm\")"
   ]
  },
  {
   "cell_type": "code",
   "execution_count": 8,
   "metadata": {},
   "outputs": [
    {
     "name": "stdout",
     "output_type": "stream",
     "text": [
      "Integer division: 3.0\n",
      "Theremainder: 2.0\n"
     ]
    }
   ],
   "source": [
    "# 4. Write a program that takes two numbers and prints out the result of integer division and theremainder.\n",
    "a = float(input('Input first number'))\n",
    "b = float(input('Input second number'))\n",
    "\n",
    "m, n = divmod(a, b)\n",
    "print(f\"Integer division: {m}\")\n",
    "print(f\"Theremainder: {n}\")"
   ]
  },
  {
   "cell_type": "code",
   "execution_count": 9,
   "metadata": {},
   "outputs": [
    {
     "name": "stdout",
     "output_type": "stream",
     "text": [
      "15.0 selsiy = 59.0 farangeyt\n"
     ]
    }
   ],
   "source": [
    "# 5. Make a program that converts a given Celsius temperature to Fahrenheit.\n",
    "# (0  °C  × 9/5) + 32 = 32  °F\n",
    "selsiy = float(input('Input Selsiy'))\n",
    "fahrenheit = 9/5 * selsiy + 32\n",
    "\n",
    "print(f\"{selsiy} selsiy = {fahrenheit} farangeyt\")"
   ]
  },
  {
   "cell_type": "code",
   "execution_count": 10,
   "metadata": {},
   "outputs": [
    {
     "name": "stdout",
     "output_type": "stream",
     "text": [
      "Last number: 5\n"
     ]
    }
   ],
   "source": [
    "# Create a program that accepts a number and returns the last digit of that number.\n",
    "n = int(input('Input a number'))\n",
    "l = len(str(n))\n",
    "print(f\"Last number: {str(n)[l-1]}\")"
   ]
  },
  {
   "cell_type": "code",
   "execution_count": 11,
   "metadata": {},
   "outputs": [
    {
     "name": "stdout",
     "output_type": "stream",
     "text": [
      "18 - even number\n"
     ]
    }
   ],
   "source": [
    "# Create a program that takes a number and checks if it’s even or not.\n",
    "n = int(input('Input a number'))\n",
    "if n % 2 == 0:\n",
    "    print(n, '- even number')\n",
    "else: \n",
    "    print(n, '- odd number')"
   ]
  },
  {
   "cell_type": "markdown",
   "metadata": {},
   "source": [
    "String Questions:"
   ]
  },
  {
   "cell_type": "code",
   "execution_count": 17,
   "metadata": {},
   "outputs": [
    {
     "name": "stdout",
     "output_type": "stream",
     "text": [
      "Feruz is 19 years old.\n"
     ]
    }
   ],
   "source": [
    "# 1. Create a program to ask name and year of birth from user and tell them their age.\n",
    "name = input('Enter your name:')\n",
    "birth = int(input('Enter your year of birth:'))\n",
    "\n",
    "# Canculate\n",
    "age = 2025 - birth\n",
    "\n",
    "if 0 < age and age <= 180:\n",
    "    print(f\"{name} is {age} years old.\")\n",
    "else:\n",
    "    print(f'{name}, you entered the wrong year of birth.')"
   ]
  },
  {
   "cell_type": "code",
   "execution_count": 18,
   "metadata": {},
   "outputs": [
    {
     "name": "stdout",
     "output_type": "stream",
     "text": [
      "Lasetti\n",
      "Malibu\n"
     ]
    }
   ],
   "source": [
    "# 2. Extract car names from this text: txt = 'LMaasleitbtui'\n",
    "txt = 'LMaasleitbtui'\n",
    "\n",
    "# Slysing\n",
    "car1 = txt[::2]\n",
    "car2 = txt[1::2]\n",
    "print(car1)\n",
    "print(car2)"
   ]
  },
  {
   "cell_type": "code",
   "execution_count": 19,
   "metadata": {},
   "outputs": [
    {
     "name": "stdout",
     "output_type": "stream",
     "text": [
      "Length of string: 5\n",
      "Convert the string to uppercase: SALOM\n",
      "Convert the string to lowercase: salom\n"
     ]
    }
   ],
   "source": [
    "# 3. Write a Python program to:\n",
    "    # Take a string input from the user.\n",
    "    # Print the length of the string.\n",
    "    # Convert the string to uppercase and lowercase.\n",
    "user_input_str = input('Enter a string')\n",
    "length_of_str = len(user_input_str)\n",
    "uppercase = user_input_str.upper()\n",
    "lowercase = user_input_str.lower()\n",
    "\n",
    "print('Length of string:', length_of_str)\n",
    "print('Convert the string to uppercase:', uppercase)\n",
    "print('Convert the string to lowercase:', lowercase)\n"
   ]
  },
  {
   "cell_type": "code",
   "execution_count": 22,
   "metadata": {},
   "outputs": [
    {
     "name": "stdout",
     "output_type": "stream",
     "text": [
      "The given string is a palindrome.\n"
     ]
    }
   ],
   "source": [
    "# 4. Write a Python program to check if a given string is palindrome or not.\n",
    "# What is a Palindrome String? A string is called a palindrome if the reverse of the string is the same as the original one. Example: “madam”, “racecar”, “12321”.\n",
    "\n",
    "user_str = input('Enter a strin:').lower()\n",
    "\n",
    "length = len(user_str)\n",
    "\n",
    "if length % 2 == 0:\n",
    "    x = int(length/2)\n",
    "else:\n",
    "    y = int((length-1)/2)\n",
    "\n",
    "if user_str[:x] == user_str[::-1][:x]:\n",
    "    print('The given string is a palindrome.')\n",
    "else:\n",
    "    print('The given string is not a palindrome.')"
   ]
  },
  {
   "cell_type": "code",
   "execution_count": null,
   "metadata": {},
   "outputs": [
    {
     "name": "stdout",
     "output_type": "stream",
     "text": [
      "The number of vowels is 3\n",
      "The number of consonants is 7\n"
     ]
    }
   ],
   "source": [
    "# 5. Write a program that counts the number of vowels and consonants in a given string.\n",
    "string = input('Enter a string:')\n",
    "vowels = 'aeiouAEIOU'\n",
    "constants = 'bcdfghjklmnpqrstvwxyzBCDFGHJKLMNPQRSTVWXYZ'\n",
    "volwe_count = 0\n",
    "constant_count = 0\n",
    "\n",
    "for row in string:\n",
    "    if row in vowels:\n",
    "        volwe_count += 1\n",
    "    elif row in constants:\n",
    "        constant_count += 1\n",
    "\n",
    "print(f'The number of vowels is {volwe_count}')\n",
    "print(f'The number of consonants is {constant_count}')\n"
   ]
  },
  {
   "cell_type": "code",
   "execution_count": 107,
   "metadata": {},
   "outputs": [
    {
     "name": "stdout",
     "output_type": "stream",
     "text": [
      "No, don't contain\n"
     ]
    }
   ],
   "source": [
    "# 6. Write a Python program to check if one string contains another.\n",
    "string1 = input('Enter a big string:')\n",
    "string2 = input('Enter a string:')\n",
    "\n",
    "if string2 in string1:\n",
    "    print('Yes, contain')\n",
    "else:\n",
    "    print('No, don\\'t contain')"
   ]
  },
  {
   "cell_type": "code",
   "execution_count": 120,
   "metadata": {},
   "outputs": [
    {
     "data": {
      "text/plain": [
       "'I love oranges.'"
      ]
     },
     "execution_count": 120,
     "metadata": {},
     "output_type": "execute_result"
    }
   ],
   "source": [
    "# 7. Ask the user to input a sentence and a word to replace. Replace that word with another word provided by the user.\n",
    "'''\n",
    "Example:\n",
    "\n",
    "Input sentence: \"I love apples.\"\n",
    "Replace: \"apples\"\n",
    "With: \"oranges\"\n",
    "Output: \"I love oranges.\"\n",
    "'''\n",
    "string = \"I love apples.\"\n",
    "\n",
    "# Using replace method\n",
    "string.replace('apples', 'oranges')"
   ]
  },
  {
   "cell_type": "code",
   "execution_count": 124,
   "metadata": {},
   "outputs": [
    {
     "name": "stdout",
     "output_type": "stream",
     "text": [
      "First charracter: H\n",
      "Last charracter: o\n"
     ]
    }
   ],
   "source": [
    "# 8. Write a program that asks the user for a string and prints the first and last characters of the string.\n",
    "string = input('Enter a string:')\n",
    "\n",
    "first = string[0]\n",
    "last = string[::-1][0]\n",
    "\n",
    "print('First charracter:', first)\n",
    "print('Last charracter:', last)"
   ]
  },
  {
   "cell_type": "code",
   "execution_count": 128,
   "metadata": {},
   "outputs": [
    {
     "name": "stdout",
     "output_type": "stream",
     "text": [
      "reserved string: olleH\n"
     ]
    }
   ],
   "source": [
    "# 9.Ask the user for a string and print the reversed version of it.\n",
    "string = input('Enter a string:')\n",
    "\n",
    "# [start:end:step]\n",
    "reserved_string = string[::-1]\n",
    "print('reserved string:', reserved_string)"
   ]
  },
  {
   "cell_type": "code",
   "execution_count": 147,
   "metadata": {},
   "outputs": [
    {
     "name": "stdout",
     "output_type": "stream",
     "text": [
      "1\n"
     ]
    }
   ],
   "source": [
    "# 10. Write a program that asks the user for a sentence and prints the number of words in it.\n",
    "string = input('Enter a string:')\n",
    "\n",
    "numbers = '1234567890'\n",
    "\n",
    "for num in string:\n",
    "    if num in numbers:\n",
    "        print (num)"
   ]
  },
  {
   "cell_type": "code",
   "execution_count": null,
   "metadata": {},
   "outputs": [],
   "source": []
  },
  {
   "cell_type": "code",
   "execution_count": null,
   "metadata": {},
   "outputs": [],
   "source": []
  },
  {
   "cell_type": "code",
   "execution_count": null,
   "metadata": {},
   "outputs": [],
   "source": []
  }
 ],
 "metadata": {
  "kernelspec": {
   "display_name": "Python 3",
   "language": "python",
   "name": "python3"
  },
  "language_info": {
   "codemirror_mode": {
    "name": "ipython",
    "version": 3
   },
   "file_extension": ".py",
   "mimetype": "text/x-python",
   "name": "python",
   "nbconvert_exporter": "python",
   "pygments_lexer": "ipython3",
   "version": "3.12.8"
  }
 },
 "nbformat": 4,
 "nbformat_minor": 2
}
