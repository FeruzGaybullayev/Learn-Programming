{
 "cells": [
  {
   "cell_type": "markdown",
   "metadata": {},
   "source": [
    "Number Data Type Questions:"
   ]
  },
  {
   "cell_type": "code",
   "execution_count": 6,
   "metadata": {},
   "outputs": [
    {
     "data": {
      "text/plain": [
       "'2 decimal places: 1.00'"
      ]
     },
     "execution_count": 6,
     "metadata": {},
     "output_type": "execute_result"
    }
   ],
   "source": [
    "# 1. Create a program that takes a float number as input and rounds it to 2 decimal places.\n",
    "def rounding_2_room(float):\n",
    "    return f'2 decimal places: {float:.2f}'\n",
    "# User input\n",
    "user = float(input('Sonni kiriting'))\n",
    "decimal_float = rounding_2_room(user)\n",
    "decimal_float"
   ]
  },
  {
   "cell_type": "code",
   "execution_count": 33,
   "metadata": {},
   "outputs": [
    {
     "name": "stdout",
     "output_type": "stream",
     "text": [
      "Largest number: 3.0\n",
      "Smallest number: 1.0\n"
     ]
    }
   ],
   "source": [
    "# 2. Write a Python file that asks for three numbers and outputs the largest and smallest.\n",
    "x = float(input('Input first number'))\n",
    "y = float(input('Input second number'))\n",
    "z = float(input('Input thirt number'))\n",
    "largest = max(x, y, z)\n",
    "smallest = min(x, y, z)\n",
    "print('Largest number:', largest)\n",
    "print('Smallest number:', smallest)"
   ]
  },
  {
   "cell_type": "code",
   "execution_count": 35,
   "metadata": {},
   "outputs": [
    {
     "name": "stdout",
     "output_type": "stream",
     "text": [
      "12.0 km = 12000.0 m\n",
      "12.0 km = 1200000.0 cm\n"
     ]
    }
   ],
   "source": [
    "# 3. Create a program that converts kilometers to meters and centimeters.\n",
    "km = float(input('Input (km)'))\n",
    "m = km * 1000\n",
    "sm = km * 1000 * 100\n",
    "print(f\"{km} km = {m} m\")\n",
    "print(f\"{km} km = {sm} cm\")"
   ]
  },
  {
   "cell_type": "code",
   "execution_count": 38,
   "metadata": {},
   "outputs": [
    {
     "name": "stdout",
     "output_type": "stream",
     "text": [
      "Integer division: 3.0\n",
      "Theremainder: 2.0\n"
     ]
    }
   ],
   "source": [
    "# 4. Write a program that takes two numbers and prints out the result of integer division and theremainder.\n",
    "a = float(input('Input first number'))\n",
    "b = float(input('Input second number'))\n",
    "\n",
    "m, n = divmod(a, b)\n",
    "print(f\"Integer division: {m}\")\n",
    "print(f\"Theremainder: {n}\")"
   ]
  },
  {
   "cell_type": "code",
   "execution_count": 42,
   "metadata": {},
   "outputs": [
    {
     "name": "stdout",
     "output_type": "stream",
     "text": [
      "15.0 selsiy = 59.0 farangeyt\n"
     ]
    }
   ],
   "source": [
    "# 5. Make a program that converts a given Celsius temperature to Fahrenheit.\n",
    "# (0  °C  × 9/5) + 32 = 32  °F\n",
    "selsiy = float(input('Input Selsiy'))\n",
    "fahrenheit = 9/5 * selsiy + 32\n",
    "\n",
    "print(f\"{selsiy} selsiy = {fahrenheit} farangeyt\")"
   ]
  },
  {
   "cell_type": "code",
   "execution_count": 58,
   "metadata": {},
   "outputs": [
    {
     "name": "stdout",
     "output_type": "stream",
     "text": [
      "Last number: 4\n"
     ]
    }
   ],
   "source": [
    "# Create a program that accepts a number and returns the last digit of that number.\n",
    "n = int(input('Input a number'))\n",
    "l = len(str(n))\n",
    "print(f\"Last number: {str(n)[l-1]}\")"
   ]
  },
  {
   "cell_type": "code",
   "execution_count": 60,
   "metadata": {},
   "outputs": [
    {
     "name": "stdout",
     "output_type": "stream",
     "text": [
      "12 - even number\n"
     ]
    }
   ],
   "source": [
    "# Create a program that takes a number and checks if it’s even or not.\n",
    "n = int(input('Input a number'))\n",
    "if n % 2 == 0:\n",
    "    print(n, '- even number')\n",
    "else: \n",
    "    print(n, '- odd number')"
   ]
  },
  {
   "cell_type": "markdown",
   "metadata": {},
   "source": [
    "String Questions:"
   ]
  },
  {
   "cell_type": "code",
   "execution_count": null,
   "metadata": {},
   "outputs": [],
   "source": [
    "# 1. Create a program to ask name and year of birth from user and tell them their age.\n"
   ]
  },
  {
   "cell_type": "code",
   "execution_count": 62,
   "metadata": {},
   "outputs": [],
   "source": [
    "# 2. Extract car names from this text: txt = 'LMaasleitbtui'\n"
   ]
  },
  {
   "cell_type": "code",
   "execution_count": 61,
   "metadata": {},
   "outputs": [],
   "source": [
    "# 3. Write a Python program to:\n",
    "    # Take a string input from the user.\n",
    "    # Print the length of the string.\n",
    "    # Convert the string to uppercase and lowercase."
   ]
  },
  {
   "cell_type": "code",
   "execution_count": null,
   "metadata": {},
   "outputs": [],
   "source": []
  }
 ],
 "metadata": {
  "kernelspec": {
   "display_name": "Python 3",
   "language": "python",
   "name": "python3"
  },
  "language_info": {
   "codemirror_mode": {
    "name": "ipython",
    "version": 3
   },
   "file_extension": ".py",
   "mimetype": "text/x-python",
   "name": "python",
   "nbconvert_exporter": "python",
   "pygments_lexer": "ipython3",
   "version": "3.12.8"
  }
 },
 "nbformat": 4,
 "nbformat_minor": 2
}
