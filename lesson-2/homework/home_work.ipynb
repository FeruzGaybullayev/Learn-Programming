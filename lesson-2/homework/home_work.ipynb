{
 "cells": [
  {
   "cell_type": "markdown",
   "metadata": {},
   "source": [
    "Number Data Type Questions:"
   ]
  },
  {
   "cell_type": "code",
   "execution_count": null,
   "metadata": {},
   "outputs": [],
   "source": [
    "# 1. Create a program that takes a float number as input and rounds it to 2 decimal places.\n",
    "def rounding_2_room(float):\n",
    "    return f'2 decimal places: {float:.2f}'\n",
    "# User input\n",
    "user = float(input('Sonni kiriting'))\n",
    "decimal_float = rounding_2_room(user)\n",
    "decimal_float"
   ]
  },
  {
   "cell_type": "code",
   "execution_count": null,
   "metadata": {},
   "outputs": [
    {
     "name": "stdout",
     "output_type": "stream",
     "text": [
      "Largest number: 3.0\n",
      "Smallest number: 1.0\n"
     ]
    }
   ],
   "source": [
    "# 2. Write a Python file that asks for three numbers and outputs the largest and smallest.\n",
    "x = float(input('Input first number'))\n",
    "y = float(input('Input second number'))\n",
    "z = float(input('Input thirt number'))\n",
    "largest = max(x, y, z)\n",
    "smallest = min(x, y, z)\n",
    "print('Largest number:', largest)\n",
    "print('Smallest number:', smallest)"
   ]
  },
  {
   "cell_type": "code",
   "execution_count": null,
   "metadata": {},
   "outputs": [
    {
     "name": "stdout",
     "output_type": "stream",
     "text": [
      "12.0 km = 12000.0 m\n",
      "12.0 km = 1200000.0 cm\n"
     ]
    }
   ],
   "source": [
    "# 3. Create a program that converts kilometers to meters and centimeters.\n",
    "km = float(input('Input (km)'))\n",
    "m = km * 1000\n",
    "sm = km * 1000 * 100\n",
    "print(f\"{km} km = {m} m\")\n",
    "print(f\"{km} km = {sm} cm\")"
   ]
  },
  {
   "cell_type": "code",
   "execution_count": null,
   "metadata": {},
   "outputs": [
    {
     "name": "stdout",
     "output_type": "stream",
     "text": [
      "Integer division: 3.0\n",
      "Theremainder: 2.0\n"
     ]
    }
   ],
   "source": [
    "# 4. Write a program that takes two numbers and prints out the result of integer division and theremainder.\n",
    "a = float(input('Input first number'))\n",
    "b = float(input('Input second number'))\n",
    "\n",
    "m, n = divmod(a, b)\n",
    "print(f\"Integer division: {m}\")\n",
    "print(f\"Theremainder: {n}\")"
   ]
  },
  {
   "cell_type": "code",
   "execution_count": null,
   "metadata": {},
   "outputs": [
    {
     "name": "stdout",
     "output_type": "stream",
     "text": [
      "15.0 selsiy = 59.0 farangeyt\n"
     ]
    }
   ],
   "source": [
    "# 5. Make a program that converts a given Celsius temperature to Fahrenheit.\n",
    "# (0  °C  × 9/5) + 32 = 32  °F\n",
    "selsiy = float(input('Input Selsiy'))\n",
    "fahrenheit = 9/5 * selsiy + 32\n",
    "\n",
    "print(f\"{selsiy} selsiy = {fahrenheit} farangeyt\")"
   ]
  },
  {
   "cell_type": "code",
   "execution_count": null,
   "metadata": {},
   "outputs": [
    {
     "name": "stdout",
     "output_type": "stream",
     "text": [
      "Last number: 4\n"
     ]
    }
   ],
   "source": [
    "# Create a program that accepts a number and returns the last digit of that number.\n",
    "n = int(input('Input a number'))\n",
    "l = len(str(n))\n",
    "print(f\"Last number: {str(n)[l-1]}\")"
   ]
  },
  {
   "cell_type": "code",
   "execution_count": null,
   "metadata": {},
   "outputs": [
    {
     "name": "stdout",
     "output_type": "stream",
     "text": [
      "12 - even number\n"
     ]
    }
   ],
   "source": [
    "# Create a program that takes a number and checks if it’s even or not.\n",
    "n = int(input('Input a number'))\n",
    "if n % 2 == 0:\n",
    "    print(n, '- even number')\n",
    "else: \n",
    "    print(n, '- odd number')"
   ]
  },
  {
   "cell_type": "markdown",
   "metadata": {},
   "source": [
    "String Questions:"
   ]
  },
  {
   "cell_type": "code",
   "execution_count": null,
   "metadata": {},
   "outputs": [
    {
     "name": "stdout",
     "output_type": "stream",
     "text": [
      "Feruz is 19 years old.\n"
     ]
    }
   ],
   "source": [
    "# 1. Create a program to ask name and year of birth from user and tell them their age.\n",
    "name = input('Enter your name:')\n",
    "birth = int(input('Enter your year of birth:'))\n",
    "\n",
    "# Canculate\n",
    "age = 2025 - birth\n",
    "\n",
    "print(f\"{name} is {age} years old.\")"
   ]
  },
  {
   "cell_type": "code",
   "execution_count": null,
   "metadata": {},
   "outputs": [
    {
     "name": "stdout",
     "output_type": "stream",
     "text": [
      "Lasetti\n",
      "Malibu\n"
     ]
    }
   ],
   "source": [
    "# 2. Extract car names from this text: txt = 'LMaasleitbtui'\n",
    "txt = 'LMaasleitbtui'\n",
    "\n",
    "# Slysing\n",
    "car1 = txt[::2]\n",
    "car2 = txt[1::2]\n",
    "print(car1)\n",
    "print(car2)"
   ]
  },
  {
   "cell_type": "code",
   "execution_count": null,
   "metadata": {},
   "outputs": [
    {
     "name": "stdout",
     "output_type": "stream",
     "text": [
      "Length of string: 5\n",
      "Convert the string to uppercase: SALOM\n",
      "Convert the string to lowercase: salom\n"
     ]
    }
   ],
   "source": [
    "# 3. Write a Python program to:\n",
    "    # Take a string input from the user.\n",
    "    # Print the length of the string.\n",
    "    # Convert the string to uppercase and lowercase.\n",
    "user_input_str = input('Enter a string')\n",
    "length_of_str = len(user_input_str)\n",
    "uppercase = user_input_str.upper()\n",
    "lowercase = user_input_str.lower()\n",
    "\n",
    "print('Length of string:', length_of_str)\n",
    "print('Convert the string to uppercase:', uppercase)\n",
    "print('Convert the string to lowercase:', lowercase)\n"
   ]
  },
  {
   "cell_type": "code",
   "execution_count": null,
   "metadata": {},
   "outputs": [],
   "source": [
    "# 4. Write a Python program to check if a given string is palindrome or not.\n",
    "# What is a Palindrome String? A string is called a palindrome if the reverse of the string is the same as the original one. Example: “madam”, “racecar”, “12321”.\n",
    "\n",
    "user_str = input('Enter a strin:')\n",
    "\n",
    "length = len(user_str)\n",
    "\n",
    "if length % 2 == 0:\n",
    "    x = int(length/2)\n",
    "else:\n",
    "    y = int((length-1)/2)\n",
    "\n",
    "if user_str[:x] == user_str[::-1][:x]:\n",
    "    print('The given string is a palindrome.')\n",
    "else:\n",
    "    print('The given string is not a palindrome.')"
   ]
  },
  {
   "cell_type": "code",
   "execution_count": null,
   "metadata": {},
   "outputs": [],
   "source": [
    "# 5. Write a program that counts the number of vowels and consonants in a given string.\n",
    "user_str = input('Enter a strin:')\n",
    "user_str\n",
    "\n",
    "word = user_str.strip()\n",
    "a = word.count('a')\n",
    "e = word.count('e')\n",
    "i = word.count('i')\n",
    "u = word.count('u')\n",
    "o = word.count('o')"
   ]
  }
 ],
 "metadata": {
  "kernelspec": {
   "display_name": "Python 3",
   "language": "python",
   "name": "python3"
  },
  "language_info": {
   "codemirror_mode": {
    "name": "ipython",
    "version": 3
   },
   "file_extension": ".py",
   "mimetype": "text/x-python",
   "name": "python",
   "nbconvert_exporter": "python",
   "pygments_lexer": "ipython3",
   "version": "3.12.8"
  }
 },
 "nbformat": 4,
 "nbformat_minor": 2
}
