{
 "cells": [
  {
   "cell_type": "markdown",
   "metadata": {},
   "source": [
    "Number Data Type Questions:"
   ]
  },
  {
   "cell_type": "code",
   "execution_count": 5,
   "metadata": {},
   "outputs": [
    {
     "data": {
      "text/plain": [
       "'2 decimal places: 2025.01'"
      ]
     },
     "execution_count": 5,
     "metadata": {},
     "output_type": "execute_result"
    }
   ],
   "source": [
    "# 1. Create a program that takes a float number as input and rounds it to 2 decimal places.\n",
    "def rounding_2_room(float):\n",
    "    return f'2 decimal places: {float:.2f}'\n",
    "# User input\n",
    "user = float(input('Enter a number:'))\n",
    "decimal_float = rounding_2_room(user)\n",
    "decimal_float"
   ]
  },
  {
   "cell_type": "code",
   "execution_count": 6,
   "metadata": {},
   "outputs": [
    {
     "name": "stdout",
     "output_type": "stream",
     "text": [
      "Largest number: 351.0\n",
      "Smallest number: 124.0\n"
     ]
    }
   ],
   "source": [
    "# 2. Write a Python file that asks for three numbers and outputs the largest and smallest.\n",
    "x = float(input('Input first number'))\n",
    "y = float(input('Input second number'))\n",
    "z = float(input('Input thirt number'))\n",
    "\n",
    "# largest and smallest\n",
    "largest = max(x, y, z)\n",
    "smallest = min(x, y, z)\n",
    "print('Largest number:', largest)\n",
    "print('Smallest number:', smallest)"
   ]
  },
  {
   "cell_type": "code",
   "execution_count": 7,
   "metadata": {},
   "outputs": [
    {
     "name": "stdout",
     "output_type": "stream",
     "text": [
      "819.0 km = 819000.0 m\n",
      "819.0 km = 81900000.0 cm\n"
     ]
    }
   ],
   "source": [
    "# 3. Create a program that converts kilometers to meters and centimeters.\n",
    "\n",
    "km = float(input('Input (km)'))\n",
    "\n",
    "# km to m\n",
    "m = km * 1000\n",
    "\n",
    "# km to sm\n",
    "sm = km * 1000 * 100\n",
    "\n",
    "print(f\"{km} km = {m} m\")\n",
    "print(f\"{km} km = {sm} cm\")"
   ]
  },
  {
   "cell_type": "code",
   "execution_count": 8,
   "metadata": {},
   "outputs": [
    {
     "name": "stdout",
     "output_type": "stream",
     "text": [
      "Integer division: 3.0\n",
      "Theremainder: 2.0\n"
     ]
    }
   ],
   "source": [
    "# 4. Write a program that takes two numbers and prints out the result of integer division and theremainder.\n",
    "a = float(input('Input first number'))\n",
    "b = float(input('Input second number'))\n",
    "\n",
    "# use divmod\n",
    "m, n = divmod(a, b)\n",
    "print(f\"Integer division: {m}\")\n",
    "print(f\"Theremainder: {n}\")"
   ]
  },
  {
   "cell_type": "code",
   "execution_count": 9,
   "metadata": {},
   "outputs": [
    {
     "name": "stdout",
     "output_type": "stream",
     "text": [
      "15.0 selsiy = 59.0 farangeyt\n"
     ]
    }
   ],
   "source": [
    "# 5. Make a program that converts a given Celsius temperature to Fahrenheit.\n",
    "# (0  °C  × 9/5) + 32 = 32  °F\n",
    "selsiy = float(input('Input Selsiy'))\n",
    "\n",
    "# selsiy to farangeyt\n",
    "fahrenheit = 9/5 * selsiy + 32\n",
    "\n",
    "print(f\"{selsiy} selsiy = {fahrenheit} farangeyt\")"
   ]
  },
  {
   "cell_type": "code",
   "execution_count": 10,
   "metadata": {},
   "outputs": [
    {
     "name": "stdout",
     "output_type": "stream",
     "text": [
      "Last number: 5\n"
     ]
    }
   ],
   "source": [
    "# Create a program that accepts a number and returns the last digit of that number.\n",
    "n = int(input('Input a number'))\n",
    "\n",
    "# len\n",
    "l = len(str(n))\n",
    "print(f\"Last number: {str(n)[l-1]}\")"
   ]
  },
  {
   "cell_type": "code",
   "execution_count": 11,
   "metadata": {},
   "outputs": [
    {
     "name": "stdout",
     "output_type": "stream",
     "text": [
      "18 - even number\n"
     ]
    }
   ],
   "source": [
    "# Create a program that takes a number and checks if it’s even or not.\n",
    "n = int(input('Input a number'))\n",
    "\n",
    "# if else\n",
    "if n % 2 == 0:\n",
    "    print(n, '- even number')\n",
    "else: \n",
    "    print(n, '- odd number')"
   ]
  },
  {
   "cell_type": "markdown",
   "metadata": {},
   "source": [
    "String Questions:"
   ]
  },
  {
   "cell_type": "code",
   "execution_count": 17,
   "metadata": {},
   "outputs": [
    {
     "name": "stdout",
     "output_type": "stream",
     "text": [
      "Feruz is 19 years old.\n"
     ]
    }
   ],
   "source": [
    "# 1. Create a program to ask name and year of birth from user and tell them their age.\n",
    "name = input('Enter your name:')\n",
    "birth = int(input('Enter your year of birth:'))\n",
    "\n",
    "# Canculate\n",
    "age = 2025 - birth\n",
    "\n",
    "# if else\n",
    "if 0 < age and age <= 180:\n",
    "    print(f\"{name} is {age} years old.\")\n",
    "else:\n",
    "    print(f'{name}, you entered the wrong year of birth.')"
   ]
  },
  {
   "cell_type": "code",
   "execution_count": 18,
   "metadata": {},
   "outputs": [
    {
     "name": "stdout",
     "output_type": "stream",
     "text": [
      "Lasetti\n",
      "Malibu\n"
     ]
    }
   ],
   "source": [
    "# 2. Extract car names from this text: txt = 'LMaasleitbtui'\n",
    "txt = 'LMaasleitbtui'\n",
    "\n",
    "# Slysing\n",
    "car1 = txt[::2]\n",
    "car2 = txt[1::2]\n",
    "print(car1)\n",
    "print(car2)"
   ]
  },
  {
   "cell_type": "code",
   "execution_count": 19,
   "metadata": {},
   "outputs": [
    {
     "name": "stdout",
     "output_type": "stream",
     "text": [
      "Length of string: 5\n",
      "Convert the string to uppercase: SALOM\n",
      "Convert the string to lowercase: salom\n"
     ]
    }
   ],
   "source": [
    "# 3. Write a Python program to:\n",
    "    # Take a string input from the user.\n",
    "    # Print the length of the string.\n",
    "    # Convert the string to uppercase and lowercase.\n",
    "user_input_str = input('Enter a string')\n",
    "length_of_str = len(user_input_str)\n",
    "\n",
    "# upper\n",
    "uppercase = user_input_str.upper()\n",
    "\n",
    "# lower\n",
    "lowercase = user_input_str.lower()\n",
    "\n",
    "print('Length of string:', length_of_str)\n",
    "print('Convert the string to uppercase:', uppercase)\n",
    "print('Convert the string to lowercase:', lowercase)\n"
   ]
  },
  {
   "cell_type": "code",
   "execution_count": 22,
   "metadata": {},
   "outputs": [
    {
     "name": "stdout",
     "output_type": "stream",
     "text": [
      "The given string is a palindrome.\n"
     ]
    }
   ],
   "source": [
    "# 4. Write a Python program to check if a given string is palindrome or not.\n",
    "# What is a Palindrome String? A string is called a palindrome if the reverse of the string is the same as the original one. Example: “madam”, “racecar”, “12321”.\n",
    "\n",
    "user_str = input('Enter a strin:').lower()\n",
    "\n",
    "# len\n",
    "length = len(user_str)\n",
    "\n",
    "# if else\n",
    "if length % 2 == 0:\n",
    "    x = int(length/2)\n",
    "else:\n",
    "    y = int((length-1)/2)\n",
    "\n",
    "# if else\n",
    "if user_str[:x] == user_str[::-1][:x]:\n",
    "    print('The given string is a palindrome.')\n",
    "else:\n",
    "    print('The given string is not a palindrome.')"
   ]
  },
  {
   "cell_type": "code",
   "execution_count": null,
   "metadata": {},
   "outputs": [
    {
     "name": "stdout",
     "output_type": "stream",
     "text": [
      "The number of vowels is 3\n",
      "The number of consonants is 7\n"
     ]
    }
   ],
   "source": [
    "# 5. Write a program that counts the number of vowels and consonants in a given string.\n",
    "string = input('Enter a string:')\n",
    "\n",
    "# vowels\n",
    "vowels = 'aeiouAEIOU'\n",
    "\n",
    "# constants\n",
    "constants = 'bcdfghjklmnpqrstvwxyzBCDFGHJKLMNPQRSTVWXYZ'\n",
    "\n",
    "volwe_count = 0\n",
    "constant_count = 0\n",
    "\n",
    "# for loop\n",
    "for row in string:\n",
    "    if row in vowels:\n",
    "        volwe_count += 1\n",
    "    elif row in constants:\n",
    "        constant_count += 1\n",
    "\n",
    "print(f'The number of vowels is {volwe_count}')\n",
    "print(f'The number of consonants is {constant_count}')\n"
   ]
  },
  {
   "cell_type": "code",
   "execution_count": 107,
   "metadata": {},
   "outputs": [
    {
     "name": "stdout",
     "output_type": "stream",
     "text": [
      "No, don't contain\n"
     ]
    }
   ],
   "source": [
    "# 6. Write a Python program to check if one string contains another.\n",
    "string1 = input('Enter a big string:')\n",
    "string2 = input('Enter a string:')\n",
    "\n",
    "# if else\n",
    "if string2 in string1:\n",
    "    print('Yes, contain')\n",
    "else:\n",
    "    print('No, don\\'t contain')"
   ]
  },
  {
   "cell_type": "code",
   "execution_count": 120,
   "metadata": {},
   "outputs": [
    {
     "data": {
      "text/plain": [
       "'I love oranges.'"
      ]
     },
     "execution_count": 120,
     "metadata": {},
     "output_type": "execute_result"
    }
   ],
   "source": [
    "# 7. Ask the user to input a sentence and a word to replace. Replace that word with another word provided by the user.\n",
    "'''\n",
    "Example:\n",
    "\n",
    "Input sentence: \"I love apples.\"\n",
    "Replace: \"apples\"\n",
    "With: \"oranges\"\n",
    "Output: \"I love oranges.\"\n",
    "'''\n",
    "string = \"I love apples.\"\n",
    "\n",
    "# Using replace method\n",
    "string.replace('apples', 'oranges')"
   ]
  },
  {
   "cell_type": "code",
   "execution_count": 124,
   "metadata": {},
   "outputs": [
    {
     "name": "stdout",
     "output_type": "stream",
     "text": [
      "First charracter: H\n",
      "Last charracter: o\n"
     ]
    }
   ],
   "source": [
    "# 8. Write a program that asks the user for a string and prints the first and last characters of the string.\n",
    "string = input('Enter a string:')\n",
    "\n",
    "first = string[0]\n",
    "\n",
    "# slycing\n",
    "last = string[::-1][0]\n",
    "\n",
    "print('First charracter:', first)\n",
    "print('Last charracter:', last)"
   ]
  },
  {
   "cell_type": "code",
   "execution_count": 128,
   "metadata": {},
   "outputs": [
    {
     "name": "stdout",
     "output_type": "stream",
     "text": [
      "reserved string: olleH\n"
     ]
    }
   ],
   "source": [
    "# 9.Ask the user for a string and print the reversed version of it.\n",
    "string = input('Enter a string:')\n",
    "\n",
    "# [start:end:step]\n",
    "reserved_string = string[::-1]\n",
    "print('reserved string:', reserved_string)"
   ]
  },
  {
   "cell_type": "code",
   "execution_count": 5,
   "metadata": {},
   "outputs": [
    {
     "name": "stdout",
     "output_type": "stream",
     "text": [
      "2\n"
     ]
    }
   ],
   "source": [
    "# 10. Write a program that asks the user for a sentence and prints the number of words in it.\n",
    "string = input('Enter a string:')\n",
    "\n",
    "# split\n",
    "number = string.split()\n",
    "print(len(number))"
   ]
  },
  {
   "cell_type": "code",
   "execution_count": 124,
   "metadata": {},
   "outputs": [
    {
     "name": "stdout",
     "output_type": "stream",
     "text": [
      "Yes, digit have\n"
     ]
    }
   ],
   "source": [
    "# 11. Write a program to check if a string contains any digits.\n",
    "string = input('Enter a string:')\n",
    "\n",
    "# Flag to track if numbe ris found\n",
    "flag = False\n",
    "\n",
    "# Loop through each character and check if it's a digit\n",
    "for char in string:\n",
    "    if char.isdigit():\n",
    "        flag = True\n",
    "        break\n",
    "\n",
    "if flag:\n",
    "    print('Yes, digit have')\n",
    "else:\n",
    "    print('No, digit don\\'t have')\n"
   ]
  },
  {
   "cell_type": "code",
   "execution_count": 19,
   "metadata": {},
   "outputs": [
    {
     "name": "stdout",
     "output_type": "stream",
     "text": [
      "Hello,-are-you-ok\n"
     ]
    }
   ],
   "source": [
    "# 12. Write a program that takes a list of words and joins them into a single string, separated by a character (e.g., - or ,).\n",
    "string = input('Enter a string:')\n",
    "\n",
    "# split\n",
    "s = string.split()\n",
    "\n",
    "# join\n",
    "result = '-'.join(s)\n",
    "\n",
    "print(result)"
   ]
  },
  {
   "cell_type": "code",
   "execution_count": 41,
   "metadata": {},
   "outputs": [
    {
     "name": "stdout",
     "output_type": "stream",
     "text": [
      "Hello World\n"
     ]
    }
   ],
   "source": [
    "# 13. Ask the user for a string and remove all spaces from it.\n",
    "string = input('Enter a string:')\n",
    "\n",
    "# Strip\n",
    "print(string.strip())"
   ]
  },
  {
   "cell_type": "code",
   "execution_count": 42,
   "metadata": {},
   "outputs": [
    {
     "name": "stdout",
     "output_type": "stream",
     "text": [
      "Not Equal\n"
     ]
    }
   ],
   "source": [
    "# 14. Write a program to ask for two strings and check if they are equal or not.\n",
    "string1 = input('Enter first string:')\n",
    "string2 = input('Enter second string:')\n",
    "\n",
    "# if else\n",
    "if string1 == string2:\n",
    "    print('Equal')\n",
    "else:\n",
    "    print('Not Equal')"
   ]
  },
  {
   "cell_type": "code",
   "execution_count": 45,
   "metadata": {},
   "outputs": [
    {
     "name": "stdout",
     "output_type": "stream",
     "text": [
      "WHO\n"
     ]
    }
   ],
   "source": [
    "# 15. Ask the user for a sentence and create an acronym from the first letters of each word.\n",
    "'''\n",
    "Example:\n",
    "\n",
    "Input: \"World Health Organization\"\n",
    "Output: \"WHO\"\n",
    "'''\n",
    "string = input('Enter a string:')\n",
    "\n",
    "# Split\n",
    "string_split = string.split()\n",
    "result = string_split[0][0] + string_split[1][0] + string_split[2][0]\n",
    "\n",
    "print(result)"
   ]
  },
  {
   "cell_type": "code",
   "execution_count": 61,
   "metadata": {},
   "outputs": [
    {
     "data": {
      "text/plain": [
       "'World ealth Organization'"
      ]
     },
     "execution_count": 61,
     "metadata": {},
     "output_type": "execute_result"
    }
   ],
   "source": [
    "# 16. Write a program that asks the user for a string and a character, then removes all occurrences of that character from the string.\n",
    "string = input('Enter a string:')\n",
    "row = input('Enter a row:')\n",
    "\n",
    "# replace  row  to  'None'\n",
    "string.replace(row, '')"
   ]
  },
  {
   "cell_type": "code",
   "execution_count": 123,
   "metadata": {},
   "outputs": [
    {
     "name": "stdout",
     "output_type": "stream",
     "text": [
      "H*ll* W*rld\n"
     ]
    }
   ],
   "source": [
    "# 17. Ask the user for a string and replace all the vowels with a symbol (e.g., *).\n",
    "string = input('Enter a string:')\n",
    "\n",
    "# Define the vowels and the replacement character\n",
    "vowels = 'aeiouAEIOU'\n",
    "row = '*'\n",
    "\n",
    "# replace\n",
    "result = ''.join([row if char in vowels else char for char in string])\n",
    "\n",
    "print(result)"
   ]
  },
  {
   "cell_type": "code",
   "execution_count": 77,
   "metadata": {},
   "outputs": [
    {
     "name": "stdout",
     "output_type": "stream",
     "text": [
      "Starts with: Python\n",
      "Ends with: fun!\n"
     ]
    }
   ],
   "source": [
    "# 18. Write a program that checks if a string starts with one word and ends with another.\n",
    "'''\n",
    "Example:\n",
    "\n",
    "Input: \"Python is fun!\"\n",
    "Starts with: \"Python\"\n",
    "Ends with: \"fun!\"\n",
    "'''\n",
    "string = input('Enter a string:')\n",
    "txt = string.split()\n",
    "print('Starts with:', txt[0])\n",
    "print('Ends with:', txt[::-1][0])\n"
   ]
  },
  {
   "cell_type": "markdown",
   "metadata": {},
   "source": [
    "Boolean Data Type Questions:"
   ]
  },
  {
   "cell_type": "code",
   "execution_count": null,
   "metadata": {},
   "outputs": [
    {
     "name": "stdout",
     "output_type": "stream",
     "text": [
      "username: Hello2025\n",
      "password: hello2025\n"
     ]
    }
   ],
   "source": [
    "# 1. Write a program that accepts a username and password and checks if both are not empty.\n",
    "username = input('Enter username:')\n",
    "password = input('Enter password:')\n",
    "\n",
    "if bool(username):\n",
    "    print('username:', username)\n",
    "else:\n",
    "    print('username is none')\n",
    "\n",
    "if bool(password):\n",
    "    print('password:', password)\n",
    "else:\n",
    "    print('password is none')"
   ]
  },
  {
   "cell_type": "code",
   "execution_count": 95,
   "metadata": {},
   "outputs": [
    {
     "name": "stdout",
     "output_type": "stream",
     "text": [
      "Not equal\n"
     ]
    }
   ],
   "source": [
    "# 2. Create a program that checks if two numbers are equal and outputs a message if they are.\n",
    "number1 = input('Enter first number:')\n",
    "number2 = input('Enter second number:')\n",
    "\n",
    "# if else\n",
    "if number1 == number2:\n",
    "    print('First number equal second number')\n",
    "else:\n",
    "    print('Not equal')"
   ]
  },
  {
   "cell_type": "code",
   "execution_count": 103,
   "metadata": {},
   "outputs": [
    {
     "name": "stdout",
     "output_type": "stream",
     "text": [
      "Not positive\n",
      "Even\n"
     ]
    }
   ],
   "source": [
    "# 3.Write a program that checks if a number is positive and even.\n",
    "number = int(input('Enter a number:'))\n",
    "\n",
    "# if else\n",
    "\n",
    "if number >= 0:\n",
    "    print('Positive')\n",
    "else:\n",
    "    print('Not positive')\n",
    "\n",
    "if number % 2 == 0:\n",
    "    print('Even')\n",
    "else:\n",
    "    print('Not even')"
   ]
  },
  {
   "cell_type": "code",
   "execution_count": 106,
   "metadata": {},
   "outputs": [
    {
     "name": "stdout",
     "output_type": "stream",
     "text": [
      "The first and second numbers are equal to each other.\n"
     ]
    }
   ],
   "source": [
    "# 4.Write a program that takes three numbers and checks if all of them are different.\n",
    "number1 = int(input('Enter first number:'))\n",
    "number2 = int(input('Enter second number:'))\n",
    "number3 = int(input('Enter third number:'))\n",
    "\n",
    "# if elif else\n",
    "if number1 == number2 == number3:\n",
    "    print('The numbers are equal to each other.')\n",
    "elif number1 == number2 != number3:\n",
    "    print('The first and second numbers are equal to each other.')\n",
    "elif number1 == number3 != number2:\n",
    "    print('The first and third numbers are equal to each other.')\n",
    "elif number2 == number3 != number1:\n",
    "    print('They are not equal to each other.')"
   ]
  },
  {
   "cell_type": "code",
   "execution_count": 107,
   "metadata": {},
   "outputs": [
    {
     "name": "stdout",
     "output_type": "stream",
     "text": [
      "They are the same length\n"
     ]
    }
   ],
   "source": [
    "# 5. Create a program that accepts two strings and checks if they have the same length.\n",
    "string1 = input('Enter first string:')\n",
    "string2 = input('Enter second string:')\n",
    "\n",
    "# if else\n",
    "if len(string1) == len(string2):\n",
    "    print('They are the same length')\n",
    "else:\n",
    "    print('They aren\\'t same length')"
   ]
  },
  {
   "cell_type": "code",
   "execution_count": 109,
   "metadata": {},
   "outputs": [
    {
     "name": "stdout",
     "output_type": "stream",
     "text": [
      "The number is divisible by both 3 and 5\n"
     ]
    }
   ],
   "source": [
    "# 6. Create a program that accepts a number and checks if it’s divisible by both 3 and 5.\n",
    "num = int(input('Enter a number:'))\n",
    "\n",
    "# div 3 and 5\n",
    "if num % 3 == 0 and num % 5 == 0:\n",
    "    print('The number is divisible by both 3 and 5')\n",
    "elif num % 3 == 0 and num % 5 != 0:\n",
    "    print('The  is divisible by 3')\n",
    "elif num % 3 != 0 and num % 5 == 0:\n",
    "    print('The  is divisible by 5')\n",
    "else:\n",
    "    print('The number isn\\'t divisible by both 3 and 5')"
   ]
  },
  {
   "cell_type": "code",
   "execution_count": 112,
   "metadata": {},
   "outputs": [
    {
     "name": "stdout",
     "output_type": "stream",
     "text": [
      "The sum of the numbers is greater than 50.\n"
     ]
    }
   ],
   "source": [
    "# 7. Write a program that checks if the sum of two numbers is greater than 50.\n",
    "number1 = int(input('Enter first number:'))\n",
    "number2 = int(input('Enter second number:'))\n",
    "\n",
    "# if else\n",
    "if number1 + number2 <= 50:\n",
    "    print('The sum of the numbers is less than 50.')\n",
    "else:\n",
    "    print('The sum of the numbers is greater than 50.')"
   ]
  },
  {
   "cell_type": "code",
   "execution_count": 116,
   "metadata": {},
   "outputs": [
    {
     "name": "stdout",
     "output_type": "stream",
     "text": [
      "The number isn't between 10 and 20\n"
     ]
    }
   ],
   "source": [
    "# 8. Create a program that checks if a given number is between 10 and 20 (inclusive)\n",
    "num = int(input('Enter a number:'))\n",
    "\n",
    "\n",
    "# if else\n",
    "if 10 < num < 20:\n",
    "    print('The number is between 10 and 20')\n",
    "else:\n",
    "    print('The number isn\\'t between 10 and 20')"
   ]
  }
 ],
 "metadata": {
  "kernelspec": {
   "display_name": "Python 3",
   "language": "python",
   "name": "python3"
  },
  "language_info": {
   "codemirror_mode": {
    "name": "ipython",
    "version": 3
   },
   "file_extension": ".py",
   "mimetype": "text/x-python",
   "name": "python",
   "nbconvert_exporter": "python",
   "pygments_lexer": "ipython3",
   "version": "3.12.8"
  }
 },
 "nbformat": 4,
 "nbformat_minor": 2
}
