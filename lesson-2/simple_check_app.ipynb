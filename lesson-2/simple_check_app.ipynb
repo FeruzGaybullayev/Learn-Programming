{
 "cells": [
  {
   "cell_type": "code",
   "execution_count": 3,
   "metadata": {},
   "outputs": [
    {
     "name": "stdout",
     "output_type": "stream",
     "text": [
      "Please enter something\n"
     ]
    }
   ],
   "source": [
    "word = input()\n",
    "\n",
    "if not bool(word.strip()):\n",
    "    print(\"Please enter something\")\n",
    "else:\n",
    "    print(\"You entered:\", word)"
   ]
  },
  {
   "cell_type": "markdown",
   "metadata": {},
   "source": [
    "simle_string_app.py"
   ]
  },
  {
   "cell_type": "code",
   "execution_count": 3,
   "metadata": {},
   "outputs": [],
   "source": [
    "name = \"John\" #input(\"What is your name? \")\n",
    "age = 30 #int(input(\"Age: \"))"
   ]
  },
  {
   "cell_type": "code",
   "execution_count": 4,
   "metadata": {},
   "outputs": [
    {
     "name": "stdout",
     "output_type": "stream",
     "text": [
      "Your name is John and you are 30 years old.\n",
      "Your name is John and you are 30 years old.\n"
     ]
    }
   ],
   "source": [
    "print(\"Your name is \" + name + \" and you are \" + str(age) + \" years old.\")\n",
    "print(f\"Your name is {name} and you are {age} years old.\")"
   ]
  },
  {
   "cell_type": "code",
   "execution_count": null,
   "metadata": {},
   "outputs": [],
   "source": [
    "print(\"Your name is {fname} and you are {Age} years old.\".format(Age=age, fname=name))\n",
    "print(\"Your name is {} and you are {} years old.\".format(name, age))"
   ]
  },
  {
   "cell_type": "code",
   "execution_count": 8,
   "metadata": {},
   "outputs": [
    {
     "name": "stdout",
     "output_type": "stream",
     "text": [
      "34.9\n",
      "34.8765654\n",
      "Adam                 - first name\n",
      "Johnatan             - second name\n"
     ]
    }
   ],
   "source": [
    "# + stringlar uchun \"concatenation\"\n",
    "\n",
    "n = 34.8765654\n",
    "print(f\"{n:.1f}\")\n",
    "print(n)\n",
    "\n",
    "name1 = \"Adam\"\n",
    "name2 = \"Johnatan\"\n",
    "print(f\"{name1:<20} - first name\")\n",
    "print(f\"{name2:<20} - second name\")"
   ]
  }
 ],
 "metadata": {
  "kernelspec": {
   "display_name": "Python 3",
   "language": "python",
   "name": "python3"
  },
  "language_info": {
   "codemirror_mode": {
    "name": "ipython",
    "version": 3
   },
   "file_extension": ".py",
   "mimetype": "text/x-python",
   "name": "python",
   "nbconvert_exporter": "python",
   "pygments_lexer": "ipython3",
   "version": "3.12.8"
  }
 },
 "nbformat": 4,
 "nbformat_minor": 2
}
