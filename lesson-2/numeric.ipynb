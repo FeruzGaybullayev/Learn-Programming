{
 "cells": [
  {
   "cell_type": "code",
   "execution_count": 10,
   "metadata": {},
   "outputs": [
    {
     "name": "stdout",
     "output_type": "stream",
     "text": [
      "14000000000.0\n",
      "<class 'float'>\n",
      "3.0\n",
      "5.0\n",
      "4.0\n",
      "100000000\n",
      "0\n"
     ]
    }
   ],
   "source": [
    "import math # built in library\n",
    "\n",
    "# pow = ** - built-in function\n",
    "# min, max\n",
    "\n",
    "# int\n",
    "# float\n",
    "# complex\n",
    "\n",
    "a = 100_000_000\n",
    "b = 1.4e10\n",
    "print(b)\n",
    "print(type(b))\n",
    "\n",
    "print(math.sqrt(9))\n",
    "\n",
    "c = 5 + 4j\n",
    "print(c.real)\n",
    "print(c.imag)\n",
    "print(a.real)\n",
    "print(a.imag)"
   ]
  }
 ],
 "metadata": {
  "kernelspec": {
   "display_name": "Python 3",
   "language": "python",
   "name": "python3"
  },
  "language_info": {
   "codemirror_mode": {
    "name": "ipython",
    "version": 3
   },
   "file_extension": ".py",
   "mimetype": "text/x-python",
   "name": "python",
   "nbconvert_exporter": "python",
   "pygments_lexer": "ipython3",
   "version": "3.12.8"
  }
 },
 "nbformat": 4,
 "nbformat_minor": 2
}
