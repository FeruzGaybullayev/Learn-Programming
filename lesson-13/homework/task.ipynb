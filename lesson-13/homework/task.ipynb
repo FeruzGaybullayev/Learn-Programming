{
 "cells": [
  {
   "cell_type": "code",
   "execution_count": 2,
   "metadata": {},
   "outputs": [
    {
     "name": "stdout",
     "output_type": "stream",
     "text": [
      "Bajoranlar: [('Kira Nerys', 29)]\n",
      "Yosh bo‘yicha tartiblangan: [('Benjamin Sisko', 'Human', 40, 'Captain'), ('Kira Nerys', 'Bajoran', 29, 'Major')]\n"
     ]
    }
   ],
   "source": [
    "import sqlite3\n",
    "\n",
    "# 1. Yangi SQLite bazasini yaratish va ulanish\n",
    "with sqlite3.connect(\"roster.db\") as con:\n",
    "    cursor = con.cursor()\n",
    "    \n",
    "    # 2. Jadval yaratish\n",
    "    cursor.execute(\"\"\"\n",
    "        CREATE TABLE IF NOT EXISTS Roster (\n",
    "            Name TEXT,\n",
    "            Species TEXT,\n",
    "            Age INTEGER\n",
    "        )\n",
    "    \"\"\")\n",
    "\n",
    "    # 3. Ma’lumot qo‘shish\n",
    "    cursor.executemany(\"\"\"\n",
    "        INSERT INTO Roster (Name, Species, Age) VALUES (?, ?, ?)\n",
    "    \"\"\", [\n",
    "        (\"Benjamin Sisko\", \"Human\", 40),\n",
    "        (\"Jadzia Dax\", \"Trill\", 300),\n",
    "        (\"Kira Nerys\", \"Bajoran\", 29)\n",
    "    ])\n",
    "\n",
    "    # 4. Jadzia Dax ismini Ezri Daxga o‘zgartirish\n",
    "    cursor.execute(\"\"\"\n",
    "        UPDATE Roster SET Name = 'Ezri Dax' WHERE Name = 'Jadzia Dax'\n",
    "    \"\"\")\n",
    "\n",
    "    # 5. Bajoran bo‘lgan belgilarni chiqarish\n",
    "    cursor.execute(\"SELECT Name, Age FROM Roster WHERE Species = 'Bajoran'\")\n",
    "    print(\"Bajoranlar:\", cursor.fetchall())\n",
    "\n",
    "    # 6. 100 yoshdan katta bo‘lganlarni o‘chirish\n",
    "    cursor.execute(\"DELETE FROM Roster WHERE Age > 100\")\n",
    "\n",
    "    # 7. Bonus: \"Rank\" ustunini qo‘shish va ma’lumot yangilash\n",
    "    cursor.execute(\"ALTER TABLE Roster ADD COLUMN Rank TEXT\")\n",
    "    \n",
    "    updates = [\n",
    "        (\"Benjamin Sisko\", \"Captain\"),\n",
    "        (\"Ezri Dax\", \"Lieutenant\"),\n",
    "        (\"Kira Nerys\", \"Major\")\n",
    "    ]\n",
    "    for name, rank in updates:\n",
    "        cursor.execute(\"UPDATE Roster SET Rank = ? WHERE Name = ?\", (rank, name))\n",
    "\n",
    "    # 8. Yosh bo‘yicha kamayish tartibida chiqarish\n",
    "    cursor.execute(\"SELECT * FROM Roster ORDER BY Age DESC\")\n",
    "    print(\"Yosh bo‘yicha tartiblangan:\", cursor.fetchall())"
   ]
  },
  {
   "cell_type": "code",
   "execution_count": 1,
   "metadata": {},
   "outputs": [
    {
     "name": "stdout",
     "output_type": "stream",
     "text": [
      "Dystopian kitoblar: [('1984', 'George Orwell')]\n",
      "Yil bo‘yicha tartiblangan: [('1984', 'George Orwell', 1950, 'Dystopian', 4.7), ('To Kill a Mockingbird', 'Harper Lee', 1960, 'Fiction', 4.8)]\n"
     ]
    }
   ],
   "source": [
    "import sqlite3\n",
    "\n",
    "# 1. Yangi bazani yaratish va ulanish\n",
    "with sqlite3.connect(\"library.db\") as con:\n",
    "    cursor = con.cursor()\n",
    "    \n",
    "    # 2. Kitoblar jadvalini yaratish\n",
    "    cursor.execute(\"\"\"\n",
    "        CREATE TABLE IF NOT EXISTS Books (\n",
    "            Title TEXT,\n",
    "            Author TEXT,\n",
    "            Year_Published INTEGER,\n",
    "            Genre TEXT\n",
    "        )\n",
    "    \"\"\")\n",
    "\n",
    "    # 3. Ma’lumot qo‘shish\n",
    "    cursor.executemany(\"\"\"\n",
    "        INSERT INTO Books (Title, Author, Year_Published, Genre) VALUES (?, ?, ?, ?)\n",
    "    \"\"\", [\n",
    "        (\"To Kill a Mockingbird\", \"Harper Lee\", 1960, \"Fiction\"),\n",
    "        (\"1984\", \"George Orwell\", 1949, \"Dystopian\"),\n",
    "        (\"The Great Gatsby\", \"F. Scott Fitzgerald\", 1925, \"Classic\")\n",
    "    ])\n",
    "\n",
    "    # 4. \"1984\" kitobining yilini 1950 ga o‘zgartirish\n",
    "    cursor.execute(\"\"\"\n",
    "        UPDATE Books SET Year_Published = 1950 WHERE Title = '1984'\n",
    "    \"\"\")\n",
    "\n",
    "    # 5. Dystopian janridagi kitoblarni chiqarish\n",
    "    cursor.execute(\"SELECT Title, Author FROM Books WHERE Genre = 'Dystopian'\")\n",
    "    print(\"Dystopian kitoblar:\", cursor.fetchall())\n",
    "\n",
    "    # 6. 1950-yildan oldin nashr qilingan kitoblarni o‘chirish\n",
    "    cursor.execute(\"DELETE FROM Books WHERE Year_Published < 1950\")\n",
    "\n",
    "    # 7. Bonus: \"Rating\" ustunini qo‘shish va yangilash\n",
    "    cursor.execute(\"ALTER TABLE Books ADD COLUMN Rating REAL\")\n",
    "    \n",
    "    ratings = [\n",
    "        (\"To Kill a Mockingbird\", 4.8),\n",
    "        (\"1984\", 4.7),\n",
    "        (\"The Great Gatsby\", 4.5)\n",
    "    ]\n",
    "    for title, rating in ratings:\n",
    "        cursor.execute(\"UPDATE Books SET Rating = ? WHERE Title = ?\", (rating, title))\n",
    "\n",
    "    # 8. Kitoblarni nashr yiliga qarab oshish tartibida chiqarish\n",
    "    cursor.execute(\"SELECT * FROM Books ORDER BY Year_Published ASC\")\n",
    "    print(\"Yil bo‘yicha tartiblangan:\", cursor.fetchall())"
   ]
  }
 ],
 "metadata": {
  "kernelspec": {
   "display_name": "Python 3",
   "language": "python",
   "name": "python3"
  },
  "language_info": {
   "codemirror_mode": {
    "name": "ipython",
    "version": 3
   },
   "file_extension": ".py",
   "mimetype": "text/x-python",
   "name": "python",
   "nbconvert_exporter": "python",
   "pygments_lexer": "ipython3",
   "version": "3.13.2"
  }
 },
 "nbformat": 4,
 "nbformat_minor": 2
}
