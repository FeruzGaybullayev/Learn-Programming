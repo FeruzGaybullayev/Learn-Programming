import math

class Vector:
    def __init__(self, *components):
        """Vektor yaratish: istalgan o'lchamdagi vektor"""
        self.components = tuple(components)  # Tuple qilib saqlash
    
    def __repr__(self):
        """Vektorni string ko'rinishida ifodalash"""
        return f"Vector{self.components}"
    
    def __add__(self, other):
        """Vektorlarni qo‘shish"""
        if not isinstance(other, Vector) or len(self.components) != len(other.components):
            raise ValueError("Vectors must have the same dimension for addition")
        return Vector(*(a + b for a, b in zip(self.components, other.components)))
    
    def __sub__(self, other):
        """Vektorlarni ayirish"""
        if not isinstance(other, Vector) or len(self.components) != len(other.components):
            raise ValueError("Vectors must have the same dimension for subtraction")
        return Vector(*(a - b for a, b in zip(self.components, other.components)))
    
    def __mul__(self, other):
        """Nuqta ko‘paytirish yoki skalyar ko‘paytirish"""
        if isinstance(other, Vector):  # Dot product (Nuqta ko‘paytirish)
            if len(self.components) != len(other.components):
                raise ValueError("Vectors must have the same dimension for dot product")
            return sum(a * b for a, b in zip(self.components, other.components))
        elif isinstance(other, (int, float)):  # Scalar multiplication (Skalyar ko‘paytirish)
            return Vector(*(a * other for a in self.components))
        else:
            raise TypeError("Multiplication is only supported with a scalar or another vector")
    
    def __rmul__(self, other):
        """Skalyar chap tomonda bo‘lsa (3 * v)"""
        return self * other  # __mul__ dan foydalanamiz
    
    def magnitude(self):
        """Vektor uzunligini hisoblash"""
        return math.sqrt(sum(a ** 2 for a in self.components))
    
    def normalize(self):
        """Vektorni birlik vektorga aylantirish"""
        mag = self.magnitude()
        if mag == 0:
            raise ValueError("Cannot normalize a zero vector")
        return Vector(*(a / mag for a in self.components))


# Vektor yaratish
v1 = Vector(1, 2, 3)
v2 = Vector(4, 5, 6)

# Vektorlarni ekranga chiqarish
print(v1)          

# Vektor qo‘shish
v3 = v1 + v2
print(v3)        

# Vektor ayirish
v4 = v2 - v1
print(v4)          

# Nuqta ko‘paytirish
dot_product = v1 * v2
print(dot_product) # 32

# Skalyar ko‘paytirish
v5 = 3 * v1
print(v5)       

# Vektor uzunligi
print(v1.magnitude())

# Vektorni normallashtirish
v_unit = v1.normalize()
print(v_unit)      
