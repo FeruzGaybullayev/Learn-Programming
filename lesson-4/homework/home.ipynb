{
 "cells": [
  {
   "cell_type": "markdown",
   "metadata": {},
   "source": [
    "**1.** Return uncommon elements of lists. Order of elements does not matter.\n",
    "```\n",
    "input:\n",
    "    list1 = [1, 1, 2]\n",
    "    list2 = [2, 3, 4]\n",
    "output: [1, 1, 3, 4]\n",
    "```\n",
    "\n",
    "```\n",
    "input:\n",
    "    list1 = [1, 2, 3]\n",
    "    list2 = [4, 5, 6]\n",
    "output: [1, 2, 3, 4, 5, 6]\n",
    "```\n",
    "\n",
    "```\n",
    "input:\n",
    "    list1 = [1, 1, 2, 3, 4, 2]\n",
    "    list2 = [1, 3, 4, 5]\n",
    "output: [2, 2, 5]\n",
    "```\n"
   ]
  },
  {
   "cell_type": "code",
   "execution_count": null,
   "metadata": {},
   "outputs": [],
   "source": [
    "# 1. Return uncommon elements of lists. Order of elements does not matter."
   ]
  },
  {
   "cell_type": "code",
   "execution_count": 22,
   "metadata": {},
   "outputs": [
    {
     "name": "stdout",
     "output_type": "stream",
     "text": [
      "[1, 1, 3, 4]\n"
     ]
    }
   ],
   "source": [
    "# input:\n",
    "list1 = [1, 1, 2]\n",
    "list2 = [2, 3, 4]\n",
    "# output: [1, 1, 3, 4]\n",
    "\n",
    "output = list1[:2] + list2[1:]\n",
    "print(output)"
   ]
  },
  {
   "cell_type": "code",
   "execution_count": 11,
   "metadata": {},
   "outputs": [
    {
     "name": "stdout",
     "output_type": "stream",
     "text": [
      "[1, 2, 3, 4, 5, 6]\n"
     ]
    }
   ],
   "source": [
    "# input:\n",
    "list1 = [1, 2, 3]\n",
    "list2 = [4, 5, 6]\n",
    "# output: [1, 2, 3, 4, 5, 6]\n",
    "\n",
    "output = list1 + list2\n",
    "print(output)"
   ]
  },
  {
   "cell_type": "code",
   "execution_count": 41,
   "metadata": {},
   "outputs": [
    {
     "name": "stdout",
     "output_type": "stream",
     "text": [
      "[2, 2, 5]\n"
     ]
    }
   ],
   "source": [
    "# input:\n",
    "list1 = [1, 1, 2, 3, 4, 2]\n",
    "list2 = [1, 3, 4, 5]\n",
    "# output: [2, 2, 5]\n",
    "\n",
    "output = list1[2::3] + list2[3:]\n",
    "print(output)"
   ]
  },
  {
   "cell_type": "markdown",
   "metadata": {},
   "source": [
    "**2.** Print the square of each number which is less than `n` on a separate line.\n",
    "\n",
    "```\n",
    "input: n = 5\n",
    "output:\n",
    "    1\n",
    "    4\n",
    "    9\n",
    "    16\n",
    "```"
   ]
  },
  {
   "cell_type": "code",
   "execution_count": 42,
   "metadata": {},
   "outputs": [],
   "source": [
    "# 2. Print the square of each number which is less than n on a separate line."
   ]
  },
  {
   "cell_type": "code",
   "execution_count": 60,
   "metadata": {},
   "outputs": [
    {
     "name": "stdout",
     "output_type": "stream",
     "text": [
      "1\n",
      "4\n",
      "9\n",
      "16\n"
     ]
    }
   ],
   "source": [
    "# input: \n",
    "n = 5    \n",
    "''' \n",
    "output:\n",
    "    1\n",
    "    4\n",
    "    9\n",
    "    16\n",
    "    '''\n",
    "def print_squares(n):\n",
    "    for i in range(1, n):\n",
    "        print(i*i)\n",
    "print_squares(n)"
   ]
  },
  {
   "cell_type": "code",
   "execution_count": null,
   "metadata": {},
   "outputs": [],
   "source": []
  }
 ],
 "metadata": {
  "kernelspec": {
   "display_name": "Python 3",
   "language": "python",
   "name": "python3"
  },
  "language_info": {
   "codemirror_mode": {
    "name": "ipython",
    "version": 3
   },
   "file_extension": ".py",
   "mimetype": "text/x-python",
   "name": "python",
   "nbconvert_exporter": "python",
   "pygments_lexer": "ipython3",
   "version": "3.12.8"
  }
 },
 "nbformat": 4,
 "nbformat_minor": 2
}
