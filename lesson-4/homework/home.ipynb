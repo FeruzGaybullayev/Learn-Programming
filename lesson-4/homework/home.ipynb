{
  "cells": [
    {
      "cell_type": "markdown",
      "metadata": {
        "id": "WyLpFCxSeqmz"
      },
      "source": [
        "**1.** Return uncommon elements of lists. Order of elements does not matter.\n",
        "```\n",
        "input:\n",
        "    list1 = [1, 1, 2]\n",
        "    list2 = [2, 3, 4]\n",
        "output: [1, 1, 3, 4]\n",
        "```\n",
        "\n",
        "```\n",
        "input:\n",
        "    list1 = [1, 2, 3]\n",
        "    list2 = [4, 5, 6]\n",
        "output: [1, 2, 3, 4, 5, 6]\n",
        "```\n",
        "\n",
        "```\n",
        "input:\n",
        "    list1 = [1, 1, 2, 3, 4, 2]\n",
        "    list2 = [1, 3, 4, 5]\n",
        "output: [2, 2, 5]\n",
        "```\n"
      ]
    },
    {
      "cell_type": "code",
      "execution_count": 63,
      "metadata": {
        "id": "vSmF5Uigeqm4",
        "outputId": "effbb9b3-f4ff-4827-f694-73a3f92cbb14"
      },
      "outputs": [
        {
          "name": "stdout",
          "output_type": "stream",
          "text": [
            "[1, 1, 3, 4]\n"
          ]
        }
      ],
      "source": [
        "# 1. Return uncommon elements of lists. Order of elements does not matter.\n",
        "\n",
        "# # input:\n",
        "list1 = [1, 1, 2]\n",
        "list2 = [2, 3, 4]\n",
        "# output: [1, 1, 3, 4]\n",
        "\n",
        "output = list1[:2] + list2[1:]\n",
        "print(output)"
      ]
    },
    {
      "cell_type": "code",
      "execution_count": 64,
      "metadata": {
        "id": "ZyKtSM1qeqm5",
        "outputId": "66531ec5-1590-4d2e-a280-ec6a43c802e1"
      },
      "outputs": [
        {
          "name": "stdout",
          "output_type": "stream",
          "text": [
            "[1, 2, 3, 4, 5, 6]\n"
          ]
        }
      ],
      "source": [
        "# input:\n",
        "list1 = [1, 2, 3]\n",
        "list2 = [4, 5, 6]\n",
        "# output: [1, 2, 3, 4, 5, 6]\n",
        "\n",
        "output = list1 + list2\n",
        "print(output)"
      ]
    },
    {
      "cell_type": "code",
      "execution_count": 65,
      "metadata": {
        "id": "N43Y1Zfoeqm6",
        "outputId": "e0563373-a137-4997-f93a-ffe7d0aedd75"
      },
      "outputs": [
        {
          "name": "stdout",
          "output_type": "stream",
          "text": [
            "[2, 2, 5]\n"
          ]
        }
      ],
      "source": [
        "# input:\n",
        "list1 = [1, 1, 2, 3, 4, 2]\n",
        "list2 = [1, 3, 4, 5]\n",
        "# output: [2, 2, 5]\n",
        "\n",
        "output = list1[2::3] + list2[3:]\n",
        "print(output)"
      ]
    },
    {
      "cell_type": "markdown",
      "metadata": {
        "id": "Kxo55vuVeqm6"
      },
      "source": [
        "**2.** Print the square of each number which is less than `n` on a separate line.\n",
        "\n",
        "```\n",
        "input: n = 5\n",
        "output:\n",
        "    1\n",
        "    4\n",
        "    9\n",
        "    16\n",
        "```"
      ]
    },
    {
      "cell_type": "code",
      "execution_count": 66,
      "metadata": {
        "id": "qJzGrbNseqm7",
        "outputId": "5c1b4a1b-66f3-4444-ee37-9fef6a6e40e2"
      },
      "outputs": [
        {
          "name": "stdout",
          "output_type": "stream",
          "text": [
            "1\n",
            "4\n",
            "9\n",
            "16\n"
          ]
        }
      ],
      "source": [
        "# 2. Print the square of each number which is less than n on a separate line.\n",
        "\n",
        "# input:\n",
        "n = 5\n",
        "'''\n",
        "output:\n",
        "        1\n",
        "        4\n",
        "        9\n",
        "        16\n",
        "'''\n",
        "\n",
        "def print_squares(n):\n",
        "    for i in range(1, n):\n",
        "        print(i*i)\n",
        "print_squares(n)"
      ]
    },
    {
      "cell_type": "markdown",
      "metadata": {},
      "source": [
        "3. txt nomli string saqlovchi o'zgaruvchi berilgan. txtdagi har uchinchi belgidan keyin pastgi chiziqcha (underscore) qo'yilsin. Agar belgi unli harf yoki orqasidan ostki chiziqcha qo'yilgan harf bo'lsa, ostki chiziqcha keyingi harfdan keyin qo'yilsin. Agar belgi satrdagi oxirgi belgi bo'lsa chiziqcha qo'yilmasin."
      ]
    },
    {
      "cell_type": "code",
      "execution_count": 67,
      "metadata": {
        "id": "TBh822INeytx"
      },
      "outputs": [],
      "source": [
        "# # 3. txt nomli string saqlovchi o'zgaruvchi berilgan. txtdagi har uchinchi belgidan keyin pastgi chiziqcha (underscore) qo'yilsin. Agar belgi unli harf yoki orqasidan ostki chiziqcha qo'yilgan harf bo'lsa, ostki chiziqcha keyingi harfdan keyin qo'yilsin. Agar belgi satrdagi oxirgi belgi bo'lsa chiziqcha qo'yilmasin.\n",
        "\n",
        "# Creat function\n",
        "def modify_string(txt):\n",
        "    vowels = \"aeiouAEIOU\"\n",
        "    result = \"\"\n",
        "    i = 0\n",
        "    ad = []\n",
        "    while bool(txt):\n",
        "       result += txt[i]\n",
        "       if (i+1) % 3 == 0 and txt[i] not in vowels:\n",
        "            result += '_'\n",
        "\n",
        "       i += 1\n",
        "       if i == len(txt):\n",
        "          break\n",
        "\n",
        "    return result"
      ]
    },
    {
      "cell_type": "code",
      "execution_count": 68,
      "metadata": {
        "id": "SmthPTSpq3wg",
        "outputId": "05a059e8-57df-47c7-cd68-63d8c9dc2965"
      },
      "outputs": [
        {
          "data": {
            "text/plain": [
              "'hel_lo'"
            ]
          },
          "execution_count": 68,
          "metadata": {},
          "output_type": "execute_result"
        }
      ],
      "source": [
        "txt1 = 'hello'\n",
        "# output: hel_lo\n",
        "modify_string(txt1)"
      ]
    },
    {
      "cell_type": "code",
      "execution_count": 69,
      "metadata": {
        "id": "9ae0UqK7q3wg",
        "outputId": "24f854ce-f421-4123-ac77-2ec2c3ecb7a3"
      },
      "outputs": [
        {
          "data": {
            "text/plain": [
              "'ass_alom'"
            ]
          },
          "execution_count": 69,
          "metadata": {},
          "output_type": "execute_result"
        }
      ],
      "source": [
        "txt2 = 'assalom'\n",
        "# output: ass_alom\n",
        "modify_string(txt2)"
      ]
    },
    {
      "cell_type": "code",
      "execution_count": 70,
      "metadata": {
        "id": "jH9476BWq3wh",
        "outputId": "590d4a5d-84ae-4df7-d867-6fe044ecb07a"
      },
      "outputs": [
        {
          "data": {
            "text/plain": [
              "'abc_abc_dab_cdeabc_def_abc_def_g'"
            ]
          },
          "execution_count": 70,
          "metadata": {},
          "output_type": "execute_result"
        }
      ],
      "source": [
        "txt3 = 'abcabcdabcdeabcdefabcdefg'\n",
        "# output: abc_abcd_abcdeab_cdef_abcdefg\n",
        "modify_string(txt3)"
      ]
    },
    {
      "cell_type": "code",
      "execution_count": 72,
      "metadata": {
        "colab": {
          "base_uri": "https://localhost:8080/"
        },
        "id": "8F6nvfcFq3wh",
        "outputId": "a384a84a-3717-4ad0-bc17-d5e644439eb8"
      },
      "outputs": [
        {
          "name": "stdout",
          "output_type": "stream",
          "text": [
            "You lost. Want to play again? \n"
          ]
        }
      ],
      "source": [
        "# 4. Number Guessing Game Create a simple number guessing game.\n",
        "\n",
        "import random\n",
        "number = random.randint(1, 100)\n",
        "player = int(input('Guess number 1 to 100: '))\n",
        "counter = 1\n",
        "\n",
        "response = {'Y', 'YES', 'y', 'yes', 'ok'}\n",
        "while True:\n",
        "    if player == number:\n",
        "        print(\"You guessed it right!\")\n",
        "        break\n",
        "\n",
        "    elif player > number and (player - number) >= 30:\n",
        "        player = int(input(\"Too high! \"))\n",
        "        \n",
        "    elif player > number:\n",
        "        player = int(input('Try again: '))\n",
        "\n",
        "    elif player < number and (number - player) >= 30:\n",
        "        player = int(input(\"Too low! \"))\n",
        "\n",
        "    elif player < number:\n",
        "        player = int(input('Try again: '))\n",
        "\n",
        "    counter += 1\n",
        "\n",
        "    if counter == 10:\n",
        "        print(\"You lost. Want to play again? \")\n",
        "        res = input('If you want to play again enter Y, y, YES, yes or ok: ')\n",
        "        \n",
        "        if res in response:\n",
        "            counter = 1\n",
        "        else:\n",
        "            break"
      ]
    },
    {
      "cell_type": "markdown",
      "metadata": {},
      "source": [
        "### **5. Password Checker Task: Create a simple password checker.**\n",
        "Task: Create a simple password checker.\n",
        "- Ask the user to enter a password.\n",
        "- If the password is shorter than 8 characters, print \"Password is too short.\"\n",
        "- If the password doesn’t contain at least one uppercase letter, print \"Password must contain an uppercase letter.\".\n",
        "- If the password meets both criteria, print \"Password is strong.\""
      ]
    },
    {
      "cell_type": "code",
      "execution_count": 73,
      "metadata": {
        "id": "LPD5AlrYq3wh"
      },
      "outputs": [
        {
          "name": "stdout",
          "output_type": "stream",
          "text": [
            "Password is strong.\n"
          ]
        }
      ],
      "source": [
        "# 5. Password Checker Task: Create a simple password checker.\n",
        "\n",
        "# User input\n",
        "password = input(\"Enter a password: \")\n",
        "\n",
        "# String in set\n",
        "password_in_set = {n for n in password}\n",
        "password_upper = {i.upper() for i in password}\n",
        "intersection_password = password_in_set.intersection(password_upper)\n",
        "\n",
        "# Use conditionals for password length\n",
        "if len(password) < 8:\n",
        "    print(\"Password is too short.\")\n",
        "\n",
        "# Use conditionals for know password uppercase\n",
        "elif bool(intersection_password):\n",
        "    print(\"Password is strong.\")\n",
        "else:\n",
        "    print(\"Password must contain an uppercase letter.\")"
      ]
    },
    {
      "cell_type": "code",
      "execution_count": 74,
      "metadata": {},
      "outputs": [
        {
          "name": "stdout",
          "output_type": "stream",
          "text": [
            "{2, 3, 5, 7, 11, 13, 17, 19, 23, 29, 31, 37, 41, 43, 47, 53, 59, 61, 67, 71, 73, 79, 83, 89, 97}\n"
          ]
        }
      ],
      "source": [
        "# 6. Prime Numbers Task: Write a Python program that prints all prime numbers between 1 and 100.\n",
        "prime_numbers = set()\n",
        "# Use for loop 2x\n",
        "for number in range(2, 100):\n",
        "    is_prime = True\n",
        "    for n in range(2, int(number**0.5) + 1):\n",
        "        if number % n == 0:\n",
        "            is_prime = False\n",
        "            break\n",
        "    if is_prime:\n",
        "        prime_numbers.add(number)\n",
        "\n",
        "print(prime_numbers)"
      ]
    },
    {
      "cell_type": "markdown",
      "metadata": {
        "id": "vSDo5e1Iq3wh"
      },
      "source": [
        "**6. Prime Numbers**\n",
        "Task: Write a Python program that prints all prime numbers between 1 and 100.\n",
        "\n",
        "> A prime number is a number greater than 1 that is not divisible by any number other than 1 and itself. Use nested loops to check divisibility.\n",
        "\n",
        "---\n",
        "\n",
        "### Bonus Challenge\n",
        "Task: Create a simple text-based Rock, Paper, Scissors game where the player plays against the computer.\n",
        "- The computer randomly chooses `rock`, `paper`, or `scissors` using `random.choice()`.\n",
        "- The player enters their choice.\n",
        "- Display the winner and keep track of scores for the player and the computer.\n",
        "- First to 5 points wins the match."
      ]
    },
    {
      "cell_type": "code",
      "execution_count": 75,
      "metadata": {},
      "outputs": [
        {
          "name": "stdout",
          "output_type": "stream",
          "text": [
            "User: 1 Computer 0\n",
            "User: 2 Computer 0\n",
            "User: 3 Computer 0\n",
            "User: 4 Computer 0\n",
            "\n",
            "Game is over:\n",
            "User: 4 \n",
            "Computer: 0\n",
            "\n",
            "User Win\n"
          ]
        }
      ],
      "source": [
        "# Bonus Challenge\n",
        "import random\n",
        "choose = ['rock', 'paper', 'scissors']\n",
        "\n",
        "counter = 1\n",
        "user, computer = 0, 0\n",
        "\n",
        "while True:\n",
        "    if True:\n",
        "        computer_choose = random.choice(choose)\n",
        "    user_choose = input('Choose one of the three (rock, paper, or scissors): ')\n",
        "\n",
        "    if choose == user_choose:\n",
        "        print('User:', user, 'Computer', computer)\n",
        "\n",
        "    elif computer_choose == 'rock': \n",
        "        if user_choose == 'paper':\n",
        "            user += 1\n",
        "            print('User:', user, 'Computer', computer)\n",
        "        else:\n",
        "            computer += 1\n",
        "            print('User:', user, 'Computer', computer)\n",
        "    elif computer_choose == 'paper':\n",
        "        if user_choose == 'rock':\n",
        "            computer += 1\n",
        "            print('User:', user, 'Computer', computer)\n",
        "        else:\n",
        "            user += 1\n",
        "            print('User:', user, 'Computer', computer)\n",
        "\n",
        "    counter += 1\n",
        "    if counter == 6:\n",
        "        break\n",
        "\n",
        "print(f'''\n",
        "Game is over:\n",
        "User: {user} \n",
        "Computer: {computer}\n",
        "''')\n",
        "if user > computer:\n",
        "    print('User Win')\n",
        "elif user < computer:\n",
        "    print('Computer Win')\n",
        "else:\n",
        "    print('Equal')"
      ]
    }
  ],
  "metadata": {
    "colab": {
      "provenance": []
    },
    "kernelspec": {
      "display_name": "Python 3",
      "language": "python",
      "name": "python3"
    },
    "language_info": {
      "codemirror_mode": {
        "name": "ipython",
        "version": 3
      },
      "file_extension": ".py",
      "mimetype": "text/x-python",
      "name": "python",
      "nbconvert_exporter": "python",
      "pygments_lexer": "ipython3",
      "version": "3.12.9"
    }
  },
  "nbformat": 4,
  "nbformat_minor": 0
}
