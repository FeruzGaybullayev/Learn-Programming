{
  "cells": [
    {
      "cell_type": "markdown",
      "metadata": {
        "id": "WyLpFCxSeqmz"
      },
      "source": [
        "**1.** Return uncommon elements of lists. Order of elements does not matter.\n",
        "```\n",
        "input:\n",
        "    list1 = [1, 1, 2]\n",
        "    list2 = [2, 3, 4]\n",
        "output: [1, 1, 3, 4]\n",
        "```\n",
        "\n",
        "```\n",
        "input:\n",
        "    list1 = [1, 2, 3]\n",
        "    list2 = [4, 5, 6]\n",
        "output: [1, 2, 3, 4, 5, 6]\n",
        "```\n",
        "\n",
        "```\n",
        "input:\n",
        "    list1 = [1, 1, 2, 3, 4, 2]\n",
        "    list2 = [1, 3, 4, 5]\n",
        "output: [2, 2, 5]\n",
        "```\n"
      ]
    },
    {
      "cell_type": "code",
      "execution_count": null,
      "metadata": {
        "id": "iGDkpvfTeqm3"
      },
      "outputs": [],
      "source": [
        "# 1. Return uncommon elements of lists. Order of elements does not matter."
      ]
    },
    {
      "cell_type": "code",
      "execution_count": null,
      "metadata": {
        "id": "vSmF5Uigeqm4",
        "outputId": "effbb9b3-f4ff-4827-f694-73a3f92cbb14"
      },
      "outputs": [
        {
          "name": "stdout",
          "output_type": "stream",
          "text": [
            "[1, 1, 3, 4]\n"
          ]
        }
      ],
      "source": [
        "# input:\n",
        "list1 = [1, 1, 2]\n",
        "list2 = [2, 3, 4]\n",
        "# output: [1, 1, 3, 4]\n",
        "\n",
        "output = list1[:2] + list2[1:]\n",
        "print(output)"
      ]
    },
    {
      "cell_type": "code",
      "execution_count": null,
      "metadata": {
        "id": "ZyKtSM1qeqm5",
        "outputId": "66531ec5-1590-4d2e-a280-ec6a43c802e1"
      },
      "outputs": [
        {
          "name": "stdout",
          "output_type": "stream",
          "text": [
            "[1, 2, 3, 4, 5, 6]\n"
          ]
        }
      ],
      "source": [
        "# input:\n",
        "list1 = [1, 2, 3]\n",
        "list2 = [4, 5, 6]\n",
        "# output: [1, 2, 3, 4, 5, 6]\n",
        "\n",
        "output = list1 + list2\n",
        "print(output)"
      ]
    },
    {
      "cell_type": "code",
      "execution_count": null,
      "metadata": {
        "id": "N43Y1Zfoeqm6",
        "outputId": "e0563373-a137-4997-f93a-ffe7d0aedd75"
      },
      "outputs": [
        {
          "name": "stdout",
          "output_type": "stream",
          "text": [
            "[2, 2, 5]\n"
          ]
        }
      ],
      "source": [
        "# input:\n",
        "list1 = [1, 1, 2, 3, 4, 2]\n",
        "list2 = [1, 3, 4, 5]\n",
        "# output: [2, 2, 5]\n",
        "\n",
        "output = list1[2::3] + list2[3:]\n",
        "print(output)"
      ]
    },
    {
      "cell_type": "markdown",
      "metadata": {
        "id": "Kxo55vuVeqm6"
      },
      "source": [
        "**2.** Print the square of each number which is less than `n` on a separate line.\n",
        "\n",
        "```\n",
        "input: n = 5\n",
        "output:\n",
        "    1\n",
        "    4\n",
        "    9\n",
        "    16\n",
        "```"
      ]
    },
    {
      "cell_type": "code",
      "execution_count": null,
      "metadata": {
        "id": "YuGsxXtteqm6"
      },
      "outputs": [],
      "source": [
        "# 2. Print the square of each number which is less than n on a separate line."
      ]
    },
    {
      "cell_type": "code",
      "execution_count": null,
      "metadata": {
        "id": "qJzGrbNseqm7",
        "outputId": "5c1b4a1b-66f3-4444-ee37-9fef6a6e40e2"
      },
      "outputs": [
        {
          "name": "stdout",
          "output_type": "stream",
          "text": [
            "1\n",
            "4\n",
            "9\n",
            "16\n"
          ]
        }
      ],
      "source": [
        "# input:\n",
        "n = 5\n",
        "'''\n",
        "output:\n",
        "    1\n",
        "    4\n",
        "    9\n",
        "    16\n",
        "    '''\n",
        "def print_squares(n):\n",
        "    for i in range(1, n):\n",
        "        print(i*i)\n",
        "print_squares(n)"
      ]
    },
    {
      "cell_type": "code",
      "execution_count": null,
      "metadata": {
        "id": "sVMMHqLAeqm7"
      },
      "outputs": [],
      "source": [
        "# 3. txt nomli string saqlovchi o'zgaruvchi berilgan. txtdagi har uchinchi belgidan keyin pastgi chiziqcha (underscore) qo'yilsin. Agar belgi unli harf yoki orqasidan ostki chiziqcha qo'yilgan harf bo'lsa, ostki chiziqcha keyingi harfdan keyin qo'yilsin. Agar belgi satrdagi oxirgi belgi bo'lsa chiziqcha qo'yilmasin."
      ]
    },
    {
      "cell_type": "code",
      "execution_count": null,
      "metadata": {
        "id": "TBh822INeytx"
      },
      "outputs": [],
      "source": [
        "def modify_string(txt):\n",
        "    vowels = \"aeiouAEIOU\"\n",
        "    result = \"\"\n",
        "    i = 0\n",
        "    ad = []\n",
        "    while bool(txt):\n",
        "       result += txt[i]\n",
        "       if (i+1) % 3 == 0 and txt[i] not in vowels:\n",
        "            result += '_'\n",
        "\n",
        "       i += 1\n",
        "       if i == len(txt):\n",
        "          break\n",
        "\n",
        "    return result"
      ]
    },
    {
      "cell_type": "code",
      "execution_count": null,
      "metadata": {
        "id": "SmthPTSpq3wg",
        "outputId": "05a059e8-57df-47c7-cd68-63d8c9dc2965"
      },
      "outputs": [
        {
          "data": {
            "text/plain": [
              "'hel_lo'"
            ]
          },
          "execution_count": 89,
          "metadata": {},
          "output_type": "execute_result"
        }
      ],
      "source": [
        "txt1 = 'hello'\n",
        "# output: hel_lo\n",
        "modify_string(txt1)"
      ]
    },
    {
      "cell_type": "code",
      "execution_count": null,
      "metadata": {
        "id": "9ae0UqK7q3wg",
        "outputId": "24f854ce-f421-4123-ac77-2ec2c3ecb7a3"
      },
      "outputs": [
        {
          "data": {
            "text/plain": [
              "'ass_alom'"
            ]
          },
          "execution_count": 93,
          "metadata": {},
          "output_type": "execute_result"
        }
      ],
      "source": [
        "txt2 = 'assalom'\n",
        "# output: ass_alom\n",
        "modify_string(txt2)"
      ]
    },
    {
      "cell_type": "code",
      "execution_count": null,
      "metadata": {
        "id": "jH9476BWq3wh",
        "outputId": "590d4a5d-84ae-4df7-d867-6fe044ecb07a"
      },
      "outputs": [
        {
          "data": {
            "text/plain": [
              "'abc_abc_dab_cdeabc_def_abc_def_g'"
            ]
          },
          "execution_count": 94,
          "metadata": {},
          "output_type": "execute_result"
        }
      ],
      "source": [
        "txt3 = 'abcabcdabcdeabcdefabcdefg'\n",
        "# output: abc_abcd_abcdeab_cdef_abcdefg\n",
        "modify_string(txt3)"
      ]
    },
    {
      "cell_type": "code",
      "execution_count": 5,
      "metadata": {
        "id": "8F6nvfcFq3wh",
        "outputId": "a384a84a-3717-4ad0-bc17-d5e644439eb8",
        "colab": {
          "base_uri": "https://localhost:8080/"
        }
      },
      "outputs": [
        {
          "name": "stdout",
          "output_type": "stream",
          "text": [
            "Guess number 1 to 100: 12\n",
            "Too low! 12\n",
            "Too low! 12\n",
            "Too low! 12\n",
            "Too low! 152\n",
            "Too high! 5\n",
            "Too low! 5\n",
            "Too low! 5\n",
            "Too low! 55\n",
            "Try again: 47\n",
            "Too low! 78\n",
            "You lost. Want to play again? \n",
            "If you want to play again enter Y, y, YES, yes or ok: 2\n"
          ]
        }
      ],
      "source": [
        "# 4. Number Guessing Game Create a simple number guessing game.\n",
        "# 4. Number Guessing Game Create a simple number guessing game.\n",
        "import random\n",
        "number = random.randint(1, 100)\n",
        "player = int(input('Guess number 1 to 100: '))\n",
        "counter = 0\n",
        "want = True\n",
        "response = {'Y', 'YES', 'y', 'yes', 'ok'}\n",
        "while want:\n",
        "    if player == number:\n",
        "        print(\"You guessed it right!\", number)\n",
        "\n",
        "        break\n",
        "    elif player > number and (player - number) >= 30:\n",
        "        player = int(input(\"Too high! \"))\n",
        "    elif player > number:\n",
        "        player = int(input('Try again: ', number))\n",
        "    elif player < number and (number - player) >= 30:\n",
        "        player = int(input(\"Too low! \"))\n",
        "    elif player < number:\n",
        "        player = int(input('Try again: '))\n",
        "    counter += 1\n",
        "    if counter == 10:\n",
        "        print(\"You lost. Want to play again? \")\n",
        "        res = input('If you want to play again enter Y, y, YES, yes or ok: ')\n",
        "        if res in response:\n",
        "            counter = 0\n",
        "        else:\n",
        "            break\n",
        ""
      ]
    },
    {
      "cell_type": "code",
      "execution_count": null,
      "metadata": {
        "id": "LPD5AlrYq3wh"
      },
      "outputs": [],
      "source": [
        "# 5. Password Checker Task: Create a simple password checker."
      ]
    },
    {
      "cell_type": "markdown",
      "metadata": {
        "id": "vSDo5e1Iq3wh"
      },
      "source": [
        "Task: Create a simple password checker.\n",
        "- Ask the user to enter a password.\n",
        "- If the password is shorter than 8 characters, print \"Password is too short.\"\n",
        "- If the password doesn’t contain at least one uppercase letter, print \"Password must contain an uppercase letter.\".\n",
        "- If the password meets both criteria, print \"Password is strong.\"\n"
      ]
    },
    {
      "cell_type": "code",
      "execution_count": null,
      "metadata": {
        "id": "7neVPh5dq3wh",
        "outputId": "76d985be-fae3-4b60-b349-d44ac08147df"
      },
      "outputs": [
        {
          "name": "stdout",
          "output_type": "stream",
          "text": [
            "Password must contain an uppercase letter\n"
          ]
        }
      ],
      "source": [
        "password = input(\"Enter a password:\")\n",
        "if len(password) >= 8:\n",
        "    if password in password.upper():\n",
        "        print('Password is strong')\n",
        "    else:\n",
        "        print('Password must contain an uppercase letter')\n",
        "else:\n",
        "    print('Password is too short.')"
      ]
    },
    {
      "cell_type": "code",
      "execution_count": null,
      "metadata": {
        "id": "tTL4g-93q3wi",
        "outputId": "227f1eb1-d6d7-4132-a5ee-b94d9b29d806"
      },
      "outputs": [
        {
          "data": {
            "text/plain": [
              "False"
            ]
          },
          "execution_count": 103,
          "metadata": {},
          "output_type": "execute_result"
        }
      ],
      "source": [
        "bool('salom' in 'Salom')"
      ]
    },
    {
      "cell_type": "code",
      "execution_count": null,
      "metadata": {
        "id": "t9lH16hsq3wi"
      },
      "outputs": [],
      "source": []
    }
  ],
  "metadata": {
    "colab": {
      "provenance": []
    },
    "kernelspec": {
      "display_name": "Python 3",
      "language": "python",
      "name": "python3"
    },
    "language_info": {
      "codemirror_mode": {
        "name": "ipython",
        "version": 3
      },
      "file_extension": ".py",
      "mimetype": "text/x-python",
      "name": "python",
      "nbconvert_exporter": "python",
      "pygments_lexer": "ipython3",
      "version": "3.12.8"
    }
  },
  "nbformat": 4,
  "nbformat_minor": 0
}