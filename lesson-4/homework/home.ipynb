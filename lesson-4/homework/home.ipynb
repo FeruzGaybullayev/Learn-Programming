{
  "cells": [
    {
      "cell_type": "markdown",
      "metadata": {
        "id": "WyLpFCxSeqmz"
      },
      "source": [
        "**1.** Return uncommon elements of lists. Order of elements does not matter.\n",
        "```\n",
        "input:\n",
        "    list1 = [1, 1, 2]\n",
        "    list2 = [2, 3, 4]\n",
        "output: [1, 1, 3, 4]\n",
        "```\n",
        "\n",
        "```\n",
        "input:\n",
        "    list1 = [1, 2, 3]\n",
        "    list2 = [4, 5, 6]\n",
        "output: [1, 2, 3, 4, 5, 6]\n",
        "```\n",
        "\n",
        "```\n",
        "input:\n",
        "    list1 = [1, 1, 2, 3, 4, 2]\n",
        "    list2 = [1, 3, 4, 5]\n",
        "output: [2, 2, 5]\n",
        "```\n"
      ]
    },
    {
      "cell_type": "code",
      "execution_count": null,
      "metadata": {
        "id": "iGDkpvfTeqm3"
      },
      "outputs": [],
      "source": [
        "# 1. Return uncommon elements of lists. Order of elements does not matter."
      ]
    },
    {
      "cell_type": "code",
      "execution_count": null,
      "metadata": {
        "id": "vSmF5Uigeqm4",
        "outputId": "effbb9b3-f4ff-4827-f694-73a3f92cbb14"
      },
      "outputs": [
        {
          "name": "stdout",
          "output_type": "stream",
          "text": [
            "[1, 1, 3, 4]\n"
          ]
        }
      ],
      "source": [
        "# input:\n",
        "list1 = [1, 1, 2]\n",
        "list2 = [2, 3, 4]\n",
        "# output: [1, 1, 3, 4]\n",
        "\n",
        "output = list1[:2] + list2[1:]\n",
        "print(output)"
      ]
    },
    {
      "cell_type": "code",
      "execution_count": null,
      "metadata": {
        "id": "ZyKtSM1qeqm5",
        "outputId": "66531ec5-1590-4d2e-a280-ec6a43c802e1"
      },
      "outputs": [
        {
          "name": "stdout",
          "output_type": "stream",
          "text": [
            "[1, 2, 3, 4, 5, 6]\n"
          ]
        }
      ],
      "source": [
        "# input:\n",
        "list1 = [1, 2, 3]\n",
        "list2 = [4, 5, 6]\n",
        "# output: [1, 2, 3, 4, 5, 6]\n",
        "\n",
        "output = list1 + list2\n",
        "print(output)"
      ]
    },
    {
      "cell_type": "code",
      "execution_count": null,
      "metadata": {
        "id": "N43Y1Zfoeqm6",
        "outputId": "e0563373-a137-4997-f93a-ffe7d0aedd75"
      },
      "outputs": [
        {
          "name": "stdout",
          "output_type": "stream",
          "text": [
            "[2, 2, 5]\n"
          ]
        }
      ],
      "source": [
        "# input:\n",
        "list1 = [1, 1, 2, 3, 4, 2]\n",
        "list2 = [1, 3, 4, 5]\n",
        "# output: [2, 2, 5]\n",
        "\n",
        "output = list1[2::3] + list2[3:]\n",
        "print(output)"
      ]
    },
    {
      "cell_type": "markdown",
      "metadata": {
        "id": "Kxo55vuVeqm6"
      },
      "source": [
        "**2.** Print the square of each number which is less than `n` on a separate line.\n",
        "\n",
        "```\n",
        "input: n = 5\n",
        "output:\n",
        "    1\n",
        "    4\n",
        "    9\n",
        "    16\n",
        "```"
      ]
    },
    {
      "cell_type": "code",
      "execution_count": null,
      "metadata": {
        "id": "YuGsxXtteqm6"
      },
      "outputs": [],
      "source": [
        "# 2. Print the square of each number which is less than n on a separate line."
      ]
    },
    {
      "cell_type": "code",
      "execution_count": null,
      "metadata": {
        "id": "qJzGrbNseqm7",
        "outputId": "5c1b4a1b-66f3-4444-ee37-9fef6a6e40e2"
      },
      "outputs": [
        {
          "name": "stdout",
          "output_type": "stream",
          "text": [
            "1\n",
            "4\n",
            "9\n",
            "16\n"
          ]
        }
      ],
      "source": [
        "# input:\n",
        "n = 5\n",
        "'''\n",
        "output:\n",
        "    1\n",
        "    4\n",
        "    9\n",
        "    16\n",
        "    '''\n",
        "def print_squares(n):\n",
        "    for i in range(1, n):\n",
        "        print(i*i)\n",
        "print_squares(n)"
      ]
    },
    {
      "cell_type": "code",
      "execution_count": 1,
      "metadata": {
        "id": "sVMMHqLAeqm7"
      },
      "outputs": [],
      "source": [
        "# 3. txt nomli string saqlovchi o'zgaruvchi berilgan. txtdagi har uchinchi belgidan keyin pastgi chiziqcha (underscore) qo'yilsin. Agar belgi unli harf yoki orqasidan ostki chiziqcha qo'yilgan harf bo'lsa, ostki chiziqcha keyingi harfdan keyin qo'yilsin. Agar belgi satrdagi oxirgi belgi bo'lsa chiziqcha qo'yilmasin."
      ]
    },
    {
      "cell_type": "code",
      "source": [
        "def modify_string(txt):\n",
        "    vowels = \"aeiouAEIOU\"\n",
        "    result = []\n",
        "    length = len(txt)\n",
        "\n",
        "    for i in range(length):\n",
        "      result.append(txt[i])\n",
        "      if (i+1) % 3 == 0:\n",
        "        if i + 1 < length and txt[i+1] in vowels:\n",
        "          result.append('_')\n",
        "          result.append(txt[i+1])\n",
        "          result.append('_')\n",
        "        else:\n",
        "          result.append('_')\n",
        "\n",
        "          return ''.join(result)\n"
      ],
      "metadata": {
        "id": "TBh822INeytx"
      },
      "execution_count": 35,
      "outputs": []
    },
    {
      "cell_type": "code",
      "source": [
        "def modify_string(txt):\n",
        "    vowels = \"aeiouAEIOU\"\n",
        "    result = []\n",
        "    length = len(txt)\n",
        "\n",
        "    for i in range(length):\n",
        "      result.append(txt[i])\n",
        "      if (i+1) % 3 == 0:\n",
        "        if i + 1 < length and txt[i+1] in vowels:\n",
        "          result.append('_')\n",
        "          result.append(txt[i+1])\n",
        "          result.append('_')\n",
        "        else:\n",
        "          result.append('_')\n",
        "\n",
        "          return ''.join(result)"
      ],
      "metadata": {
        "id": "C_YL2dTjfVEp",
        "outputId": "8171b702-c9e8-4f50-93c8-fbdde3261b85",
        "colab": {
          "base_uri": "https://localhost:8080/",
          "height": 36
        }
      },
      "execution_count": 36,
      "outputs": [
        {
          "output_type": "execute_result",
          "data": {
            "text/plain": [
              "'ass_a_alo_'"
            ],
            "application/vnd.google.colaboratory.intrinsic+json": {
              "type": "string"
            }
          },
          "metadata": {},
          "execution_count": 36
        }
      ]
    },
    {
      "source": [],
      "cell_type": "code",
      "metadata": {
        "id": "yiQReoUspT_L"
      },
      "execution_count": 10,
      "outputs": []
    },
    {
      "cell_type": "code",
      "source": [],
      "metadata": {
        "id": "wM0gdO7mnlRL"
      },
      "execution_count": null,
      "outputs": []
    }
  ],
  "metadata": {
    "kernelspec": {
      "display_name": "Python 3",
      "language": "python",
      "name": "python3"
    },
    "language_info": {
      "codemirror_mode": {
        "name": "ipython",
        "version": 3
      },
      "file_extension": ".py",
      "mimetype": "text/x-python",
      "name": "python",
      "nbconvert_exporter": "python",
      "pygments_lexer": "ipython3",
      "version": "3.12.8"
    },
    "colab": {
      "provenance": []
    }
  },
  "nbformat": 4,
  "nbformat_minor": 0
}