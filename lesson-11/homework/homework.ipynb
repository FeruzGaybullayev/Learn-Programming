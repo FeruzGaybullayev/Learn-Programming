{
 "cells": [
  {
   "cell_type": "code",
   "execution_count": 2,
   "metadata": {},
   "outputs": [],
   "source": [
    "# Roster Database Operations\n",
    "import sqlite3\n",
    "\n",
    "# Create a new SQLite database named \"roster.db\"\n",
    "conn = sqlite3.connect('roster.db')\n",
    "cursor = conn.cursor()\n",
    "\n",
    "# Create the Roster table with the specified schema\n",
    "cursor.execute('''\n",
    "    CREATE TABLE IF NOT EXISTS Roster (\n",
    "        Name TEXT,\n",
    "        Species TEXT,\n",
    "        Age INTEGER\n",
    "    )\n",
    "''')\n",
    "\n",
    "# Commit the changes and close the connection\n",
    "conn.commit()"
   ]
  },
  {
   "cell_type": "code",
   "execution_count": 3,
   "metadata": {},
   "outputs": [],
   "source": [
    "# Insert the given data into the Roster table\n",
    "cursor.executemany('''\n",
    "    INSERT INTO Roster (Name, Species, Age)\n",
    "    VALUES (?, ?, ?)\n",
    "''', [\n",
    "    ('Benjamin Sisko', 'Human', 40),\n",
    "    ('Jadzia Dax', 'Trill', 300),\n",
    "    ('Kira Nerys', 'Bajoran', 29)\n",
    "])\n",
    "\n",
    "# Commit the changes\n",
    "conn.commit()"
   ]
  },
  {
   "cell_type": "code",
   "execution_count": 4,
   "metadata": {},
   "outputs": [],
   "source": [
    "# Update the Name of \"Jadzia Dax\" to \"Ezri Dax\"\n",
    "cursor.execute('''\n",
    "    UPDATE Roster\n",
    "    SET Name = 'Ezri Dax'\n",
    "    WHERE Name = 'Jadzia Dax'\n",
    "''')\n",
    "\n",
    "# Commit the changes\n",
    "conn.commit()"
   ]
  },
  {
   "cell_type": "code",
   "execution_count": 5,
   "metadata": {},
   "outputs": [
    {
     "name": "stdout",
     "output_type": "stream",
     "text": [
      "Name: Kira Nerys, Age: 29\n"
     ]
    }
   ],
   "source": [
    "# Retrieve and display Name and Age of characters where the Species is \"Bajoran\"\n",
    "cursor.execute('''\n",
    "    SELECT Name, Age\n",
    "    FROM Roster\n",
    "    WHERE Species = 'Bajoran'\n",
    "''')\n",
    "\n",
    "# Fetch and print results\n",
    "bajoran_characters = cursor.fetchall()\n",
    "for character in bajoran_characters:\n",
    "    print(f\"Name: {character[0]}, Age: {character[1]}\")"
   ]
  },
  {
   "cell_type": "code",
   "execution_count": 6,
   "metadata": {},
   "outputs": [],
   "source": [
    "# Remove all characters aged over 100 years from the table\n",
    "cursor.execute('''\n",
    "    DELETE FROM Roster\n",
    "    WHERE Age > 100\n",
    "''')\n",
    "\n",
    "# Commit the changes\n",
    "conn.commit()"
   ]
  },
  {
   "cell_type": "code",
   "execution_count": 7,
   "metadata": {},
   "outputs": [],
   "source": [
    "# Add a new column \"Rank\" to the Roster table\n",
    "cursor.execute('''\n",
    "    ALTER TABLE Roster\n",
    "    ADD COLUMN Rank TEXT\n",
    "''')\n",
    "\n",
    "# Update the Rank values\n",
    "cursor.executemany('''\n",
    "    UPDATE Roster\n",
    "    SET Rank = ?\n",
    "    WHERE Name = ?\n",
    "''', [\n",
    "    ('Captain', 'Benjamin Sisko'),\n",
    "    ('Lieutenant', 'Ezri Dax'),\n",
    "    ('Major', 'Kira Nerys')\n",
    "])\n",
    "\n",
    "# Commit the changes\n",
    "conn.commit()"
   ]
  },
  {
   "cell_type": "code",
   "execution_count": 8,
   "metadata": {},
   "outputs": [
    {
     "name": "stdout",
     "output_type": "stream",
     "text": [
      "Name: Benjamin Sisko, Age: 40\n",
      "Name: Kira Nerys, Age: 29\n"
     ]
    }
   ],
   "source": [
    "# Retrieve all characters sorted by their Age in descending order\n",
    "cursor.execute('''\n",
    "    SELECT Name, Age\n",
    "    FROM Roster\n",
    "    ORDER BY Age DESC\n",
    "''')\n",
    "\n",
    "# Fetch and print results\n",
    "sorted_characters = cursor.fetchall()\n",
    "for character in sorted_characters:\n",
    "    print(f\"Name: {character[0]}, Age: {character[1]}\")"
   ]
  },
  {
   "cell_type": "code",
   "execution_count": 9,
   "metadata": {},
   "outputs": [],
   "source": [
    "# Library Database Operations\n",
    "# Create a new SQLite database named \"library.db\"\n",
    "conn = sqlite3.connect('library.db')\n",
    "cursor = conn.cursor()\n",
    "\n",
    "# Create the Books table with the specified schema\n",
    "cursor.execute('''\n",
    "    CREATE TABLE IF NOT EXISTS Books (\n",
    "        Title TEXT,\n",
    "        Author TEXT,\n",
    "        Year_Published INTEGER,\n",
    "        Genre TEXT\n",
    "    )\n",
    "''')\n",
    "\n",
    "# Commit the changes\n",
    "conn.commit()"
   ]
  },
  {
   "cell_type": "code",
   "execution_count": 10,
   "metadata": {},
   "outputs": [],
   "source": [
    "# Insert the given data into the Books table\n",
    "cursor.executemany('''\n",
    "    INSERT INTO Books (Title, Author, Year_Published, Genre)\n",
    "    VALUES (?, ?, ?, ?)\n",
    "''', [\n",
    "    ('To Kill a Mockingbird', 'Harper Lee', 1960, 'Fiction'),\n",
    "    ('1984', 'George Orwell', 1949, 'Dystopian'),\n",
    "    ('The Great Gatsby', 'F. Scott Fitzgerald', 1925, 'Classic')\n",
    "])\n",
    "\n",
    "# Commit the changes\n",
    "conn.commit()"
   ]
  },
  {
   "cell_type": "code",
   "execution_count": 11,
   "metadata": {},
   "outputs": [],
   "source": [
    "# Update the Year_Published of \"1984\" to 1950\n",
    "cursor.execute('''\n",
    "    UPDATE Books\n",
    "    SET Year_Published = 1950\n",
    "    WHERE Title = '1984'\n",
    "''')\n",
    "\n",
    "# Commit the changes\n",
    "conn.commit()"
   ]
  },
  {
   "cell_type": "code",
   "execution_count": null,
   "metadata": {},
   "outputs": [],
   "source": [
    "# Retrieve and display Title and Author of books where the Genre is \"Dystopian\"\n",
    "cursor.execute('''\n",
    "    SELECT Title, Author\n",
    "    FROM Books\n",
    "    WHERE Genre = 'Dystopian'\n",
    "''')\n",
    "\n",
    "# Fetch and print results\n",
    "dystopian_books = cursor.fetchall()\n",
    "for book in dystopian_books:\n",
    "    print(f\"Title: {book[0]}, Author: {book[1]}\")\n"
   ]
  },
  {
   "cell_type": "code",
   "execution_count": 12,
   "metadata": {},
   "outputs": [],
   "source": [
    "# Remove all books published before the year 1950\n",
    "cursor.execute('''\n",
    "    DELETE FROM Books\n",
    "    WHERE Year_Published < 1950\n",
    "''')\n",
    "\n",
    "# Commit the changes\n",
    "conn.commit()"
   ]
  },
  {
   "cell_type": "code",
   "execution_count": 13,
   "metadata": {},
   "outputs": [],
   "source": [
    "# Add a new column \"Rating\" to the Books table\n",
    "cursor.execute('''\n",
    "    ALTER TABLE Books\n",
    "    ADD COLUMN Rating REAL\n",
    "''')\n",
    "\n",
    "# Update the Rating values\n",
    "cursor.executemany('''\n",
    "    UPDATE Books\n",
    "    SET Rating = ?\n",
    "    WHERE Title = ?\n",
    "''', [\n",
    "    (4.8, 'To Kill a Mockingbird'),\n",
    "    (4.7, '1984'),\n",
    "    (4.5, 'The Great Gatsby')\n",
    "])\n",
    "\n",
    "# Commit the changes\n",
    "conn.commit()"
   ]
  },
  {
   "cell_type": "code",
   "execution_count": 14,
   "metadata": {},
   "outputs": [
    {
     "name": "stdout",
     "output_type": "stream",
     "text": [
      "Title: 1984, Year Published: 1950\n",
      "Title: To Kill a Mockingbird, Year Published: 1960\n"
     ]
    }
   ],
   "source": [
    "# Retrieve all books sorted by their Year_Published in ascending order\n",
    "cursor.execute('''\n",
    "    SELECT Title, Year_Published\n",
    "    FROM Books\n",
    "    ORDER BY Year_Published ASC\n",
    "''')\n",
    "\n",
    "# Fetch and print results\n",
    "sorted_books = cursor.fetchall()\n",
    "for book in sorted_books:\n",
    "    print(f\"Title: {book[0]}, Year Published: {book[1]}\")"
   ]
  },
  {
   "cell_type": "code",
   "execution_count": 15,
   "metadata": {},
   "outputs": [],
   "source": [
    "# Close the database connection\n",
    "conn.close()"
   ]
  }
 ],
 "metadata": {
  "kernelspec": {
   "display_name": "Python 3",
   "language": "python",
   "name": "python3"
  },
  "language_info": {
   "codemirror_mode": {
    "name": "ipython",
    "version": 3
   },
   "file_extension": ".py",
   "mimetype": "text/x-python",
   "name": "python",
   "nbconvert_exporter": "python",
   "pygments_lexer": "ipython3",
   "version": "3.12.9"
  }
 },
 "nbformat": 4,
 "nbformat_minor": 2
}
