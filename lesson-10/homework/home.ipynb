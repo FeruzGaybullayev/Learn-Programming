{
 "cells": [
  {
   "cell_type": "markdown",
   "metadata": {},
   "source": [
    "Task 1: Create a Library Management System with Custom Exceptions"
   ]
  },
  {
   "cell_type": "code",
   "execution_count": 59,
   "metadata": {},
   "outputs": [
    {
     "name": "stdout",
     "output_type": "stream",
     "text": [
      "Added book: 'Harry Potter' by J.K. Rowling\n",
      "Added book: 'The Hobbit' by J.R.R. Tolkien\n",
      "Added book: '1984' by George Orwell\n",
      "Added member: Alice\n",
      "Added member: Bob\n",
      "Alice borrowed 'Harry Potter'.\n",
      "Alice borrowed 'The Hobbit'.\n",
      "Alice borrowed '1984'.\n",
      "Error: 'The Catcher in the Rye' is not found in the library.\n",
      "Alice returned 'Harry Potter'.\n",
      "Error: 'The Hobbit' is already borrowed.\n",
      "\n",
      "Library Books:\n",
      "Harry Potter by J.K. Rowling (Available)\n",
      "The Hobbit by J.R.R. Tolkien (Borrowed)\n",
      "1984 by George Orwell (Borrowed)\n",
      "\n",
      "Library Members:\n",
      "Member: Alice, Borrowed Books: The Hobbit, 1984\n",
      "Member: Bob, Borrowed Books: No books borrowed\n"
     ]
    }
   ],
   "source": [
    "class BookNotFoundException(Exception):\n",
    "    \"\"\"Raised when a book is not found in the library.\"\"\"\n",
    "    pass\n",
    "\n",
    "class BookAlreadyBorrowedException(Exception):\n",
    "    \"\"\"Raised when a book is already borrowed.\"\"\"\n",
    "    pass\n",
    "\n",
    "class MemberLimitExceededException(Exception):\n",
    "    \"\"\"Raised when a member tries to borrow more than 3 books.\"\"\"\n",
    "    pass\n",
    "\n",
    "class Book:\n",
    "    def __init__(self, title, author):\n",
    "        self.title = title\n",
    "        self.author = author\n",
    "        self.is_borrowed = False\n",
    "\n",
    "    def __str__(self):\n",
    "        status = \"Borrowed\" if self.is_borrowed else \"Available\"\n",
    "        return f\"{self.title} by {self.author} ({status})\"\n",
    "\n",
    "class Member:\n",
    "    def __init__(self, name):\n",
    "        self.name = name\n",
    "        self.borrowed_books = []\n",
    "\n",
    "    def borrow_book(self, book):\n",
    "        if len(self.borrowed_books) >= 3:\n",
    "            raise MemberLimitExceededException(f\"{self.name} cannot borrow more than 3 books.\")\n",
    "        if book.is_borrowed:\n",
    "            raise BookAlreadyBorrowedException(f\"'{book.title}' is already borrowed.\")\n",
    "        \n",
    "        book.is_borrowed = True\n",
    "        self.borrowed_books.append(book)\n",
    "        print(f\"{self.name} borrowed '{book.title}'.\")\n",
    "\n",
    "    def return_book(self, book):\n",
    "        if book in self.borrowed_books:\n",
    "            book.is_borrowed = False\n",
    "            self.borrowed_books.remove(book)\n",
    "            print(f\"{self.name} returned '{book.title}'.\")\n",
    "        else:\n",
    "            print(f\"{self.name} did not borrow '{book.title}'.\")\n",
    "\n",
    "    def __str__(self):\n",
    "        books_list = \", \".join([book.title for book in self.borrowed_books]) or \"No books borrowed\"\n",
    "        return f\"Member: {self.name}, Borrowed Books: {books_list}\"\n",
    "\n",
    "class Library:\n",
    "    def __init__(self):\n",
    "        self.books = []\n",
    "        self.members = []\n",
    "\n",
    "    def add_book(self, book):\n",
    "        self.books.append(book)\n",
    "        print(f\"Added book: '{book.title}' by {book.author}\")\n",
    "\n",
    "    def add_member(self, member):\n",
    "        self.members.append(member)\n",
    "        print(f\"Added member: {member.name}\")\n",
    "\n",
    "    def borrow_book(self, member_name, book_title):\n",
    "        member = next((m for m in self.members if m.name == member_name), None)\n",
    "        book = next((b for b in self.books if b.title == book_title), None)\n",
    "\n",
    "        if not book:\n",
    "            raise BookNotFoundException(f\"'{book_title}' is not found in the library.\")\n",
    "        if not member:\n",
    "            print(f\"Member '{member_name}' not found.\")\n",
    "            return\n",
    "        \n",
    "        member.borrow_book(book)\n",
    "\n",
    "    def return_book(self, member_name, book_title):\n",
    "        member = next((m for m in self.members if m.name == member_name), None)\n",
    "        book = next((b for b in self.books if b.title == book_title), None)\n",
    "\n",
    "        if not book:\n",
    "            raise BookNotFoundException(f\"'{book_title}' is not found in the library.\")\n",
    "        if not member:\n",
    "            print(f\"Member '{member_name}' not found.\")\n",
    "            return\n",
    "\n",
    "        member.return_book(book)\n",
    "\n",
    "    def display_books(self):\n",
    "        for book in self.books:\n",
    "            print(book)\n",
    "\n",
    "    def display_members(self):\n",
    "        for member in self.members:\n",
    "            print(member)\n",
    "\n",
    "# Testing the system\n",
    "library = Library()\n",
    "\n",
    "# Adding books\n",
    "library.add_book(Book(\"Harry Potter\", \"J.K. Rowling\"))\n",
    "library.add_book(Book(\"The Hobbit\", \"J.R.R. Tolkien\"))\n",
    "library.add_book(Book(\"1984\", \"George Orwell\"))\n",
    "\n",
    "# Adding members\n",
    "alice = Member(\"Alice\")\n",
    "bob = Member(\"Bob\")\n",
    "library.add_member(alice)\n",
    "library.add_member(bob)\n",
    "\n",
    "# Borrowing books\n",
    "try:\n",
    "    library.borrow_book(\"Alice\", \"Harry Potter\")\n",
    "    library.borrow_book(\"Alice\", \"The Hobbit\")\n",
    "    library.borrow_book(\"Alice\", \"1984\")\n",
    "    library.borrow_book(\"Alice\", \"The Catcher in the Rye\")  # Should raise exception\n",
    "except Exception as e:\n",
    "    print(f\"Error: {e}\")\n",
    "\n",
    "# Returning a book\n",
    "library.return_book(\"Alice\", \"Harry Potter\")\n",
    "\n",
    "# Borrowing an already borrowed book\n",
    "try:\n",
    "    library.borrow_book(\"Bob\", \"The Hobbit\")  # Should raise exception\n",
    "except Exception as e:\n",
    "    print(f\"Error: {e}\")\n",
    "\n",
    "# Display all books and members\n",
    "print(\"\\nLibrary Books:\")\n",
    "library.display_books()\n",
    "\n",
    "print(\"\\nLibrary Members:\")\n",
    "library.display_members()\n"
   ]
  },
  {
   "cell_type": "markdown",
   "metadata": {},
   "source": [
    "Task 2: Student Grades Management"
   ]
  },
  {
   "cell_type": "code",
   "execution_count": 60,
   "metadata": {},
   "outputs": [],
   "source": [
    "import csv\n",
    "from collections import defaultdict"
   ]
  },
  {
   "cell_type": "code",
   "execution_count": 61,
   "metadata": {},
   "outputs": [],
   "source": [
    "grades = []\n",
    "with open(\"grades.csv\") as  file:\n",
    "    reader = csv.DictReader(file)\n",
    "    for row in reader:\n",
    "        row['Grade']  =  int(row['Grade'])\n",
    "        grades.append(row)"
   ]
  },
  {
   "cell_type": "code",
   "execution_count": 62,
   "metadata": {},
   "outputs": [],
   "source": [
    "subject_grades = defaultdict(list)"
   ]
  },
  {
   "cell_type": "code",
   "execution_count": 63,
   "metadata": {},
   "outputs": [],
   "source": [
    "for entry in grades:\n",
    "    subject_grades[entry[\"Subject\"]].append(entry[\"Grade\"])"
   ]
  },
  {
   "cell_type": "code",
   "execution_count": 64,
   "metadata": {},
   "outputs": [],
   "source": [
    "average_grades = {subject: sum(grades) / len(grades) for subject, grades in subject_grades.items()}\n",
    "average_grades\n",
    "with open(\"average_grades.csv\", mode=\"w\", newline=\"\") as file:\n",
    "    writer = csv.writer(file)\n",
    "    writer.writerow([\"Subject\", \"Average Grade\"])\n",
    "    for subject, avg_grade in average_grades.items():\n",
    "        writer.writerow([subject, round(avg_grade, 2)])"
   ]
  },
  {
   "cell_type": "code",
   "execution_count": 65,
   "metadata": {},
   "outputs": [
    {
     "name": "stdout",
     "output_type": "stream",
     "text": [
      "average_grades.csv has been created successfully!\n"
     ]
    }
   ],
   "source": [
    "print(\"average_grades.csv has been created successfully!\")"
   ]
  },
  {
   "cell_type": "markdown",
   "metadata": {},
   "source": [
    "Task 3: JSON Handling"
   ]
  },
  {
   "cell_type": "code",
   "execution_count": 66,
   "metadata": {},
   "outputs": [],
   "source": [
    "import json\n",
    "import csv"
   ]
  },
  {
   "cell_type": "code",
   "execution_count": 67,
   "metadata": {},
   "outputs": [],
   "source": [
    "TASKS_JSON_FILE = \"tasks.json\"\n",
    "TASKS_CSV_FILE = \"tasks.csv\""
   ]
  },
  {
   "cell_type": "code",
   "execution_count": 68,
   "metadata": {},
   "outputs": [],
   "source": [
    "with open(\"tasks.json\", mode=\"w\", newline=\"\") as file:\n",
    "    file.writelines(data)"
   ]
  },
  {
   "cell_type": "code",
   "execution_count": 69,
   "metadata": {},
   "outputs": [
    {
     "name": "stdout",
     "output_type": "stream",
     "text": [
      "\n",
      "Tasks List:\n",
      "ID    Task Name            Completed  Priority\n",
      "--------------------------------------------------\n",
      "1     Do laundry           0          3       \n",
      "2     Buy groceries        1          2       \n",
      "3     Finish homework      0          1       \n",
      "\n",
      "Task Statistics:\n",
      "Total tasks: 3\n",
      "Completed tasks: 1\n",
      "Pending tasks: 2\n",
      "Average priority: 2.0\n",
      "Task 'Do laundry' marked as completed.\n",
      "Tasks have been updated and saved.\n",
      "Tasks successfully converted to 'tasks.csv'.\n"
     ]
    }
   ],
   "source": [
    "# Function to load tasks from tasks.json\n",
    "def load_tasks():\n",
    "    try:\n",
    "        with open(TASKS_JSON_FILE, \"r\") as file:\n",
    "            return json.load(file)\n",
    "    except FileNotFoundError:\n",
    "        print(f\"Error: '{TASKS_JSON_FILE}' not found.\")\n",
    "        return []\n",
    "    except json.JSONDecodeError:\n",
    "        print(f\"Error: Could not decode JSON from '{TASKS_JSON_FILE}'.\")\n",
    "        return []\n",
    "\n",
    "# Function to save tasks back to tasks.json\n",
    "def save_tasks(tasks):\n",
    "    with open(TASKS_JSON_FILE, \"w\") as file:\n",
    "        json.dump(tasks, file, indent=4)\n",
    "    print(\"Tasks have been updated and saved.\")\n",
    "\n",
    "# Function to display all tasks\n",
    "def display_tasks(tasks):\n",
    "    print(\"\\nTasks List:\")\n",
    "    print(f\"{'ID':<5} {'Task Name':<20} {'Completed':<10} {'Priority':<8}\")\n",
    "    print(\"-\" * 50)\n",
    "    for task in tasks:\n",
    "        print(f\"{task['id']:<5} {task['task']:<20} {task['completed']:<10} {task['priority']:<8}\")\n",
    "\n",
    "# Function to modify a task's status\n",
    "def mark_task_completed(tasks, task_id):\n",
    "    for task in tasks:\n",
    "        if task[\"id\"] == task_id:\n",
    "            task[\"completed\"] = True\n",
    "            print(f\"Task '{task['task']}' marked as completed.\")\n",
    "            return\n",
    "    print(f\"Task with ID {task_id} not found.\")\n",
    "\n",
    "# Function to calculate task statistics\n",
    "def task_statistics(tasks):\n",
    "    total_tasks = len(tasks)\n",
    "    completed_tasks = sum(task[\"completed\"] for task in tasks)\n",
    "    pending_tasks = total_tasks - completed_tasks\n",
    "    avg_priority = sum(task[\"priority\"] for task in tasks) / total_tasks if total_tasks else 0\n",
    "\n",
    "    print(\"\\nTask Statistics:\")\n",
    "    print(f\"Total tasks: {total_tasks}\")\n",
    "    print(f\"Completed tasks: {completed_tasks}\")\n",
    "    print(f\"Pending tasks: {pending_tasks}\")\n",
    "    print(f\"Average priority: {round(avg_priority, 2)}\")\n",
    "\n",
    "# Function to convert tasks.json data to tasks.csv\n",
    "def convert_json_to_csv(tasks):\n",
    "    with open(TASKS_CSV_FILE, \"w\", newline=\"\") as file:\n",
    "        writer = csv.writer(file)\n",
    "        writer.writerow([\"ID\", \"Task\", \"Completed\", \"Priority\"])\n",
    "        for task in tasks:\n",
    "            writer.writerow([task[\"id\"], task[\"task\"], task[\"completed\"], task[\"priority\"]])\n",
    "    print(f\"Tasks successfully converted to '{TASKS_CSV_FILE}'.\")\n",
    "\n",
    "# Main execution\n",
    "tasks = load_tasks()\n",
    "display_tasks(tasks)\n",
    "task_statistics(tasks)\n",
    "\n",
    "# Modify a task (Example: Mark task ID 1 as completed)\n",
    "mark_task_completed(tasks, 1)\n",
    "save_tasks(tasks)\n",
    "\n",
    "# Convert tasks to CSV\n",
    "convert_json_to_csv(tasks)\n"
   ]
  },
  {
   "cell_type": "code",
   "execution_count": null,
   "metadata": {},
   "outputs": [],
   "source": []
  }
 ],
 "metadata": {
  "kernelspec": {
   "display_name": "Python 3",
   "language": "python",
   "name": "python3"
  },
  "language_info": {
   "codemirror_mode": {
    "name": "ipython",
    "version": 3
   },
   "file_extension": ".py",
   "mimetype": "text/x-python",
   "name": "python",
   "nbconvert_exporter": "python",
   "pygments_lexer": "ipython3",
   "version": "3.12.9"
  }
 },
 "nbformat": 4,
 "nbformat_minor": 2
}
