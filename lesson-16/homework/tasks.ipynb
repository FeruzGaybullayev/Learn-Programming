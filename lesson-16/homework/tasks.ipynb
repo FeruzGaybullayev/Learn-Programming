{
 "cells": [
  {
   "cell_type": "code",
   "execution_count": 4,
   "metadata": {},
   "outputs": [
    {
     "name": "stdout",
     "output_type": "stream",
     "text": [
      "Celsius Temperatures: [  0.          20.          37.77777778 100.          25.        ]\n"
     ]
    }
   ],
   "source": [
    "# Task 1: Convert Fahrenheit to Celsius using numpy.vectorize\n",
    "import numpy as np\n",
    "\n",
    "# Conversion function\n",
    "def fahrenheit_to_celsius(f):\n",
    "    return (f - 32) * 5 / 9\n",
    "\n",
    "# Array of temperatures in Fahrenheit\n",
    "fahrenheit_temps = np.array([32, 68, 100, 212, 77])\n",
    "\n",
    "# Vectorize the function\n",
    "vectorized_conversion = np.vectorize(fahrenheit_to_celsius)\n",
    "\n",
    "# Apply the function\n",
    "celsius_temps = vectorized_conversion(fahrenheit_temps)\n",
    "\n",
    "print(\"Celsius Temperatures:\", celsius_temps)"
   ]
  },
  {
   "cell_type": "code",
   "execution_count": 5,
   "metadata": {},
   "outputs": [
    {
     "name": "stdout",
     "output_type": "stream",
     "text": [
      "Power Results: [  2   9  64 625]\n"
     ]
    }
   ],
   "source": [
    "# Task 2: Calculate the power of each pair of numbers in two arrays using numpy.vectorize\n",
    "# Custom power function\n",
    "def calculate_power(base, exponent):\n",
    "    return base ** exponent\n",
    "\n",
    "# Arrays of numbers\n",
    "array1 = np.array([2, 3, 4, 5])\n",
    "array2 = np.array([1, 2, 3, 4])\n",
    "\n",
    "# Vectorize the power function\n",
    "vectorized_power = np.vectorize(calculate_power)\n",
    "\n",
    "# Apply the function element-wise\n",
    "result = vectorized_power(array1, array2)\n",
    "\n",
    "print(\"Power Results:\", result)"
   ]
  },
  {
   "cell_type": "code",
   "execution_count": 6,
   "metadata": {},
   "outputs": [
    {
     "name": "stdout",
     "output_type": "stream",
     "text": [
      "Solution (x, y, z): [ 1.7027027   0.62162162 -0.48648649]\n"
     ]
    }
   ],
   "source": [
    "# Task 3: Solve the system of linear equations using numpy\n",
    "import numpy as np\n",
    "\n",
    "# Coefficient matrix\n",
    "A = np.array([[4, 5, 6],\n",
    "              [3, -1, 1],\n",
    "              [2, 1, -2]])\n",
    "\n",
    "# Right-hand side vector\n",
    "b = np.array([7, 4, 5])\n",
    "\n",
    "# Solve the system\n",
    "solution = np.linalg.solve(A, b)\n",
    "\n",
    "print(\"Solution (x, y, z):\", solution)"
   ]
  },
  {
   "cell_type": "code",
   "execution_count": 7,
   "metadata": {},
   "outputs": [
    {
     "name": "stdout",
     "output_type": "stream",
     "text": [
      "Currents (I1, I2, I3): [ 0.48963731 -0.2253886   2.21761658]\n"
     ]
    }
   ],
   "source": [
    "# Task 4: Solve the electrical circuit system of equations\n",
    "# Coefficient matrix for the electrical circuit\n",
    "A_circuit = np.array([[10, -2, 3],\n",
    "                      [-2, 8, -1],\n",
    "                      [3, -1, 6]])\n",
    "\n",
    "# Right-hand side vector\n",
    "b_circuit = np.array([12, -5, 15])\n",
    "\n",
    "# Solve the system\n",
    "currents = np.linalg.solve(A_circuit, b_circuit)\n",
    "\n",
    "print(\"Currents (I1, I2, I3):\", currents)"
   ]
  }
 ],
 "metadata": {
  "kernelspec": {
   "display_name": "Python 3",
   "language": "python",
   "name": "python3"
  },
  "language_info": {
   "codemirror_mode": {
    "name": "ipython",
    "version": 3
   },
   "file_extension": ".py",
   "mimetype": "text/x-python",
   "name": "python",
   "nbconvert_exporter": "python",
   "pygments_lexer": "ipython3",
   "version": "3.12.9"
  }
 },
 "nbformat": 4,
 "nbformat_minor": 2
}
