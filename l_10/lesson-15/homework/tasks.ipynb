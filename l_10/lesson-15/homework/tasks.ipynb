{
 "cells": [
  {
   "cell_type": "code",
   "execution_count": 34,
   "metadata": {},
   "outputs": [
    {
     "name": "stdout",
     "output_type": "stream",
     "text": [
      "Vector: [10 11 12 13 14 15 16 17 18 19 20 21 22 23 24 25 26 27 28 29 30 31 32 33\n",
      " 34 35 36 37 38 39 40 41 42 43 44 45 46 47 48 49]\n"
     ]
    }
   ],
   "source": [
    "import numpy as np\n",
    "\n",
    "# 1. Create a vector with values ranging from 10 to 49.\n",
    "vector = np.arange(10, 50)\n",
    "print(\"Vector:\", vector)\n"
   ]
  },
  {
   "cell_type": "code",
   "execution_count": 35,
   "metadata": {},
   "outputs": [
    {
     "name": "stdout",
     "output_type": "stream",
     "text": [
      "3x3 Matrix:\n",
      " [[0 1 2]\n",
      " [3 4 5]\n",
      " [6 7 8]]\n"
     ]
    }
   ],
   "source": [
    "# 2. Create a 3x3 matrix with values ranging from 0 to 8.\n",
    "matrix_3x3 = np.arange(9).reshape(3, 3)\n",
    "print(\"3x3 Matrix:\\n\", matrix_3x3)"
   ]
  },
  {
   "cell_type": "code",
   "execution_count": 36,
   "metadata": {},
   "outputs": [
    {
     "name": "stdout",
     "output_type": "stream",
     "text": [
      "Identity Matrix:\n",
      " [[1. 0. 0.]\n",
      " [0. 1. 0.]\n",
      " [0. 0. 1.]]\n"
     ]
    }
   ],
   "source": [
    "# 3. Create a 3x3 identity matrix.\n",
    "identity_matrix = np.eye(3)\n",
    "print(\"Identity Matrix:\\n\", identity_matrix)"
   ]
  },
  {
   "cell_type": "code",
   "execution_count": 37,
   "metadata": {},
   "outputs": [
    {
     "name": "stdout",
     "output_type": "stream",
     "text": [
      "3x3x3 Random Array:\n",
      " [[[0.11117568 0.1143306  0.67780855]\n",
      "  [0.0972794  0.03722306 0.17195644]\n",
      "  [0.35370461 0.54911912 0.50146547]]\n",
      "\n",
      " [[0.67358175 0.5568076  0.85880765]\n",
      "  [0.26242474 0.9827889  0.15781935]\n",
      "  [0.61680005 0.50066736 0.51374271]]\n",
      "\n",
      " [[0.25821204 0.02986813 0.47794584]\n",
      "  [0.72798828 0.78968756 0.31036018]\n",
      "  [0.92916179 0.07089096 0.97614854]]]\n"
     ]
    }
   ],
   "source": [
    "# 4. Create a 3x3x3 array with random values.\n",
    "random_array = np.random.random((3, 3, 3))\n",
    "print(\"3x3x3 Random Array:\\n\", random_array)"
   ]
  },
  {
   "cell_type": "code",
   "execution_count": 38,
   "metadata": {},
   "outputs": [
    {
     "name": "stdout",
     "output_type": "stream",
     "text": [
      "Min: 0.004913765142230853\n",
      "Max: 0.9831547310500683\n"
     ]
    }
   ],
   "source": [
    "# 5. Create a 10x10 array with random values and find the minimum and maximum values.\n",
    "large_random_array = np.random.random((10, 10))\n",
    "print(\"Min:\", np.min(large_random_array))\n",
    "print(\"Max:\", np.max(large_random_array))"
   ]
  },
  {
   "cell_type": "code",
   "execution_count": 39,
   "metadata": {},
   "outputs": [
    {
     "name": "stdout",
     "output_type": "stream",
     "text": [
      "Mean Value: 0.4912743993315704\n"
     ]
    }
   ],
   "source": [
    "# 6. Create a random vector of size 30 and find the mean value.\n",
    "random_vector = np.random.random(30)\n",
    "mean_value = np.mean(random_vector)\n",
    "print(\"Mean Value:\", mean_value)"
   ]
  },
  {
   "cell_type": "code",
   "execution_count": 40,
   "metadata": {},
   "outputs": [
    {
     "name": "stdout",
     "output_type": "stream",
     "text": [
      "Normalized Matrix:\n",
      " [[8.36210604e-01 9.81458928e-01 2.78044713e-02 1.26007377e-01\n",
      "  7.87759328e-01]\n",
      " [6.70715251e-01 9.85602814e-01 1.00000000e+00 8.10981832e-01\n",
      "  7.58479210e-02]\n",
      " [4.13900823e-01 2.64150973e-01 5.60061406e-01 5.32953208e-01\n",
      "  2.72255003e-01]\n",
      " [6.00054089e-01 4.46949243e-01 1.84223949e-04 8.93079029e-01\n",
      "  2.43036154e-01]\n",
      " [2.92982093e-01 8.22802978e-01 3.17013165e-01 0.00000000e+00\n",
      "  8.93911351e-01]]\n"
     ]
    }
   ],
   "source": [
    "# 7. Normalize a 5x5 random matrix.\n",
    "random_matrix = np.random.random((5, 5))\n",
    "normalized_matrix = (random_matrix - np.min(random_matrix)) / (np.max(random_matrix) - np.min(random_matrix))\n",
    "print(\"Normalized Matrix:\\n\", normalized_matrix)"
   ]
  },
  {
   "cell_type": "code",
   "execution_count": 41,
   "metadata": {},
   "outputs": [
    {
     "name": "stdout",
     "output_type": "stream",
     "text": [
      "Matrix Product:\n",
      " [[ 74 155]\n",
      " [ 41 100]\n",
      " [ 77 156]\n",
      " [ 40  89]\n",
      " [ 43 102]]\n"
     ]
    }
   ],
   "source": [
    "# 8. Multiply a 5x3 matrix by a 3x2 matrix (real matrix product).\n",
    "A = np.random.randint(1, 10, (5, 3))\n",
    "B = np.random.randint(1, 10, (3, 2))\n",
    "product = np.dot(A, B)\n",
    "print(\"Matrix Product:\\n\", product)"
   ]
  },
  {
   "cell_type": "code",
   "execution_count": 42,
   "metadata": {},
   "outputs": [
    {
     "name": "stdout",
     "output_type": "stream",
     "text": [
      "Dot Product:\n",
      " [[ 84  46 171]\n",
      " [ 39  26 126]\n",
      " [ 40  19  90]]\n"
     ]
    }
   ],
   "source": [
    "# 9. Create two 3x3 matrices and compute their dot product.\n",
    "M1 = np.random.randint(1, 10, (3, 3))\n",
    "M2 = np.random.randint(1, 10, (3, 3))\n",
    "dot_product = np.dot(M1, M2)\n",
    "print(\"Dot Product:\\n\", dot_product)"
   ]
  },
  {
   "cell_type": "code",
   "execution_count": 43,
   "metadata": {},
   "outputs": [
    {
     "name": "stdout",
     "output_type": "stream",
     "text": [
      "Transpose:\n",
      " [[8 1 6 2]\n",
      " [3 1 3 7]\n",
      " [3 2 4 9]\n",
      " [5 4 8 4]]\n"
     ]
    }
   ],
   "source": [
    "# 10. Given a 4x4 matrix, find its transpose.\n",
    "matrix_4x4 = np.random.randint(1, 10, (4, 4))\n",
    "transpose_matrix = matrix_4x4.T\n",
    "print(\"Transpose:\\n\", transpose_matrix)"
   ]
  },
  {
   "cell_type": "code",
   "execution_count": 44,
   "metadata": {},
   "outputs": [
    {
     "name": "stdout",
     "output_type": "stream",
     "text": [
      "Determinant: -65.99999999999997\n"
     ]
    }
   ],
   "source": [
    "# 11. Create a 3x3 matrix and calculate its determinant.\n",
    "matrix_3x3_det = np.random.randint(1, 10, (3, 3))\n",
    "determinant = np.linalg.det(matrix_3x3_det)\n",
    "print(\"Determinant:\", determinant)"
   ]
  },
  {
   "cell_type": "code",
   "execution_count": 45,
   "metadata": {},
   "outputs": [
    {
     "name": "stdout",
     "output_type": "stream",
     "text": [
      "Matrix Product (A . B):\n",
      " [[209 195 169]\n",
      " [ 91  72  72]\n",
      " [198 183 149]]\n"
     ]
    }
   ],
   "source": [
    "# 12. Create two matrices ( A ) (3x4) and ( B ) (4x3), and compute the matrix product ( A ⋅ B ).\n",
    "A = np.random.randint(1, 10, (3, 4))\n",
    "B = np.random.randint(1, 10, (4, 3))\n",
    "matrix_product = np.dot(A, B)\n",
    "print(\"Matrix Product (A . B):\\n\", matrix_product)"
   ]
  },
  {
   "cell_type": "code",
   "execution_count": 46,
   "metadata": {},
   "outputs": [
    {
     "name": "stdout",
     "output_type": "stream",
     "text": [
      "Matrix-Vector Product:\n",
      " [[49]\n",
      " [82]\n",
      " [67]]\n"
     ]
    }
   ],
   "source": [
    "# 13. Create a 3x3 random matrix and a 3-element column vector. Compute the matrix-vector product.\n",
    "matrix_3x3 = np.random.randint(1, 10, (3, 3))\n",
    "vector_3 = np.random.randint(1, 10, (3, 1))\n",
    "matrix_vector_product = np.dot(matrix_3x3, vector_3)\n",
    "print(\"Matrix-Vector Product:\\n\", matrix_vector_product)"
   ]
  },
  {
   "cell_type": "code",
   "execution_count": 47,
   "metadata": {},
   "outputs": [
    {
     "name": "stdout",
     "output_type": "stream",
     "text": [
      "Solution (x):\n",
      " [[-0.5       ]\n",
      " [ 1.03571429]\n",
      " [ 0.21428571]]\n"
     ]
    }
   ],
   "source": [
    "# 14. Solve the linear system ( Ax = b ) where ( A ) is a 3x3 matrix, and ( b ) is a 3x1 column vector.\n",
    "A = np.random.randint(1, 10, (3, 3))\n",
    "b = np.random.randint(1, 10, (3, 1))\n",
    "x = np.linalg.solve(A, b)\n",
    "print(\"Solution (x):\\n\", x)"
   ]
  },
  {
   "cell_type": "code",
   "execution_count": 48,
   "metadata": {},
   "outputs": [
    {
     "name": "stdout",
     "output_type": "stream",
     "text": [
      "Row-wise Sums: [19 32 17 20 31]\n",
      "Column-wise Sums: [26 29 19 15 30]\n"
     ]
    }
   ],
   "source": [
    "# 15. Given a 5x5 matrix, find the row-wise and column-wise sums.\n",
    "matrix_5x5 = np.random.randint(1, 10, (5, 5))\n",
    "row_sums = np.sum(matrix_5x5, axis=1)\n",
    "column_sums = np.sum(matrix_5x5, axis=0)\n",
    "print(\"Row-wise Sums:\", row_sums)\n",
    "print(\"Column-wise Sums:\", column_sums)"
   ]
  }
 ],
 "metadata": {
  "kernelspec": {
   "display_name": "Python 3",
   "language": "python",
   "name": "python3"
  },
  "language_info": {
   "codemirror_mode": {
    "name": "ipython",
    "version": 3
   },
   "file_extension": ".py",
   "mimetype": "text/x-python",
   "name": "python",
   "nbconvert_exporter": "python",
   "pygments_lexer": "ipython3",
   "version": "3.13.2"
  }
 },
 "nbformat": 4,
 "nbformat_minor": 2
}
