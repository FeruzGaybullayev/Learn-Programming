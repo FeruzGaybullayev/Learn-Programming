{
 "cells": [
  {
   "cell_type": "code",
   "execution_count": 4,
   "metadata": {},
   "outputs": [],
   "source": [
    "universities = [\n",
    "    ['California Institute of Technology', 2175, 37704],\n",
    "    ['Harvard', 19627, 39849],\n",
    "    ['Massachusetts Institute of Technology', 10566, 40732],\n",
    "    ['Princeton', 7802, 37000],\n",
    "    ['Rice', 5879, 35551],\n",
    "    ['Stanford', 19535, 40569],\n",
    "    ['Yale', 11701, 40500]\n",
    "]"
   ]
  },
  {
   "cell_type": "code",
   "execution_count": null,
   "metadata": {},
   "outputs": [],
   "source": []
  },
  {
   "cell_type": "code",
   "execution_count": 61,
   "metadata": {},
   "outputs": [],
   "source": [
    "def enrollment_stats(universities):\n",
    "    import numpy as np\n",
    "    student_enrollment_values = [i[1] for i in universities]\n",
    "    tuition_fees = [j[2] for j in universities]\n",
    "\n",
    "    Total_students = \"{:,}\".format(sum(student_enrollment_values))\n",
    "    Total_tuition = \"{:,}\".format(sum(tuition_fees))\n",
    "    Student_mean = \"{:,}\".format(np.mean(student_enrollment_values))\n",
    "    Student_median = \"{:,}\".format(np.median(student_enrollment_values))\n",
    "\n",
    "    Tuition_mean = \"{:,}\".format(np.mean(tuition_fees))\n",
    "    Tuition_median = \"{:,}\".format(np.median(tuition_fees))\n",
    "    print(f\"\"\"\n",
    "******************************\n",
    "Total students: {round(Total_students, 3)}\n",
    "Total tuition: $ {Total_tuition}\n",
    "\n",
    "Student mean: {Student_mean}\n",
    "Student median: {Student_median}\n",
    "\n",
    "Tuition mean: $ {Tuition_mean}\n",
    "Tuition median: $ {Tuition_median}\n",
    "******************************\n",
    "\"\"\")"
   ]
  },
  {
   "cell_type": "code",
   "execution_count": 62,
   "metadata": {},
   "outputs": [
    {
     "ename": "TypeError",
     "evalue": "type str doesn't define __round__ method",
     "output_type": "error",
     "traceback": [
      "\u001b[1;31m---------------------------------------------------------------------------\u001b[0m",
      "\u001b[1;31mTypeError\u001b[0m                                 Traceback (most recent call last)",
      "Cell \u001b[1;32mIn[62], line 1\u001b[0m\n\u001b[1;32m----> 1\u001b[0m \u001b[43menrollment_stats\u001b[49m\u001b[43m(\u001b[49m\u001b[43muniversities\u001b[49m\u001b[43m)\u001b[49m\n",
      "Cell \u001b[1;32mIn[61], line 15\u001b[0m, in \u001b[0;36menrollment_stats\u001b[1;34m(universities)\u001b[0m\n\u001b[0;32m     11\u001b[0m     Tuition_mean \u001b[38;5;241m=\u001b[39m \u001b[38;5;124m\"\u001b[39m\u001b[38;5;132;01m{:,}\u001b[39;00m\u001b[38;5;124m\"\u001b[39m\u001b[38;5;241m.\u001b[39mformat(np\u001b[38;5;241m.\u001b[39mmean(tuition_fees))\n\u001b[0;32m     12\u001b[0m     Tuition_median \u001b[38;5;241m=\u001b[39m \u001b[38;5;124m\"\u001b[39m\u001b[38;5;132;01m{:,}\u001b[39;00m\u001b[38;5;124m\"\u001b[39m\u001b[38;5;241m.\u001b[39mformat(np\u001b[38;5;241m.\u001b[39mmedian(tuition_fees))\n\u001b[0;32m     13\u001b[0m     \u001b[38;5;28mprint\u001b[39m(\u001b[38;5;124mf\u001b[39m\u001b[38;5;124m\"\"\"\u001b[39m\n\u001b[0;32m     14\u001b[0m \u001b[38;5;124m******************************\u001b[39m\n\u001b[1;32m---> 15\u001b[0m \u001b[38;5;124mTotal students: \u001b[39m\u001b[38;5;132;01m{\u001b[39;00m\u001b[38;5;28;43mround\u001b[39;49m\u001b[43m(\u001b[49m\u001b[43mTotal_students\u001b[49m\u001b[43m,\u001b[49m\u001b[38;5;250;43m \u001b[39;49m\u001b[38;5;241;43m3\u001b[39;49m\u001b[43m)\u001b[49m\u001b[38;5;132;01m}\u001b[39;00m\n\u001b[0;32m     16\u001b[0m \u001b[38;5;124mTotal tuition: $ \u001b[39m\u001b[38;5;132;01m{\u001b[39;00mTotal_tuition\u001b[38;5;132;01m}\u001b[39;00m\n\u001b[0;32m     17\u001b[0m \n\u001b[0;32m     18\u001b[0m \u001b[38;5;124mStudent mean: \u001b[39m\u001b[38;5;132;01m{\u001b[39;00mStudent_mean\u001b[38;5;132;01m}\u001b[39;00m\n\u001b[0;32m     19\u001b[0m \u001b[38;5;124mStudent median: \u001b[39m\u001b[38;5;132;01m{\u001b[39;00mStudent_median\u001b[38;5;132;01m}\u001b[39;00m\n\u001b[0;32m     20\u001b[0m \n\u001b[0;32m     21\u001b[0m \u001b[38;5;124mTuition mean: $ \u001b[39m\u001b[38;5;132;01m{\u001b[39;00mTuition_mean\u001b[38;5;132;01m}\u001b[39;00m\n\u001b[0;32m     22\u001b[0m \u001b[38;5;124mTuition median: $ \u001b[39m\u001b[38;5;132;01m{\u001b[39;00mTuition_median\u001b[38;5;132;01m}\u001b[39;00m\n\u001b[0;32m     23\u001b[0m \u001b[38;5;124m******************************\u001b[39m\n\u001b[0;32m     24\u001b[0m \u001b[38;5;124m\"\"\"\u001b[39m)\n",
      "\u001b[1;31mTypeError\u001b[0m: type str doesn't define __round__ method"
     ]
    }
   ],
   "source": [
    "enrollment_stats(universities)"
   ]
  },
  {
   "cell_type": "code",
   "execution_count": 63,
   "metadata": {},
   "outputs": [],
   "source": [
    "import numpy as np\n",
    "\n",
    "def enrollment_stats(universities):\n",
    "    # Extract student enrollment and tuition fees\n",
    "    student_enrollment_values = [i[1] for i in universities]\n",
    "    tuition_fees = [j[2] for j in universities]\n",
    "\n",
    "    # Calculate totals, means, and medians\n",
    "    total_students = sum(student_enrollment_values)\n",
    "    total_tuition = sum(tuition_fees)\n",
    "    student_mean = np.mean(student_enrollment_values)\n",
    "    student_median = np.median(student_enrollment_values)\n",
    "    tuition_mean = np.mean(tuition_fees)\n",
    "    tuition_median = np.median(tuition_fees)\n",
    "\n",
    "    # Format the results\n",
    "    formatted_total_students = \"{:,}\".format(total_students)\n",
    "    formatted_total_tuition = \"${:,.2f}\".format(total_tuition)  # Format with $ and two decimals\n",
    "    formatted_student_mean = \"{:,.2f}\".format(student_mean)\n",
    "    formatted_student_median = \"{:,.2f}\".format(student_median)\n",
    "    formatted_tuition_mean = \"${:,.2f}\".format(tuition_mean)\n",
    "    formatted_tuition_median = \"${:,.2f}\".format(tuition_median)\n",
    "\n",
    "    # Print the results\n",
    "    print(f\"\"\"\n",
    "******************************\n",
    "Total students: {formatted_total_students}\n",
    "Total tuition: {formatted_total_tuition}\n",
    "\n",
    "Student mean: {formatted_student_mean}\n",
    "Student median: {formatted_student_median}\n",
    "\n",
    "Tuition mean: {formatted_tuition_mean}\n",
    "Tuition median: {formatted_tuition_median}\n",
    "******************************\n",
    "\"\"\")\n"
   ]
  },
  {
   "cell_type": "code",
   "execution_count": 64,
   "metadata": {},
   "outputs": [
    {
     "name": "stdout",
     "output_type": "stream",
     "text": [
      "\n",
      "******************************\n",
      "Total students: 77,285\n",
      "Total tuition: $271,905.00\n",
      "\n",
      "Student mean: 11,040.71\n",
      "Student median: 10,566.00\n",
      "\n",
      "Tuition mean: $38,843.57\n",
      "Tuition median: $39,849.00\n",
      "******************************\n",
      "\n"
     ]
    }
   ],
   "source": [
    "enrollment_stats(universities)"
   ]
  },
  {
   "cell_type": "code",
   "execution_count": null,
   "metadata": {},
   "outputs": [],
   "source": []
  }
 ],
 "metadata": {
  "kernelspec": {
   "display_name": "Python 3",
   "language": "python",
   "name": "python3"
  },
  "language_info": {
   "codemirror_mode": {
    "name": "ipython",
    "version": 3
   },
   "file_extension": ".py",
   "mimetype": "text/x-python",
   "name": "python",
   "nbconvert_exporter": "python",
   "pygments_lexer": "ipython3",
   "version": "3.12.9"
  }
 },
 "nbformat": 4,
 "nbformat_minor": 2
}
